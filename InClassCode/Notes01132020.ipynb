{
  "nbformat": 4,
  "nbformat_minor": 0,
  "metadata": {
    "colab": {
      "name": "Notes01132020.ipynb",
      "provenance": [],
      "collapsed_sections": []
    },
    "kernelspec": {
      "name": "python3",
      "display_name": "Python 3"
    }
  },
  "cells": [
    {
      "cell_type": "markdown",
      "metadata": {
        "id": "0Zpl7pt2it4i",
        "colab_type": "text"
      },
      "source": [
        "# InClass 01132020 - variable names, lists, slicing, for loops"
      ]
    },
    {
      "cell_type": "markdown",
      "metadata": {
        "id": "zKN5d6trizTc",
        "colab_type": "text"
      },
      "source": [
        "## A few notes about legal variable names\n",
        "* A variable cannot start with a number.\n",
        "* Variables are case-sensitive (MyVar and myvar and myVar are all different!)\n",
        "* A variable has to start with a letter or an underscore\n",
        "* A variable can only contain letters, numbers, and underscores\n"
      ]
    },
    {
      "cell_type": "code",
      "metadata": {
        "id": "SWpbgeQfi2wS",
        "colab_type": "code",
        "colab": {}
      },
      "source": [
        "# these two variables might be pronounced the same, but they are different! \n",
        "# python respects capitalization...so the cap \"V\" in the second makes it a \n",
        "# totally different object than the first variable\n",
        "myvar = 10\n",
        "myVar = 100\n",
        "print(myvar)\n",
        "print(myVar)"
      ],
      "execution_count": 0,
      "outputs": []
    },
    {
      "cell_type": "markdown",
      "metadata": {
        "id": "3BNmtJk5zL_z",
        "colab_type": "text"
      },
      "source": [
        "### can't start with a number"
      ]
    },
    {
      "cell_type": "code",
      "metadata": {
        "id": "I6YEL6Ohjeds",
        "colab_type": "code",
        "colab": {}
      },
      "source": [
        "1var = 10"
      ],
      "execution_count": 0,
      "outputs": []
    },
    {
      "cell_type": "markdown",
      "metadata": {
        "id": "ETr3xrIjEWig",
        "colab_type": "text"
      },
      "source": [
        "## Lists - a collection that is ordered and changeable. Allows duplicate members."
      ]
    },
    {
      "cell_type": "code",
      "metadata": {
        "id": "NUVxUCKAimIr",
        "colab_type": "code",
        "colab": {}
      },
      "source": [
        "# this is a single string object, like we did last week \n",
        "\n",
        "a_str = 'john'\n",
        "print(a_str)"
      ],
      "execution_count": 0,
      "outputs": []
    },
    {
      "cell_type": "code",
      "metadata": {
        "id": "V7KsBZ1L_qIy",
        "colab_type": "code",
        "colab": {}
      },
      "source": [
        "# introduction to lists - in this case a list of strings!\n",
        "names = ['bob', 'vy', 'sunyoung', 'maggie']\n",
        "\n",
        "# we start indexing with 0!!!\n",
        "# so this is the first name\n",
        "print(names[0])\n",
        "\n",
        "# this is the 3rd name...etc\n",
        "print(names[2])"
      ],
      "execution_count": 0,
      "outputs": []
    },
    {
      "cell_type": "markdown",
      "metadata": {
        "id": "LhFMXWIz82eO",
        "colab_type": "text"
      },
      "source": [
        "#### If you want to find the last element in a list and you don't know how long the list is, then just start indexing from the end.\n",
        "* -1 is the last element\n",
        "* -3 is the third to last, etc."
      ]
    },
    {
      "cell_type": "code",
      "metadata": {
        "id": "vhJcl_IQ9CZZ",
        "colab_type": "code",
        "colab": {}
      },
      "source": [
        "print(names[-1])\n",
        "print(names[-3])"
      ],
      "execution_count": 0,
      "outputs": []
    },
    {
      "cell_type": "markdown",
      "metadata": {
        "id": "vTG4qEdwK6Da",
        "colab_type": "text"
      },
      "source": [
        "## you can also make a list using a bunch of str variables"
      ]
    },
    {
      "cell_type": "code",
      "metadata": {
        "id": "J99Jr6zOipO-",
        "colab_type": "code",
        "colab": {}
      },
      "source": [
        "str1 = 'bob'\n",
        "str2 = 'vy'\n",
        "str3 = 'sunyoung'\n",
        "names = [str1, str2, str3]\n",
        "print(names[1])\n",
        "\n",
        "# this is handy if you later want to re-use the same variables to make another list\n",
        "names2 = [str3, str2, str1]"
      ],
      "execution_count": 0,
      "outputs": []
    },
    {
      "cell_type": "markdown",
      "metadata": {
        "id": "aQjO_TeMkM6V",
        "colab_type": "text"
      },
      "source": [
        "## sorting a list\n",
        "* this is a **method** - or a function that is specifically associated with this object type\n",
        "* first by actually modifying the list\n",
        "* without modifying"
      ]
    },
    {
      "cell_type": "code",
      "metadata": {
        "id": "M8RB7fPyAyqz",
        "colab_type": "code",
        "colab": {}
      },
      "source": [
        "names = ['toyota', 'ford']\n",
        "\n",
        "# perm sort a list in alpha order\n",
        "# this will alter 'names' (can't undo)\n",
        "names.sort()\n",
        "print(names)"
      ],
      "execution_count": 0,
      "outputs": []
    },
    {
      "cell_type": "markdown",
      "metadata": {
        "id": "DJd8eNRsibe9",
        "colab_type": "text"
      },
      "source": [
        "### sort without modifying using the sorted function\n",
        "* note that sorted is a general use **function** that can be used across multiple object types, not just for lists"
      ]
    },
    {
      "cell_type": "code",
      "metadata": {
        "id": "ljf2lIOgihP5",
        "colab_type": "code",
        "colab": {}
      },
      "source": [
        "names = ['john', 'vy', 'sunyoung', 'maggie']\n",
        "# sort without modifying\n",
        "print(sorted(names))\n",
        "print(names)"
      ],
      "execution_count": 0,
      "outputs": []
    },
    {
      "cell_type": "markdown",
      "metadata": {
        "id": "PM0GOfpbkl4Y",
        "colab_type": "text"
      },
      "source": [
        "## Remove (delete) an item from a list"
      ]
    },
    {
      "cell_type": "code",
      "metadata": {
        "id": "aLIciuPtBoNn",
        "colab_type": "code",
        "colab": {}
      },
      "source": [
        "# redefine names list\n",
        "names = ['john', 'vy', 'sunyoung', 'maggie']\n",
        "\n",
        "print(names)\n",
        "\n",
        "# remove items from a list\n",
        "# remove first item...\n",
        "del names[0]\n",
        "print(names)"
      ],
      "execution_count": 0,
      "outputs": []
    },
    {
      "cell_type": "markdown",
      "metadata": {
        "id": "c96oxnL1kgyE",
        "colab_type": "text"
      },
      "source": [
        "## Pop an item from a list and assign to another variable"
      ]
    },
    {
      "cell_type": "code",
      "metadata": {
        "id": "2xOwl4jXkjgx",
        "colab_type": "code",
        "colab": {}
      },
      "source": [
        "# redefine names list\n",
        "names = ['john', 'vy', 'sunyoung', 'maggie']\n",
        "\n",
        "# pop an item - can also pass index to pop() method (e.g. pop(1))\n",
        "last_name = names.pop()\n",
        "print(last_name)\n",
        "\n",
        "print(names)"
      ],
      "execution_count": 0,
      "outputs": []
    },
    {
      "cell_type": "markdown",
      "metadata": {
        "id": "6V7q_DkslcHt",
        "colab_type": "text"
      },
      "source": [
        "## Quick intro to 'range' function \n",
        "* Create a sequence of numbers\n",
        "* non-inclusive of stop value"
      ]
    },
    {
      "cell_type": "code",
      "metadata": {
        "id": "0Rr8bxX8lkfp",
        "colab_type": "code",
        "colab": {}
      },
      "source": [
        "x = range(0,15)\n",
        "print(x[-1])\n"
      ],
      "execution_count": 0,
      "outputs": []
    },
    {
      "cell_type": "markdown",
      "metadata": {
        "id": "UvbCny6Vl3EY",
        "colab_type": "text"
      },
      "source": [
        "### Make a list using the range function..."
      ]
    },
    {
      "cell_type": "code",
      "metadata": {
        "id": "YMuQEgwlltDe",
        "colab_type": "code",
        "colab": {}
      },
      "source": [
        "# 0-14 (non inclusive of the last number!)\n",
        "x = list(range(0,15))\n",
        "print(x)"
      ],
      "execution_count": 0,
      "outputs": []
    },
    {
      "cell_type": "markdown",
      "metadata": {
        "id": "uHuPuaTo9_Lf",
        "colab_type": "text"
      },
      "source": [
        "### Start value, stop value, step value\n",
        "* make a sequence that increments/decrements at a specified step size"
      ]
    },
    {
      "cell_type": "code",
      "metadata": {
        "id": "M7dxYedLxlG8",
        "colab_type": "code",
        "colab": {}
      },
      "source": [
        "skip_num = list(range(0,100,20))\n",
        "print(skip_num)\n",
        "\n",
        "skip_num = list(range(30,0,-10))\n",
        "print(skip_num)"
      ],
      "execution_count": 0,
      "outputs": []
    }
  ]
}
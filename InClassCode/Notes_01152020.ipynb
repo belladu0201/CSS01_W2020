{
  "nbformat": 4,
  "nbformat_minor": 0,
  "metadata": {
    "colab": {
      "name": "Notes_01152020.ipynb",
      "provenance": [],
      "collapsed_sections": []
    },
    "kernelspec": {
      "name": "python3",
      "display_name": "Python 3"
    }
  },
  "cells": [
    {
      "cell_type": "markdown",
      "metadata": {
        "id": "4ErJ_4wJ2lIh",
        "colab_type": "text"
      },
      "source": [
        "# In class code for 011520120\n",
        "* in, not in operator\n",
        "* slicing lists"
      ]
    },
    {
      "cell_type": "markdown",
      "metadata": {
        "id": "bMDrXi5sT-Vo",
        "colab_type": "text"
      },
      "source": [
        "## The in operator (and not in)\n",
        "* also mixed types in a list\n",
        "* boolean (True/False)"
      ]
    },
    {
      "cell_type": "code",
      "metadata": {
        "id": "VHempJJ4cjeL",
        "colab_type": "code",
        "colab": {}
      },
      "source": [
        "a_lst = [18, 'john', 'Kexin', 24]\n",
        "print(a_lst)\n",
        "\n",
        "print(18 in a_lst)\n",
        "print('john' not in a_lst)"
      ],
      "execution_count": 0,
      "outputs": []
    },
    {
      "cell_type": "markdown",
      "metadata": {
        "id": "eZqCyupk4Cm3",
        "colab_type": "text"
      },
      "source": [
        "## Slicing (indexing into lists)\n",
        "* use range to make a list of numbers!\n",
        "* start, stop, non-inclusive"
      ]
    },
    {
      "cell_type": "code",
      "metadata": {
        "id": "61SkPlBS4JTB",
        "colab_type": "code",
        "colab": {}
      },
      "source": [
        "x = list(range(0,15)) \n",
        "\n",
        "# pull the first three numbers - non inclusive!\n",
        "print(x[0:3])"
      ],
      "execution_count": 0,
      "outputs": []
    },
    {
      "cell_type": "code",
      "metadata": {
        "id": "n1wZ6dVUxDoI",
        "colab_type": "code",
        "colab": {}
      },
      "source": [
        "# same thing\n",
        "print(x[:3])"
      ],
      "execution_count": 0,
      "outputs": []
    },
    {
      "cell_type": "code",
      "metadata": {
        "id": "qs_mvk2uxFMS",
        "colab_type": "code",
        "colab": {}
      },
      "source": [
        "# 3rd to end\n",
        "print(x[2:10])"
      ],
      "execution_count": 0,
      "outputs": []
    },
    {
      "cell_type": "code",
      "metadata": {
        "id": "9ynTQ7fmxGhx",
        "colab_type": "code",
        "colab": {}
      },
      "source": [
        "# last element\n",
        "print(x[-1])"
      ],
      "execution_count": 0,
      "outputs": []
    },
    {
      "cell_type": "markdown",
      "metadata": {
        "id": "YX_9pU7MxjFp",
        "colab_type": "text"
      },
      "source": [
        "### start, stop, step...non-inclusive\n",
        "* can make the start and stop explicit, or can just use : if you want it all..."
      ]
    },
    {
      "cell_type": "code",
      "metadata": {
        "id": "A8HIwJHoxH25",
        "colab_type": "code",
        "colab": {}
      },
      "source": [
        "# stepping through list of numbers - every other\n",
        "print(x[0:15:2])"
      ],
      "execution_count": 0,
      "outputs": []
    },
    {
      "cell_type": "code",
      "metadata": {
        "id": "agszX3HrxJCh",
        "colab_type": "code",
        "colab": {}
      },
      "source": [
        "# same thing (start at begin of list, go to the end, step size of 2)\n",
        "print(x[::2])\n",
        "# print(x[4::2]) # specify just the start, go till end\n",
        "# print(x[:11:2]) # specify just the stop, start at first element. "
      ],
      "execution_count": 0,
      "outputs": []
    },
    {
      "cell_type": "markdown",
      "metadata": {
        "id": "cZEw-329yF2c",
        "colab_type": "text"
      },
      "source": [
        "### Entire list, step size of -1, starting at the end\n",
        "* this reverses the list!\n"
      ]
    },
    {
      "cell_type": "code",
      "metadata": {
        "id": "VLOP7ruzxKRJ",
        "colab_type": "code",
        "colab": {}
      },
      "source": [
        "print(x[::-1])"
      ],
      "execution_count": 0,
      "outputs": []
    },
    {
      "cell_type": "code",
      "metadata": {
        "id": "-q4EQDNRxPNl",
        "colab_type": "code",
        "colab": {}
      },
      "source": [
        "# step based on counting from the end\n",
        "print(x[::-2])"
      ],
      "execution_count": 0,
      "outputs": []
    },
    {
      "cell_type": "markdown",
      "metadata": {
        "id": "Bd27g-aj0jz8",
        "colab_type": "text"
      },
      "source": [
        "# Q questions 1-2"
      ]
    },
    {
      "cell_type": "markdown",
      "metadata": {
        "id": "YxbWn9CBB9KD",
        "colab_type": "text"
      },
      "source": [
        "## Views vs copies\n",
        "* views share the same data\n",
        "  * so changing one will change the other\n",
        "* copies have independent data\n",
        "  * so changing one will not affect the other"
      ]
    },
    {
      "cell_type": "code",
      "metadata": {
        "id": "cP69FBch7cam",
        "colab_type": "code",
        "colab": {}
      },
      "source": [
        "# view vs copy\n",
        "\n",
        "# first create a list of numbers\n",
        "x = list(range(0,3))\n",
        "\n",
        "# create a view of the list\n",
        "# if you create a view, x and y will be referencing (looking at, referring to) the same data\n",
        "# here if you modify y, that will also change x\n",
        "y = x\n",
        "\n",
        "# should give the same output...\n",
        "print(x)\n",
        "print(y)\n",
        "   "
      ],
      "execution_count": 0,
      "outputs": []
    },
    {
      "cell_type": "markdown",
      "metadata": {
        "id": "_tWkeQj8232z",
        "colab_type": "text"
      },
      "source": [
        "### Now modify y to see what happens to x\n",
        "* even though you don't explicitly change 'x', it changes because it refers to the same data as 'y'"
      ]
    },
    {
      "cell_type": "code",
      "metadata": {
        "id": "f_WclS5ylNqx",
        "colab_type": "code",
        "colab": {}
      },
      "source": [
        "print('original x: ', x)\n",
        "y[0] = 10\n",
        "print('new x: ', x)\n",
        "print('new y: ', y)"
      ],
      "execution_count": 0,
      "outputs": []
    },
    {
      "cell_type": "markdown",
      "metadata": {
        "id": "Zm3z9CBylGnW",
        "colab_type": "text"
      },
      "source": [
        "### **Copy** - independent variable that is separate from the original \n",
        "* slicing and then re-assigning to a new variable automatically makes a copy, not a view\n",
        "* can also use the copy() method"
      ]
    },
    {
      "cell_type": "code",
      "metadata": {
        "id": "mELfEpQIlIw5",
        "colab_type": "code",
        "colab": {}
      },
      "source": [
        "# create a copy this time, which will make \n",
        "# an indepent object y that contains its own\n",
        "# copy of the data in x\n",
        "x = list(range(0,3))\n",
        "y = x[:]   # slicing makes a copy!\n",
        "# y = x.copy()\n",
        "\n",
        "y[0] = 10\n",
        "\n",
        "print(x)\n",
        "print(y)"
      ],
      "execution_count": 0,
      "outputs": []
    },
    {
      "cell_type": "markdown",
      "metadata": {
        "id": "47sb723b9E8g",
        "colab_type": "text"
      },
      "source": [
        "## Tuple object type\n",
        "* tuples are like lists, but they are immutable. \n",
        "* use the ()\n",
        "* can't sort as they are immutable (so no sort method), but can use the general 'sorted()' function\n"
      ]
    },
    {
      "cell_type": "code",
      "metadata": {
        "id": "x03XRVZ19IL_",
        "colab_type": "code",
        "colab": {}
      },
      "source": [
        "# make a tuple using () (instead of [] for a list)\n",
        "a_tuple = ('john', 'enrique', 'mariela')\n",
        "\n",
        "print(a_tuple[1])\n",
        "\n",
        "# can't modify contents\n",
        "# a_tuple[0] = 'bob'\n",
        "# print(a_tuple)\n",
        "\n",
        "# but you can reasign it. \n",
        "a_tuple = ('adnan', 'shreya', 'ralph')\n",
        "print(a_tuple)"
      ],
      "execution_count": 0,
      "outputs": []
    },
    {
      "cell_type": "markdown",
      "metadata": {
        "id": "fPA85EBNgkt9",
        "colab_type": "text"
      },
      "source": [
        "### Tuple packing/unpacking\n",
        "* When writing functions (will learn about soon), you can only return one variable\n",
        "* however, that variable can be a tuple, allowing you to actually return multiple variables, all packed into one tuple object\n",
        "* **need to be really careful when unpacking - if you get the wrong variable in the wrong place, it will still work but then you might swap name/age (or whatever your variables are)**"
      ]
    },
    {
      "cell_type": "code",
      "metadata": {
        "id": "y79KKzrUgn-Z",
        "colab_type": "code",
        "colab": {}
      },
      "source": [
        "# set up a tuple to store user info\n",
        "usr_data = ('John', 41, 'CA')\n",
        "print(usr_data)"
      ],
      "execution_count": 0,
      "outputs": []
    },
    {
      "cell_type": "code",
      "metadata": {
        "id": "xwwgm9YOgvQ8",
        "colab_type": "code",
        "colab": {}
      },
      "source": [
        "# unpack the tuple into the 'pieces'...\n",
        "(name, age, residence) = usr_data\n",
        "\n",
        "# bad\n",
        "# (age, name, residence) = usr_data\n",
        "\n",
        "print('name:', name)\n",
        "print('age:', age)\n",
        "print('residence:', residence)"
      ],
      "execution_count": 0,
      "outputs": []
    }
  ]
}
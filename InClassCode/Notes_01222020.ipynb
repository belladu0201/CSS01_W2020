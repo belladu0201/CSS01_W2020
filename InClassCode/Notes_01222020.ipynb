{
  "nbformat": 4,
  "nbformat_minor": 0,
  "metadata": {
    "colab": {
      "name": "Notes_01222020.ipynb",
      "provenance": [],
      "collapsed_sections": []
    },
    "kernelspec": {
      "name": "python3",
      "display_name": "Python 3"
    }
  },
  "cells": [
    {
      "cell_type": "markdown",
      "metadata": {
        "id": "Y1r-GrWCQ9OV",
        "colab_type": "text"
      },
      "source": [
        "# In Class notes 01222020\n",
        "* For loops [good reference page here](https://www.w3schools.com/python/python_for_loops.asp)\n",
        "* Boolean logic and equivalence testing\n",
        "* If...elif...else control statements"
      ]
    },
    {
      "cell_type": "markdown",
      "metadata": {
        "id": "RUE4VKGlT2-a",
        "colab_type": "text"
      },
      "source": [
        "## For loops\n",
        "* repeat an operation or set of operations a specified number of times \n",
        "* iterate over items in a sequence (e.g. a string, a list, etc)\n",
        "* syntax can be read: for each item in a sequence, do:\n",
        "* indentation"
      ]
    },
    {
      "cell_type": "code",
      "metadata": {
        "id": "7JZPqO7kYSuV",
        "colab_type": "code",
        "colab": {}
      },
      "source": [
        "# iterate over characters in a string\n",
        "for each_letter in 'funny things happen':\n",
        "  print(each_letter)\n",
        "  #print(each_letter.upper())\n",
        "\n",
        "#print(each_letter)"
      ],
      "execution_count": 0,
      "outputs": []
    },
    {
      "cell_type": "markdown",
      "metadata": {
        "id": "-FKespeTyTJo",
        "colab_type": "text"
      },
      "source": [
        "### Loop over elements in a list"
      ]
    },
    {
      "cell_type": "code",
      "metadata": {
        "id": "Tz4eLFKLvHwc",
        "colab_type": "code",
        "colab": {}
      },
      "source": [
        "names = ['pauline', 'zhentao', 'mariela']\n",
        "\n",
        "for name in names:\n",
        "  print(name)"
      ],
      "execution_count": 0,
      "outputs": []
    },
    {
      "cell_type": "markdown",
      "metadata": {
        "id": "zV4UwqkDZbS6",
        "colab_type": "text"
      },
      "source": [
        "### Apply a method to each item in a list"
      ]
    },
    {
      "cell_type": "code",
      "metadata": {
        "id": "r4xWXrFNN7sc",
        "colab_type": "code",
        "colab": {}
      },
      "source": [
        "names = ['courtney', 'ayoung', 'madison']\n",
        "\n",
        "for name in names:\n",
        "  # print each name in title format\n",
        "  print(name.title())"
      ],
      "execution_count": 0,
      "outputs": []
    },
    {
      "cell_type": "markdown",
      "metadata": {
        "id": "loqF3_mdwIBi",
        "colab_type": "text"
      },
      "source": [
        "### Generate an \"iterable\" set of numbers using the 'range' function"
      ]
    },
    {
      "cell_type": "code",
      "metadata": {
        "id": "YCLlFZiKwpkC",
        "colab_type": "code",
        "colab": {}
      },
      "source": [
        "for i in range(0,5):\n",
        "  print(i)\n",
        "\n",
        "  print((i*10)+5)"
      ],
      "execution_count": 0,
      "outputs": []
    },
    {
      "cell_type": "markdown",
      "metadata": {
        "id": "IA4ZVzRDyyrU",
        "colab_type": "text"
      },
      "source": [
        "### Can use for other purposes as well\n",
        "* fill up a list with numbers, after doing some operation on the numbers\n",
        "* Introduce the 'append' method for list objects"
      ]
    },
    {
      "cell_type": "code",
      "metadata": {
        "id": "QAHFiRvZy5J8",
        "colab_type": "code",
        "colab": {}
      },
      "source": [
        "lst_squares = []\n",
        "nums = range(0,6)\n",
        "\n",
        "print(nums)\n",
        "\n",
        "for number in nums:\n",
        "  lst_squares.append(number**2)\n",
        "  \n",
        "print(lst_squares)"
      ],
      "execution_count": 0,
      "outputs": []
    },
    {
      "cell_type": "markdown",
      "metadata": {
        "id": "pSafi0oq0U87",
        "colab_type": "text"
      },
      "source": [
        "### Use nested for loops to operate over all elements in multiple lists\n",
        "* in this example we'll make two lists of numbers and then will multiply every element of the first array with every element of the second array. "
      ]
    },
    {
      "cell_type": "code",
      "metadata": {
        "id": "UtvWQNKtIJoD",
        "colab_type": "code",
        "colab": {}
      },
      "source": [
        "x = list(range(0,5))\n",
        "y = list(range(10,15))\n",
        "\n",
        "for num1 in x:\n",
        "  for num2 in y:\n",
        "    print(str(num1), str(num2), 'Product:', str(num1 * num2))"
      ],
      "execution_count": 0,
      "outputs": []
    },
    {
      "cell_type": "markdown",
      "metadata": {
        "id": "mOAjkckzCPVf",
        "colab_type": "text"
      },
      "source": [
        "### Use a list of numbers to index into another list \n",
        "* can change the order of the list by changing the range\n",
        "* this is often useful when you only want to loop over a subset of an array"
      ]
    },
    {
      "cell_type": "code",
      "metadata": {
        "id": "soopPeG36ucM",
        "colab_type": "code",
        "colab": {}
      },
      "source": [
        "# make a range of numbers\n",
        "x = range(0,3)\n",
        "x = range(2,-1,-1) # remember that range starts at the first value, but does not include the stop value (so stops at 0 in this case!)\n",
        "\n",
        "# make a list of names\n",
        "names = ['cho-chang', 'valeria', 'sabina']\n",
        "\n",
        "for num in x:\n",
        "  # using our range of numbers to index into another list\n",
        "  print(names[num])"
      ],
      "execution_count": 0,
      "outputs": []
    },
    {
      "cell_type": "markdown",
      "metadata": {
        "id": "qyBR8yGJ97HW",
        "colab_type": "text"
      },
      "source": [
        "### Another example of an embedded loop...\n",
        "* introduction to += operator"
      ]
    },
    {
      "cell_type": "code",
      "metadata": {
        "id": "ApN41ZMCm0vN",
        "colab_type": "code",
        "colab": {}
      },
      "source": [
        "# use embedded loops to go over multiple lists (or sequences of numbers, whatever)\n",
        "x = list(range(0,3))\n",
        "y = list(range(0,3))\n",
        "\n",
        "print(x)\n",
        "print(y)\n",
        "\n",
        "out = 0\n",
        "for i in x:\n",
        "  for j in y:\n",
        "    # assign after summing current value with RHS\n",
        "    out += (i*j)\n",
        "    \n",
        "print(out)"
      ],
      "execution_count": 0,
      "outputs": []
    },
    {
      "cell_type": "markdown",
      "metadata": {
        "id": "93lksJVBqsNv",
        "colab_type": "text"
      },
      "source": [
        "## Boolean logic and equivalence testing\n",
        "* remember that a single = is the \"assignment\" operator, so x = y reads \"x is assigned y\"\n",
        "* the == syntax is a test for equivalence, so x==y reads \"does x equal y?\"\n"
      ]
    },
    {
      "cell_type": "code",
      "metadata": {
        "id": "suowzL7Nxn6x",
        "colab_type": "code",
        "colab": {}
      },
      "source": [
        "0 == 0 "
      ],
      "execution_count": 0,
      "outputs": []
    },
    {
      "cell_type": "code",
      "metadata": {
        "id": "iatYt_FKx4hl",
        "colab_type": "code",
        "colab": {}
      },
      "source": [
        "0 == 1"
      ],
      "execution_count": 0,
      "outputs": []
    },
    {
      "cell_type": "code",
      "metadata": {
        "id": "1Wa3DRJ-yGat",
        "colab_type": "code",
        "colab": {}
      },
      "source": [
        "n = 'in'\n",
        "x = 'In'\n",
        "\n",
        "print(n==x)\n",
        "print(n.upper()==x.upper())"
      ],
      "execution_count": 0,
      "outputs": []
    },
    {
      "cell_type": "markdown",
      "metadata": {
        "id": "gjwUt7mDTbre",
        "colab_type": "text"
      },
      "source": [
        "### The \"not\" operator can be used to see if two expressions are not equivalent"
      ]
    },
    {
      "cell_type": "code",
      "metadata": {
        "id": "PSexZn_vynN0",
        "colab_type": "code",
        "colab": {}
      },
      "source": [
        "# not operator\n",
        "n != x"
      ],
      "execution_count": 0,
      "outputs": []
    },
    {
      "cell_type": "markdown",
      "metadata": {
        "id": "hLihloK7Tldn",
        "colab_type": "text"
      },
      "source": [
        "### Greater than, less than"
      ]
    },
    {
      "cell_type": "code",
      "metadata": {
        "id": "2auGTwH9y4Ke",
        "colab_type": "code",
        "colab": {}
      },
      "source": [
        "x = 5\n",
        "y = 6\n",
        "\n",
        "x < y"
      ],
      "execution_count": 0,
      "outputs": []
    },
    {
      "cell_type": "markdown",
      "metadata": {
        "id": "6TA6w-XopAvI",
        "colab_type": "text"
      },
      "source": [
        "### logical and, or\n",
        "* are x AND y both true? \n",
        "* is x OR y true?"
      ]
    },
    {
      "cell_type": "code",
      "metadata": {
        "id": "gxCdCaQWzE0Q",
        "colab_type": "code",
        "colab": {}
      },
      "source": [
        "# logical and - will return true if and only if all statement eval to true\n",
        "x = 5\n",
        "y = 6\n",
        "z = 5\n",
        "w = 8\n",
        "\n",
        "x < y and z < w and y < w"
      ],
      "execution_count": 0,
      "outputs": []
    },
    {
      "cell_type": "code",
      "metadata": {
        "id": "_idxCgqKzg-x",
        "colab_type": "code",
        "colab": {}
      },
      "source": [
        "# logical or - will return true if ANY statement evals to true\n",
        "x = 5\n",
        "y = 6\n",
        "z = 5\n",
        "w = 8\n",
        "\n",
        "print(x > y or z < w)\n",
        "\n",
        "# can string together and and or operators...\n",
        "((x < y) and (z < w)) or (y > w)\n"
      ],
      "execution_count": 0,
      "outputs": []
    },
    {
      "cell_type": "markdown",
      "metadata": {
        "id": "myZqtktqT1FK",
        "colab_type": "text"
      },
      "source": [
        "## If...then statements\n",
        "* test a conditional statement, if true, then do one thing, if false, then do something else..."
      ]
    },
    {
      "cell_type": "code",
      "metadata": {
        "id": "nJGkKEKGT9tU",
        "colab_type": "code",
        "colab": {}
      },
      "source": [
        "# simple example using if...else\n",
        "x = 5\n",
        "y = 3\n",
        "\n",
        "if (x < y):\n",
        "  print('harry wins!')\n",
        "else:\n",
        "  print('malfoy wins!')"
      ],
      "execution_count": 0,
      "outputs": []
    },
    {
      "cell_type": "markdown",
      "metadata": {
        "id": "I6EH2dHfWfKo",
        "colab_type": "text"
      },
      "source": [
        "### Indentation matters!\n",
        "* indentation is how Python figures out which statements belong to which part of a if...else structure "
      ]
    },
    {
      "cell_type": "code",
      "metadata": {
        "id": "tMG9RK-OWie-",
        "colab_type": "code",
        "colab": {}
      },
      "source": [
        "# simple example using if...else\n",
        "x = 5\n",
        "y = 6\n",
        "\n",
        "if (x < y):\n",
        "  print('thor wins!')\n",
        "\n",
        "else:\n",
        "  print('hulk wins!')\n",
        "\n",
        "print('En Dwi wins!')"
      ],
      "execution_count": 0,
      "outputs": []
    },
    {
      "cell_type": "code",
      "metadata": {
        "id": "KCm1WwnNWnzR",
        "colab_type": "code",
        "colab": {}
      },
      "source": [
        ""
      ],
      "execution_count": 0,
      "outputs": []
    },
    {
      "cell_type": "markdown",
      "metadata": {
        "id": "1a3detXeUTPd",
        "colab_type": "text"
      },
      "source": [
        "### If...elif...else syntax\n",
        "* used to test a series of conditionals"
      ]
    },
    {
      "cell_type": "code",
      "metadata": {
        "id": "lilq2IJXT8VW",
        "colab_type": "code",
        "colab": {}
      },
      "source": [
        "# set up a if...else statement\n",
        "names = ['zhi', 'renita', 'blake', 'vy']\n",
        "\n",
        "# set up the if...else\n",
        "# can combine with and and or as well\n",
        "for n in names:\n",
        "  if n == names[0]:\n",
        "    print('hi')\n",
        "  elif n == names[1]:\n",
        "    print('hello there') \n",
        "  elif n == names[2]:\n",
        "    print('see you')\n",
        "  else: \n",
        "    print('who is that???')"
      ],
      "execution_count": 0,
      "outputs": []
    },
    {
      "cell_type": "markdown",
      "metadata": {
        "id": "8vCYC7E9JUJz",
        "colab_type": "text"
      },
      "source": [
        "## Concatenating lists and \"lists in lists\" (related to problem #4...)\n",
        "* Use the '+' operator to concatenate lists into a bigger list\n",
        "* You can make a list of strings or numbers (or both) which is what we've been doing mostly\n",
        "* You can make a list of lists! "
      ]
    },
    {
      "cell_type": "code",
      "metadata": {
        "id": "K3dalI2OJcb1",
        "colab_type": "code",
        "colab": {}
      },
      "source": [
        "# make a few lists\n",
        "student1 = ['sabina', 19]\n",
        "student2 = ['valerie', 21]\n",
        "student3 = ['oleg', 27]"
      ],
      "execution_count": 0,
      "outputs": []
    },
    {
      "cell_type": "markdown",
      "metadata": {
        "id": "iYCp0FFsJuEw",
        "colab_type": "text"
      },
      "source": [
        "### Now concatenate the lists into a longer list using the '+' operator\n"
      ]
    },
    {
      "cell_type": "code",
      "metadata": {
        "id": "4vlp8lkxJ9BH",
        "colab_type": "code",
        "colab": {}
      },
      "source": [
        "concat_list = student1 + student2 + student3\n",
        "\n",
        "# when you print, you'll see that you now a single list that contains all the names, ages\n",
        "print(concat_list)"
      ],
      "execution_count": 0,
      "outputs": []
    },
    {
      "cell_type": "markdown",
      "metadata": {
        "id": "_m2D6FUKKPfD",
        "colab_type": "text"
      },
      "source": [
        "### Now make a list of lists!"
      ]
    },
    {
      "cell_type": "code",
      "metadata": {
        "id": "p50aFU_7KSmT",
        "colab_type": "code",
        "colab": {}
      },
      "source": [
        "list_in_list = [student1, student2, student3]\n",
        "# compare the output here to the output above for 'concat_list' - you'll see that \n",
        "# list_in_list actually has three sub-lists in it\n",
        "print(list_in_list)"
      ],
      "execution_count": 0,
      "outputs": []
    },
    {
      "cell_type": "markdown",
      "metadata": {
        "id": "BfgAEsGoKjOu",
        "colab_type": "text"
      },
      "source": [
        "### Indexing into a list of lists\n",
        "* use the [ ][ ] to index into lists of lists - the argument in the first set of brackets indicates which sub-list, and the argument in the second set of brackets indicates which element in that sub-list you want  "
      ]
    },
    {
      "cell_type": "code",
      "metadata": {
        "id": "NeM-O7XIK2yC",
        "colab_type": "code",
        "colab": {}
      },
      "source": [
        "# this will print the first element of the first list in list_in_list\n",
        "print(list_in_list[0][0])\n",
        "\n",
        "# this will print the second element of the second list in list_in_list\n",
        "print(list_in_list[1][1])\n",
        "\n",
        "# this will print the first element of the third list in list_in_list\n",
        "print(list_in_list[2][0])\n",
        "\n",
        "# so...if you want to just increment the ages you can index into the age field in each of the sub-lists and add 2!\n"
      ],
      "execution_count": 0,
      "outputs": []
    }
  ]
}
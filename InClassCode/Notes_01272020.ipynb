{
  "nbformat": 4,
  "nbformat_minor": 0,
  "metadata": {
    "colab": {
      "name": "Notes_01272020.ipynb",
      "provenance": [],
      "collapsed_sections": []
    },
    "kernelspec": {
      "name": "python3",
      "display_name": "Python 3"
    }
  },
  "cells": [
    {
      "cell_type": "markdown",
      "metadata": {
        "id": "DaVL9g12u8h9",
        "colab_type": "text"
      },
      "source": [
        "# Today: review questions (Q1-Q2 iClicker). New Stuff: Boolean flag in if...elif...else statement, list comprehensions, dictionaries\n",
        "* a few other new things: the +=, *=, etc operators"
      ]
    },
    {
      "cell_type": "markdown",
      "metadata": {
        "id": "FwixrBB_v1f5",
        "colab_type": "text"
      },
      "source": [
        "## Boolean flags...toggle a \"flag\" to control flow of program \n"
      ]
    },
    {
      "cell_type": "code",
      "metadata": {
        "id": "ZdZQX8iS4IIN",
        "colab_type": "code",
        "colab": {}
      },
      "source": [
        "adding = True\n",
        "\n",
        "num = list(range(0,3))\n",
        "\n",
        "out = 0\n",
        "\n",
        "for n in num:\n",
        "  print(n)\n",
        "  if adding == True:\n",
        "    out += 1\n",
        "    print('add 1')\n",
        "    adding = False\n",
        "    \n",
        "  elif adding == False:\n",
        "    out *= 10\n",
        "    print('mult 10')\n",
        "    adding = True\n",
        "    \n",
        "print(out)"
      ],
      "execution_count": 0,
      "outputs": []
    },
    {
      "cell_type": "markdown",
      "metadata": {
        "id": "EVF0YenMfbw2",
        "colab_type": "text"
      },
      "source": [
        "# CLICKER QUESTION (Q3)"
      ]
    },
    {
      "cell_type": "markdown",
      "metadata": {
        "id": "912c7RWE0ZsU",
        "colab_type": "text"
      },
      "source": [
        "## List comprehensions\n",
        "* effecient syntax for manipulating information in an existing list and assigning to a new list\n",
        "* for element in old_list: do something and put it in a new list  "
      ]
    },
    {
      "cell_type": "code",
      "metadata": {
        "id": "l-diFU4IhFFx",
        "colab_type": "code",
        "colab": {}
      },
      "source": [
        "# long way to square a list of numbers using a 'for loop' \n",
        "list_num = list(range(0,6))\n",
        "\n",
        "# initialize a list of length(list_num) to store the squred values\n",
        "square_num = [0]*len(list_num)  \n",
        "\n",
        "# for loop to square each value and to fill up our square_num list\n",
        "for num in list_num:\n",
        "  square_num[num] = num**2\n",
        "\n",
        "print(square_num)"
      ],
      "execution_count": 0,
      "outputs": []
    },
    {
      "cell_type": "markdown",
      "metadata": {
        "id": "qdARDfDGh63M",
        "colab_type": "text"
      },
      "source": [
        "### The list comprehension way to do the same thing much more effeciently\n",
        "* syntax: new_list = [expression for each_item in old_list]\n",
        "* note the brackets [ ]\n"
      ]
    },
    {
      "cell_type": "code",
      "metadata": {
        "id": "t7auZbJ_0dKR",
        "colab_type": "code",
        "colab": {}
      },
      "source": [
        "list_num = list(range(0,6))\n",
        "\n",
        "square_num = [num**2 for num in list_num]\n",
        "\n",
        "print(square_num)"
      ],
      "execution_count": 0,
      "outputs": []
    },
    {
      "cell_type": "markdown",
      "metadata": {
        "id": "PYdc0gukgdAr",
        "colab_type": "text"
      },
      "source": [
        "## Evaluate an equation over a set of numbers (like y = mx + b)"
      ]
    },
    {
      "cell_type": "code",
      "metadata": {
        "id": "TQwlMffsghYg",
        "colab_type": "code",
        "colab": {}
      },
      "source": [
        "# x range over whic to eval the equation \n",
        "x_vals = range(0,10)\n",
        "m = .5\n",
        "b = 7\n",
        "\n",
        "# here it is!\n",
        "y = [((m*x)+b) for x in x_vals]\n",
        "\n",
        "print(y)"
      ],
      "execution_count": 0,
      "outputs": []
    },
    {
      "cell_type": "markdown",
      "metadata": {
        "id": "GQitOgHXig2p",
        "colab_type": "text"
      },
      "source": [
        "### Another slightly more complex example"
      ]
    },
    {
      "cell_type": "code",
      "metadata": {
        "id": "E7JKo_c9igCT",
        "colab_type": "code",
        "colab": {}
      },
      "source": [
        "# eval the sum of squared differences between f1 and f1**2 \n",
        "some_function = range(-10,10)\n",
        "\n",
        "# compute sum of squares...\n",
        "y = [(f-(f**2))**2 for f in some_function]\n",
        "\n",
        "# then take the sum\n",
        "print(sum(y))"
      ],
      "execution_count": 0,
      "outputs": []
    },
    {
      "cell_type": "markdown",
      "metadata": {
        "id": "14eOO6tWio3U",
        "colab_type": "text"
      },
      "source": [
        "### Using methods in a list comprehension"
      ]
    },
    {
      "cell_type": "code",
      "metadata": {
        "id": "Vp6BF9EXPJIC",
        "colab_type": "code",
        "colab": {}
      },
      "source": [
        "names = ['sabina', 'lorraine', 'madison']\n",
        "\n",
        "title_name = [name.title() for name in names]\n",
        "\n",
        "# print caps of first letter of each name\n",
        "print(title_name)"
      ],
      "execution_count": 0,
      "outputs": []
    },
    {
      "cell_type": "markdown",
      "metadata": {
        "id": "KdoZBu0za8nD",
        "colab_type": "text"
      },
      "source": [
        "### Another example, but operate on only one character in each string in the list"
      ]
    },
    {
      "cell_type": "code",
      "metadata": {
        "id": "sQeKQXE12rwP",
        "colab_type": "code",
        "colab": {}
      },
      "source": [
        "names = ['jolene', 'rui', 'rio']\n",
        "\n",
        "first_letter = [name[0].upper() for name in names]\n",
        "\n",
        "# print caps of first letter of each name\n",
        "print(first_letter)"
      ],
      "execution_count": 0,
      "outputs": []
    },
    {
      "cell_type": "markdown",
      "metadata": {
        "id": "eAJMd0LmepTb",
        "colab_type": "text"
      },
      "source": [
        "# CLICKER QUESTION (Q4)"
      ]
    }
  ]
}
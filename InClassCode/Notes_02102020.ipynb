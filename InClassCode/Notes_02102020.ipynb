{
  "nbformat": 4,
  "nbformat_minor": 0,
  "metadata": {
    "colab": {
      "name": "Notes_02102020.ipynb",
      "provenance": [],
      "collapsed_sections": []
    },
    "kernelspec": {
      "name": "python3",
      "display_name": "Python 3"
    }
  },
  "cells": [
    {
      "cell_type": "markdown",
      "metadata": {
        "id": "7TZbYEPQ7sVP",
        "colab_type": "text"
      },
      "source": [
        "# Gather simple user input, while loops, try...catch statements, and introduction to importing modules"
      ]
    },
    {
      "cell_type": "markdown",
      "metadata": {
        "id": "wDpgVXgSeg_A",
        "colab_type": "text"
      },
      "source": [
        "# Input() function...\n",
        "* Get user input from a prompt\n",
        "* Can do some basic formatting..."
      ]
    },
    {
      "cell_type": "code",
      "metadata": {
        "id": "bzis9DhSxcho",
        "colab_type": "code",
        "colab": {}
      },
      "source": [
        "name = input('What is your name? ')\n",
        "print(name)"
      ],
      "execution_count": 0,
      "outputs": []
    },
    {
      "cell_type": "markdown",
      "metadata": {
        "id": "vzkcwo689NVt",
        "colab_type": "text"
      },
      "source": [
        "## Use of the 'sep' keyword in the print statement to determine what character goes in between phrases"
      ]
    },
    {
      "cell_type": "code",
      "metadata": {
        "id": "5XKHq5iu1Hms",
        "colab_type": "code",
        "colab": {}
      },
      "source": [
        "name = input('What is your name? ')\n",
        "age = input('What is your age? ')\n",
        "print(name, 'is', age, 'years old', sep=' ')\n",
        "print(name, age, sep=':')"
      ],
      "execution_count": 0,
      "outputs": []
    },
    {
      "cell_type": "markdown",
      "metadata": {
        "id": "PBECfmhGDiNN",
        "colab_type": "text"
      },
      "source": [
        "### note that input returns a string object, even if the input is a number\n"
      ]
    },
    {
      "cell_type": "code",
      "metadata": {
        "id": "sdm3AOVXDY-D",
        "colab_type": "code",
        "colab": {}
      },
      "source": [
        "type(age)"
      ],
      "execution_count": 0,
      "outputs": []
    },
    {
      "cell_type": "markdown",
      "metadata": {
        "id": "CEqddLNhEUlH",
        "colab_type": "text"
      },
      "source": [
        "# CLICKER Q1"
      ]
    },
    {
      "cell_type": "markdown",
      "metadata": {
        "id": "qnrxy7IgEy_6",
        "colab_type": "text"
      },
      "source": [
        "## Dealing with numeric input (which is a string by default)....\n",
        "* Best practice: don't just cast the str as an int because a user might input the wrong kind of data...or your data set might have a field that is miscoded (i.e. you encounter a name instead of a number)\n",
        "* Better practice is to first test to see if a variable is a viable number, and if so, then deal with it..."
      ]
    },
    {
      "cell_type": "code",
      "metadata": {
        "id": "uu0g-YVcFts7",
        "colab_type": "code",
        "colab": {}
      },
      "source": [
        "# first a bad example...this will go wrong if the user enters a non-numeric value\n",
        "age = int(input('How old are you?'))\n",
        "type(age)"
      ],
      "execution_count": 0,
      "outputs": []
    },
    {
      "cell_type": "code",
      "metadata": {
        "id": "hkC35V_A23q8",
        "colab_type": "code",
        "colab": {}
      },
      "source": [
        "# a more robust way to deal with input\n",
        "age = input('How old are you? ')\n",
        "if age.isdigit():\n",
        "  print('You are', age, 'years old')\n",
        "else:\n",
        "  print('user input error!')"
      ],
      "execution_count": 0,
      "outputs": []
    },
    {
      "cell_type": "markdown",
      "metadata": {
        "id": "iNS_plwnXtAb",
        "colab_type": "text"
      },
      "source": [
        "## **import** statement to gain access to more functionality\n",
        "* a module contains python classes or just functions\n",
        "* a class defines the functionality of an object\n",
        "* similar to #include header_file in C/C++ (if people are familiar with that)\n",
        "* or setting a path to a toolbox in Matlab\n",
        "* allows you to bring in a 'module' that supports specialized functionality (e.g. special math functions, etc)\n",
        "* also allows for expanding the functionality of python - anyone can write a module to support new applications\n",
        "* for the moment just a simple example...will build on this in the coming classes"
      ]
    },
    {
      "cell_type": "code",
      "metadata": {
        "id": "czImnX3LXx-t",
        "colab_type": "code",
        "colab": {}
      },
      "source": [
        "# simple example\n",
        "import math\n",
        "print(math.pi)"
      ],
      "execution_count": 0,
      "outputs": []
    },
    {
      "cell_type": "code",
      "metadata": {
        "id": "sup2HlBub0_U",
        "colab_type": "code",
        "colab": {}
      },
      "source": [
        "# little more complex...cos method\n",
        "print(math.cos(math.pi))"
      ],
      "execution_count": 0,
      "outputs": []
    },
    {
      "cell_type": "markdown",
      "metadata": {
        "id": "PmZqVKbn5gkX",
        "colab_type": "text"
      },
      "source": [
        "## While loop syntax\n",
        "* if you know exactly how many times you want to do something, then you can use a for loop\n",
        "* if you don't know how many times you need to repeat something, then use while statement"
      ]
    },
    {
      "cell_type": "markdown",
      "metadata": {
        "id": "LJm2_hTQclj4",
        "colab_type": "text"
      },
      "source": [
        "#### Let's try some while loops, and we'll also import the \"random\" module, which has functionality to generate random numbers based on different distributions (uniform, gaussian, etc). \n",
        "* random.random will generate random numbers from a uniform distribution over the interval [0,1]"
      ]
    },
    {
      "cell_type": "code",
      "metadata": {
        "id": "qRRcGpv4iZ8g",
        "colab_type": "code",
        "colab": {}
      },
      "source": [
        "# import the entire random module\n",
        "import random"
      ],
      "execution_count": 0,
      "outputs": []
    },
    {
      "cell_type": "code",
      "metadata": {
        "id": "gAKDL4P-5kci",
        "colab_type": "code",
        "colab": {}
      },
      "source": [
        "for i in range(0,6):\n",
        "  # random.random will return a number between 0 and 1\n",
        "  if random.random()<=.5:\n",
        "    print('heads')\n",
        "  else:\n",
        "    print('tails')"
      ],
      "execution_count": 0,
      "outputs": []
    },
    {
      "cell_type": "code",
      "metadata": {
        "id": "iiKtaCKE6uar",
        "colab_type": "code",
        "colab": {}
      },
      "source": [
        "x = random.random()\n",
        "\n",
        "# draw random numbers, print, and repeat until we get a draw >= .7\n",
        "while x<.95:\n",
        "  x = random.random()\n",
        "  print(x)"
      ],
      "execution_count": 0,
      "outputs": []
    },
    {
      "cell_type": "markdown",
      "metadata": {
        "id": "BQC2LfBPjhB-",
        "colab_type": "text"
      },
      "source": [
        "## Another example that will ask for user input until an appropriate value is provided"
      ]
    },
    {
      "cell_type": "code",
      "metadata": {
        "id": "XhlTp0mo7bv4",
        "colab_type": "code",
        "colab": {}
      },
      "source": [
        "# boolean flag\n",
        "looping = True\n",
        "\n",
        "# start a while loop, will exit when the user enters 'exit'\n",
        "while looping:\n",
        "  # input prompt\n",
        "  ans = input('Enter yes or no or exit: ')\n",
        "\n",
        "  # process the input...\n",
        "  if ans == 'yes':\n",
        "    print('yay')\n",
        "  \n",
        "  elif ans == 'no':\n",
        "    print('booo')\n",
        "\n",
        "  elif ans == 'exit':\n",
        "    looping = False\n",
        "    print('see ya')\n",
        "\n",
        "  else:\n",
        "    print('enter yes, no, or exit only please')\n"
      ],
      "execution_count": 0,
      "outputs": []
    }
  ]
}
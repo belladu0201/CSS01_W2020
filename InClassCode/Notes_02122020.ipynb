{
  "nbformat": 4,
  "nbformat_minor": 0,
  "metadata": {
    "colab": {
      "name": "Notes_02122020.ipynb",
      "provenance": [],
      "collapsed_sections": []
    },
    "kernelspec": {
      "name": "python3",
      "display_name": "Python 3"
    }
  },
  "cells": [
    {
      "cell_type": "markdown",
      "metadata": {
        "id": "lWAvJB32RwYu",
        "colab_type": "text"
      },
      "source": [
        "# Try...catch statements, intro to functions"
      ]
    },
    {
      "cell_type": "markdown",
      "metadata": {
        "id": "XIp2uatDBu4N",
        "colab_type": "text"
      },
      "source": [
        "# try, except, finally, else\n",
        "* handle errors gracefully\n",
        "* try something, if it works then fine, but if not then print a user friendly message explaining what went wrong. "
      ]
    },
    {
      "cell_type": "code",
      "metadata": {
        "id": "ft6Fs25AB5yj",
        "colab_type": "code",
        "colab": {}
      },
      "source": [
        "print(y)"
      ],
      "execution_count": 0,
      "outputs": []
    },
    {
      "cell_type": "code",
      "metadata": {
        "id": "2aa9MkY8CDP9",
        "colab_type": "code",
        "colab": {}
      },
      "source": [
        "try: \n",
        "  print(y)\n",
        " \n",
        "except: \n",
        "  print('y is not a thing, why are you trying to print it???')"
      ],
      "execution_count": 0,
      "outputs": []
    },
    {
      "cell_type": "markdown",
      "metadata": {
        "id": "Q3Bv8re1GKks",
        "colab_type": "text"
      },
      "source": [
        "### You can also catch specific errors to provide even more specific feedback about what happened. \n",
        "* same general structure, just add an else after the except"
      ]
    },
    {
      "cell_type": "code",
      "metadata": {
        "id": "m29sodEdCab8",
        "colab_type": "code",
        "colab": {}
      },
      "source": [
        "try: \n",
        "  print(y)\n",
        "  \n",
        "# if its a name error (like something not yet defined)\n",
        "except NameError: \n",
        "  print('y is not defined')\n",
        "  \n",
        "# else if anything else bad happened, do this...\n",
        "else: \n",
        "  print('some error happened, not a name error')"
      ],
      "execution_count": 0,
      "outputs": []
    },
    {
      "cell_type": "markdown",
      "metadata": {
        "id": "UaTMzjNJG41t",
        "colab_type": "text"
      },
      "source": [
        "### Can catch multiple types of errors..."
      ]
    },
    {
      "cell_type": "code",
      "metadata": {
        "id": "fJAuPDsWG8ce",
        "colab_type": "code",
        "colab": {}
      },
      "source": [
        "y = '27'\n",
        "x = '10'\n",
        "\n",
        "# z = 10\n",
        "# w = 0\n",
        "\n",
        "try:\n",
        "  #print(x * y)\n",
        "  print(z/w)\n",
        "\n",
        "except (TypeError):\n",
        "  print('TypeError')\n",
        "    \n",
        "except (ZeroDivisionError):\n",
        "  print('ZeroDiv Error')"
      ],
      "execution_count": 0,
      "outputs": []
    },
    {
      "cell_type": "markdown",
      "metadata": {
        "id": "noDSYdDsJgyD",
        "colab_type": "text"
      },
      "source": [
        "### Finally executes regardless of try/except outcome"
      ]
    },
    {
      "cell_type": "code",
      "metadata": {
        "id": "bqN0UuBPC1Re",
        "colab_type": "code",
        "colab": {}
      },
      "source": [
        "x = 'john'\n",
        "try: \n",
        "  print(z)\n",
        "  \n",
        "except NameError: \n",
        "  print('y throws a name error')\n",
        "  \n",
        "finally: \n",
        "  print('you finished the try-except code block')"
      ],
      "execution_count": 0,
      "outputs": []
    },
    {
      "cell_type": "markdown",
      "metadata": {
        "id": "z4vs9s_VCBnN",
        "colab_type": "text"
      },
      "source": [
        "## functions...\n",
        "* write a chunk of reusable code for operations that you will perform repeatedly in the context of a given application. "
      ]
    },
    {
      "cell_type": "code",
      "metadata": {
        "id": "s-ISre-7AoRr",
        "colab_type": "code",
        "colab": {}
      },
      "source": [
        "def print_msg(msg,postfix):\n",
        "  \"\"\"a simple little function to print a msg \n",
        "  \n",
        "  inputs: \n",
        "  msg = what you want to say at the start of msg\n",
        "  postfix = what you want the msg to end with\n",
        "  \"\"\"\n",
        "  print(msg, postfix)\n"
      ],
      "execution_count": 0,
      "outputs": []
    },
    {
      "cell_type": "code",
      "metadata": {
        "id": "8d3mMaAWA1Sf",
        "colab_type": "code",
        "colab": {}
      },
      "source": [
        "print_msg?\n"
      ],
      "execution_count": 0,
      "outputs": []
    },
    {
      "cell_type": "code",
      "metadata": {
        "id": "MeSf88ogJ8gb",
        "colab_type": "code",
        "colab": {}
      },
      "source": [
        "print_msg('my name is','john')"
      ],
      "execution_count": 0,
      "outputs": []
    },
    {
      "cell_type": "code",
      "metadata": {
        "id": "tAqPwNhPBnJK",
        "colab_type": "code",
        "colab": {}
      },
      "source": [
        "print_msg('john','my name is')"
      ],
      "execution_count": 0,
      "outputs": []
    },
    {
      "cell_type": "code",
      "metadata": {
        "id": "vToH9PeuBnc2",
        "colab_type": "code",
        "colab": {}
      },
      "source": [
        "print_msg(postfix='john',msg='my name is')"
      ],
      "execution_count": 0,
      "outputs": []
    },
    {
      "cell_type": "markdown",
      "metadata": {
        "id": "2AaSUhYbHiwO",
        "colab_type": "text"
      },
      "source": [
        "## return values\n",
        "* have your function return a value after performing some computation"
      ]
    },
    {
      "cell_type": "code",
      "metadata": {
        "id": "lfeE_5zHHk5y",
        "colab_type": "code",
        "colab": {}
      },
      "source": [
        "def add_two(x):\n",
        "  \"\"\" a function to add 2\n",
        "\n",
        "  input: integer \n",
        "  output: that integer + 2\n",
        "  \"\"\"\n",
        "  x = x + 2\n",
        "  return x"
      ],
      "execution_count": 0,
      "outputs": []
    },
    {
      "cell_type": "code",
      "metadata": {
        "id": "Gf-Z3ICBHqdW",
        "colab_type": "code",
        "colab": {}
      },
      "source": [
        "add_two(10)"
      ],
      "execution_count": 0,
      "outputs": []
    },
    {
      "cell_type": "code",
      "metadata": {
        "id": "ytLELcZ6yQcX",
        "colab_type": "code",
        "colab": {}
      },
      "source": [
        "def add_two(x,y):\n",
        "  x = x + 2\n",
        "  y = y + 2\n",
        "  return x,y"
      ],
      "execution_count": 0,
      "outputs": []
    },
    {
      "cell_type": "code",
      "metadata": {
        "id": "IMJulUhZ2J3O",
        "colab_type": "code",
        "colab": {}
      },
      "source": [
        "### multiple return values. \n",
        "val = add_two(10,12)\n",
        "type(val)\n",
        "val[0]"
      ],
      "execution_count": 0,
      "outputs": []
    },
    {
      "cell_type": "markdown",
      "metadata": {
        "id": "qL5GvLuPBkNi",
        "colab_type": "text"
      },
      "source": [
        "## If a variable is defined within a function, then it is in the local namespace - it is created when the function is called and then destroyed after the function returns. Variables created outside of functions are in the global namespace and can be accessed from any cell in the notebook. "
      ]
    },
    {
      "cell_type": "code",
      "metadata": {
        "id": "H7mym8JQ3e4v",
        "colab_type": "code",
        "colab": {}
      },
      "source": [
        "# define a variable in the local namespace of the function\n",
        "def minus_two(x):\n",
        "  # z is a local variable - does not exist outside of function\n",
        "  z = x - 2 \n",
        "  return z"
      ],
      "execution_count": 0,
      "outputs": []
    },
    {
      "cell_type": "code",
      "metadata": {
        "id": "f8mS6Mf7yrSM",
        "colab_type": "code",
        "colab": {}
      },
      "source": [
        "print(minus_two(2))\n",
        "\n",
        "try:\n",
        "  print(z)\n",
        "\n",
        "except: \n",
        "  print('error')"
      ],
      "execution_count": 0,
      "outputs": []
    },
    {
      "cell_type": "markdown",
      "metadata": {
        "id": "ezYz15alywJz",
        "colab_type": "text"
      },
      "source": [
        "### So notice that things like the sort method will modify the list, even though its \"local\" to the function\n",
        "* this is because the list was defined in the **global** namespace, so if you modify it within the function, you will also modify it in the global namespace\n"
      ]
    },
    {
      "cell_type": "code",
      "metadata": {
        "id": "jmzDXtlsCqQx",
        "colab_type": "code",
        "colab": {}
      },
      "source": [
        "def sort_list(in_list):\n",
        "  in_list.sort()"
      ],
      "execution_count": 0,
      "outputs": []
    },
    {
      "cell_type": "code",
      "metadata": {
        "id": "77wmP4_XCiH_",
        "colab_type": "code",
        "colab": {}
      },
      "source": [
        "my_list = ['john', 'ella', 'jack']\n",
        "sort_list(my_list)\n",
        "print(my_list)\n",
        "\n",
        "# note - we don't return anything here...the list is modified internally by the\n",
        "# function"
      ],
      "execution_count": 0,
      "outputs": []
    },
    {
      "cell_type": "markdown",
      "metadata": {
        "id": "gvukAB_yzIcW",
        "colab_type": "text"
      },
      "source": [
        "### But if you used sorted() (or something else that doesn't perm modify the list) then you would need to return the sorted value"
      ]
    },
    {
      "cell_type": "code",
      "metadata": {
        "id": "LYTeZX7P2vCQ",
        "colab_type": "code",
        "colab": {}
      },
      "source": [
        "def new_sorted_list(in_list):\n",
        "  sort_list = sorted(in_list)\n",
        "  return sort_list"
      ],
      "execution_count": 0,
      "outputs": []
    },
    {
      "cell_type": "code",
      "metadata": {
        "id": "jsgRObWpAQYs",
        "colab_type": "code",
        "colab": {}
      },
      "source": [
        "my_list = ['john', 'ella', 'jack']\n",
        "s_my_list = new_sorted_list(my_list)\n",
        "print(my_list)\n",
        "print(s_my_list)"
      ],
      "execution_count": 0,
      "outputs": []
    },
    {
      "cell_type": "markdown",
      "metadata": {
        "id": "5uVIxsjvEaK6",
        "colab_type": "text"
      },
      "source": [
        "## Make a function that allows variable length argument list using the *args special syntax"
      ]
    },
    {
      "cell_type": "code",
      "metadata": {
        "id": "0RqPCUjHApCm",
        "colab_type": "code",
        "colab": {}
      },
      "source": [
        "# compute the cumulative product of a list of numbers\n",
        "def mult(*args):\n",
        "  z = 1 # why initializing to 1???\n",
        "  for num in args:\n",
        "    z *= num\n",
        "\n",
        "  return z"
      ],
      "execution_count": 0,
      "outputs": []
    },
    {
      "cell_type": "code",
      "metadata": {
        "id": "PtTUkcqlAxja",
        "colab_type": "code",
        "colab": {}
      },
      "source": [
        "mult(10,20,30,10)"
      ],
      "execution_count": 0,
      "outputs": []
    },
    {
      "cell_type": "code",
      "metadata": {
        "id": "4xKs9UFD-ENE",
        "colab_type": "code",
        "colab": {}
      },
      "source": [
        "# compute mean across a list of numbers - and list can be as long as you'd like!\n",
        "def comp_avg(*nums_to_avg):\n",
        "  \"\"\"compute mean across a list of numbers\"\"\"\n",
        "  avg = sum(nums_to_avg)/len(nums_to_avg)\n",
        "  return avg"
      ],
      "execution_count": 0,
      "outputs": []
    },
    {
      "cell_type": "markdown",
      "metadata": {
        "id": "OwYHaLt7B-Lz",
        "colab_type": "text"
      },
      "source": [
        "### two ways to call...pass in vals directly\n"
      ]
    },
    {
      "cell_type": "code",
      "metadata": {
        "id": "osQG1Rx_AAgT",
        "colab_type": "code",
        "colab": {}
      },
      "source": [
        "comp_avg(10,20,30,40,50)"
      ],
      "execution_count": 0,
      "outputs": []
    },
    {
      "cell_type": "markdown",
      "metadata": {
        "id": "A_zAmhxeB6hM",
        "colab_type": "text"
      },
      "source": [
        "### or pass in a list...use the *"
      ]
    },
    {
      "cell_type": "code",
      "metadata": {
        "id": "Wi2_Qyif-kUn",
        "colab_type": "code",
        "colab": {}
      },
      "source": [
        "nums = [10,20,30,40,50]\n",
        "comp_avg(*nums)"
      ],
      "execution_count": 0,
      "outputs": []
    },
    {
      "cell_type": "markdown",
      "metadata": {
        "id": "owZE7UttSDlL",
        "colab_type": "text"
      },
      "source": [
        "## Bonus stuff about using while loops..."
      ]
    },
    {
      "cell_type": "code",
      "metadata": {
        "id": "aARsWT_uAyzP",
        "colab_type": "code",
        "colab": {}
      },
      "source": [
        "# fill up a dictionary with key, value pairs. \n",
        "\n",
        "# initialize the dictionary\n",
        "fav_food = {}\n",
        "\n",
        "while True:\n",
        "  name = input('What is your name: ')\n",
        "  food = input('What is your fav food: ')\n",
        "  \n",
        "  fav_food[name] = food\n",
        "  \n",
        "  more = input('Enter any more name/food pairs[y/n]? ')\n",
        "  if more == 'n':\n",
        "    break\n",
        "    \n",
        "for name, food in fav_food.items():\n",
        "  print(name, 'likes', food)"
      ],
      "execution_count": 0,
      "outputs": []
    },
    {
      "cell_type": "code",
      "metadata": {
        "id": "ddWUPEPz9HcT",
        "colab_type": "code",
        "colab": {}
      },
      "source": [
        "# more relevant example for experiments \n",
        "stim_trigger = ''\n",
        "\n",
        "while True:\n",
        "  stim_trigger = input('Start stimus presentation[y/n] ')\n",
        "  \n",
        "  if stim_trigger == 'y':\n",
        "    print('starting experiment')\n",
        "    break\n",
        "  elif stim_trigger == 'n':\n",
        "    print('what? you want to start...')\n",
        "  else:\n",
        "    print('answer only y or n')\n",
        "    \n",
        "print('this is where the stimulus presentation code would go')"
      ],
      "execution_count": 0,
      "outputs": []
    }
  ]
}
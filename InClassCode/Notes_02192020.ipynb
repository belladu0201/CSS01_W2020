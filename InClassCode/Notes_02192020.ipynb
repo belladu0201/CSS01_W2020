{
  "nbformat": 4,
  "nbformat_minor": 0,
  "metadata": {
    "colab": {
      "name": "Notes_02192020.ipynb",
      "provenance": [],
      "collapsed_sections": []
    },
    "kernelspec": {
      "name": "python3",
      "display_name": "Python 3"
    }
  },
  "cells": [
    {
      "cell_type": "markdown",
      "metadata": {
        "id": "ZnXCl6ZxPpeE",
        "colab_type": "text"
      },
      "source": [
        "# Key word arguments, line and cell magics, writing your own modules"
      ]
    },
    {
      "cell_type": "markdown",
      "metadata": {
        "id": "U3bZN72yD9Ap",
        "colab_type": "text"
      },
      "source": [
        "## kwargs - accept an arbitrary number of keyword arguments (not just a fixed number of arguments with unknown size)\n"
      ]
    },
    {
      "cell_type": "code",
      "metadata": {
        "id": "CAZPFRQrG5o0",
        "colab_type": "code",
        "colab": {}
      },
      "source": [
        "def define_user(name, **info):\n",
        "  \"\"\"Accept user input for database\n",
        "  \n",
        "  input: \n",
        "    name - first name of user\n",
        "    **info - kwargs...other relevant info in form of a dictionary\n",
        "\n",
        "  returns:\n",
        "    dictionary with user info\n",
        "  \"\"\"\n",
        "  \n",
        "  # init a blank dictionary\n",
        "  user_info = {}\n",
        "  \n",
        "  user_info['name'] = name\n",
        "\n",
        "  # then loop over kwargs\n",
        "  for k, v in info.items():\n",
        "    user_info[k] = v\n",
        "    \n",
        "  return user_info"
      ],
      "execution_count": 0,
      "outputs": []
    },
    {
      "cell_type": "code",
      "metadata": {
        "id": "gQbOA9vmriTK",
        "colab_type": "code",
        "colab": {
          "base_uri": "https://localhost:8080/",
          "height": 34
        },
        "outputId": "9007d990-c935-42ae-cbb7-c653cc2b75ed"
      },
      "source": [
        "x = [1,2,3,[3,4,5]]\n",
        "x[3][0]"
      ],
      "execution_count": 20,
      "outputs": [
        {
          "output_type": "execute_result",
          "data": {
            "text/plain": [
              "3"
            ]
          },
          "metadata": {
            "tags": []
          },
          "execution_count": 20
        }
      ]
    },
    {
      "cell_type": "markdown",
      "metadata": {
        "id": "YFBynRcIFCBn",
        "colab_type": "text"
      },
      "source": [
        "### Can pass in arguments using keywords defined in the function call "
      ]
    },
    {
      "cell_type": "code",
      "metadata": {
        "id": "Nvq_aXoaE5aI",
        "colab_type": "code",
        "colab": {}
      },
      "source": [
        "usr_info = define_user('john', bike='cannondale', car='tacoma', house='hearst castle')\n",
        "usr_info"
      ],
      "execution_count": 0,
      "outputs": []
    },
    {
      "cell_type": "markdown",
      "metadata": {
        "id": "ajwQsG8NFHqT",
        "colab_type": "text"
      },
      "source": [
        "### Or you can build a dictionary of key, value pairs and then pass that in"
      ]
    },
    {
      "cell_type": "code",
      "metadata": {
        "id": "yf649sVx1dn4",
        "colab_type": "code",
        "colab": {}
      },
      "source": [
        "info = {'bike':'cannondale super six evo high-mod', 'car':'toyota tacoma','desk':'standing', 'building':'McGill'}\n",
        "usr_info = define_user('john', **info)\n",
        "usr_info"
      ],
      "execution_count": 0,
      "outputs": []
    },
    {
      "cell_type": "code",
      "metadata": {
        "id": "jwFa6RxsQAwz",
        "colab_type": "code",
        "colab": {}
      },
      "source": [
        "info = {'bike':'cannondale super six evo high-mod', 'car':'toyota tacoma', 'house':'20 room mansion'}\n",
        "usr_info = define_user('john', **info)\n",
        "usr_info"
      ],
      "execution_count": 0,
      "outputs": []
    },
    {
      "cell_type": "markdown",
      "metadata": {
        "id": "wiNqzsjkDZ7K",
        "colab_type": "text"
      },
      "source": [
        "## Magics are special functions that are supported by the IPython kernel (the thing that interprets your python code and turns it into something the machine can understand). \n",
        "* Different kernels have different magics.\n",
        "* Line magics are called using the % syntax\n",
        "* Cell magics, that operate on an entire cell worth of code, use the %% syntax\n",
        "* [link to good ref](https://ipython.readthedocs.io/en/stable/interactive/magics.html)"
      ]
    },
    {
      "cell_type": "markdown",
      "metadata": {
        "id": "1wUONKAaNK4g",
        "colab_type": "text"
      },
      "source": [
        "### Some handy line magics\n",
        "* my favorite is 'timeit'"
      ]
    },
    {
      "cell_type": "code",
      "metadata": {
        "id": "YwB6CCPCcQQz",
        "colab_type": "code",
        "colab": {}
      },
      "source": [
        "import random"
      ],
      "execution_count": 0,
      "outputs": []
    },
    {
      "cell_type": "code",
      "metadata": {
        "id": "V9vv54-wNOnQ",
        "colab_type": "code",
        "colab": {}
      },
      "source": [
        "# will work on the entire line of code that you enter...note that i'm sticking \n",
        "# the entire while... statement in one line here.\n",
        "%timeit for i in range(0,100):  x = random.random() * 10"
      ],
      "execution_count": 0,
      "outputs": []
    },
    {
      "cell_type": "markdown",
      "metadata": {
        "id": "cooVP_CRdryF",
        "colab_type": "text"
      },
      "source": [
        "### Can create an alias for a line magic\n",
        "* usually not such a great idea, but can be handy if you're re-using the same magic over and over again.\n",
        "* don't sacrifice short names for readability of code! "
      ]
    },
    {
      "cell_type": "code",
      "metadata": {
        "id": "5Iza3t_Odd0A",
        "colab_type": "code",
        "colab": {}
      },
      "source": [
        "%alias_magic t timeit"
      ],
      "execution_count": 0,
      "outputs": []
    },
    {
      "cell_type": "code",
      "metadata": {
        "id": "NdlT8BhPdnPj",
        "colab_type": "code",
        "colab": {}
      },
      "source": [
        "%t for i in range(0,100):  x = random.random() * 10"
      ],
      "execution_count": 0,
      "outputs": []
    },
    {
      "cell_type": "markdown",
      "metadata": {
        "id": "wqTnD89-dygQ",
        "colab_type": "text"
      },
      "source": [
        "### Some others..."
      ]
    },
    {
      "cell_type": "markdown",
      "metadata": {
        "id": "xHvFoAk0e0oA",
        "colab_type": "text"
      },
      "source": [
        "#### figure out the current directory (folder) that you are in"
      ]
    },
    {
      "cell_type": "code",
      "metadata": {
        "id": "qY6dLmg1d0ug",
        "colab_type": "code",
        "colab": {}
      },
      "source": [
        "%pwd"
      ],
      "execution_count": 0,
      "outputs": []
    },
    {
      "cell_type": "markdown",
      "metadata": {
        "id": "MWxCYaohexm9",
        "colab_type": "text"
      },
      "source": [
        "#### List the contents of the current folder"
      ]
    },
    {
      "cell_type": "code",
      "metadata": {
        "id": "NnJlFlh9ewXZ",
        "colab_type": "code",
        "colab": {}
      },
      "source": [
        "%ls"
      ],
      "execution_count": 0,
      "outputs": []
    },
    {
      "cell_type": "markdown",
      "metadata": {
        "id": "JZm7hyQGfUCC",
        "colab_type": "text"
      },
      "source": [
        "#### Change the current directory"
      ]
    },
    {
      "cell_type": "code",
      "metadata": {
        "id": "-6HPaG1tfa0F",
        "colab_type": "code",
        "colab": {}
      },
      "source": [
        "# drop down a level in the directory tree\n",
        "%cd ..\n",
        "%ls"
      ],
      "execution_count": 0,
      "outputs": []
    },
    {
      "cell_type": "code",
      "metadata": {
        "id": "KZ3gdAjXfi3C",
        "colab_type": "code",
        "colab": {}
      },
      "source": [
        "# then go back to the content folder we were just in and list contents\n",
        "%cd /content/\n",
        "%ls "
      ],
      "execution_count": 0,
      "outputs": []
    },
    {
      "cell_type": "markdown",
      "metadata": {
        "id": "KF8LGJ2iLeS1",
        "colab_type": "text"
      },
      "source": [
        "### And 'who' - figure out what variables/functions are in memory"
      ]
    },
    {
      "cell_type": "code",
      "metadata": {
        "id": "-wDd3Eo4Ljeo",
        "colab_type": "code",
        "colab": {}
      },
      "source": [
        "%who"
      ],
      "execution_count": 0,
      "outputs": []
    },
    {
      "cell_type": "markdown",
      "metadata": {
        "id": "PKGFMBcRLpIF",
        "colab_type": "text"
      },
      "source": [
        "### And 'whos' gives even more details about type and data. It's generally more useful when you get used to it..."
      ]
    },
    {
      "cell_type": "code",
      "metadata": {
        "id": "vrbkiP-DLwHf",
        "colab_type": "code",
        "colab": {}
      },
      "source": [
        "%whos"
      ],
      "execution_count": 0,
      "outputs": []
    },
    {
      "cell_type": "markdown",
      "metadata": {
        "id": "a8sqht0nNPBF",
        "colab_type": "text"
      },
      "source": [
        "### Some handy cell magics"
      ]
    },
    {
      "cell_type": "code",
      "metadata": {
        "id": "3lTjs6i7NRqJ",
        "colab_type": "code",
        "colab": {}
      },
      "source": [
        "%%timeit\n",
        "i = 0\n",
        "x = 0\n",
        "for y in range(0,5):\n",
        "  x = i**2 + 10*random.random()"
      ],
      "execution_count": 0,
      "outputs": []
    },
    {
      "cell_type": "markdown",
      "metadata": {
        "id": "Nq8YJ-j0gZvL",
        "colab_type": "text"
      },
      "source": [
        "### Figure out all available line and cell magics on your kernel"
      ]
    },
    {
      "cell_type": "code",
      "metadata": {
        "id": "OFCYJLGjgA89",
        "colab_type": "code",
        "colab": {}
      },
      "source": [
        "%lsmagic"
      ],
      "execution_count": 0,
      "outputs": []
    },
    {
      "cell_type": "markdown",
      "metadata": {
        "id": "M0TmGYjkI8uS",
        "colab_type": "text"
      },
      "source": [
        "## modules! (libraries)"
      ]
    },
    {
      "cell_type": "markdown",
      "metadata": {
        "id": "4mgNGKEkCwae",
        "colab_type": "text"
      },
      "source": [
        "## Define our own module to carry out some common math functions\n",
        "* use the writefile magic to write out the def of 4 functions to a .py file. \n",
        "* That .py file (which is really just a text file) will define the module and you can load it and gain access to the functions"
      ]
    },
    {
      "cell_type": "code",
      "metadata": {
        "id": "4MpaMEB2I_vO",
        "colab_type": "code",
        "colab": {}
      },
      "source": [
        "%%writefile math_tools.py\n",
        "\n",
        "def square(x):\n",
        "    y = x ** 2\n",
        "    return y\n",
        "\n",
        "def cubed(x):\n",
        "    y = x ** 3\n",
        "    return(y)\n",
        "\n",
        "def squrt(x):\n",
        "    y = x ** (1/2)\n",
        "    return(y)\n",
        "\n",
        "def times_ten(x):\n",
        "    y = x * 10\n",
        "    return(y)"
      ],
      "execution_count": 0,
      "outputs": []
    },
    {
      "cell_type": "markdown",
      "metadata": {
        "id": "luvIj_wICtkO",
        "colab_type": "text"
      },
      "source": [
        "## Show the contents of the module...in collab use the %pycat line magic"
      ]
    },
    {
      "cell_type": "code",
      "metadata": {
        "id": "jcSPXRRB6ExN",
        "colab_type": "code",
        "colab": {}
      },
      "source": [
        "%pycat math_tools.py"
      ],
      "execution_count": 0,
      "outputs": []
    },
    {
      "cell_type": "code",
      "metadata": {
        "id": "rde5Ag0TF1kC",
        "colab_type": "code",
        "colab": {}
      },
      "source": [
        "%ls"
      ],
      "execution_count": 0,
      "outputs": []
    },
    {
      "cell_type": "markdown",
      "metadata": {
        "id": "OgE-0BynEDVF",
        "colab_type": "text"
      },
      "source": [
        "## Import using 'as' to create an alias \n",
        "* works just like an object, with the functions called like methods using the object.method type notation\n",
        "* just import the module once per notebook, once you run it the contents will be part of the global namespace and will be accessible by any code cell in the notebook\n"
      ]
    },
    {
      "cell_type": "code",
      "metadata": {
        "id": "bykvd9i_KOob",
        "colab_type": "code",
        "colab": {}
      },
      "source": [
        "import math_tools as mt"
      ],
      "execution_count": 0,
      "outputs": []
    },
    {
      "cell_type": "code",
      "metadata": {
        "id": "LPhLWoPQERtL",
        "colab_type": "code",
        "colab": {}
      },
      "source": [
        "mt.square(10)"
      ],
      "execution_count": 0,
      "outputs": []
    },
    {
      "cell_type": "markdown",
      "metadata": {
        "id": "lFuBHvwoEnu1",
        "colab_type": "text"
      },
      "source": [
        "## Can also import just a specific function so that you can call it directly"
      ]
    },
    {
      "cell_type": "code",
      "metadata": {
        "id": "fqeCqI3INLmv",
        "colab_type": "code",
        "colab": {}
      },
      "source": [
        "from math_tools import cubed"
      ],
      "execution_count": 0,
      "outputs": []
    },
    {
      "cell_type": "code",
      "metadata": {
        "id": "4J4vcqtHEq7v",
        "colab_type": "code",
        "colab": {}
      },
      "source": [
        "cubed(2)"
      ],
      "execution_count": 0,
      "outputs": []
    },
    {
      "cell_type": "markdown",
      "metadata": {
        "id": "Q8-_cpmYEvoS",
        "colab_type": "text"
      },
      "source": [
        "### Need to be very careful here!\n",
        "* add a 'sum' function and a 'list' function to our module...what happens? "
      ]
    },
    {
      "cell_type": "code",
      "metadata": {
        "id": "pCutzqLAFOw0",
        "colab_type": "code",
        "colab": {}
      },
      "source": [
        "%%writefile math_tools.py\n",
        "\n",
        "def square(x):\n",
        "    y = x ** 2\n",
        "    return y\n",
        "\n",
        "def cubed(x):\n",
        "    y = x ** 3\n",
        "    return y\n",
        "\n",
        "def squrt(x):\n",
        "    y = x ** (1/2)\n",
        "    return y\n",
        "\n",
        "def times_ten(x):\n",
        "    y = x * 10\n",
        "    return y\n",
        "\n",
        "def sum(x):\n",
        "  y = 0\n",
        "  for i in x:\n",
        "    y += i\n",
        "    print(i)\n",
        "  return y\n",
        "\n",
        "# list out our numbers\n",
        "def list(x):\n",
        "  for i in x:\n",
        "    print(i)\n"
      ],
      "execution_count": 0,
      "outputs": []
    },
    {
      "cell_type": "markdown",
      "metadata": {
        "id": "KUl9iULMJgTe",
        "colab_type": "text"
      },
      "source": [
        "## If you import math_tool using an alias, then things should work fine"
      ]
    },
    {
      "cell_type": "code",
      "metadata": {
        "id": "-kJTuNmkFa0d",
        "colab_type": "code",
        "colab": {}
      },
      "source": [
        "import math_tools as mt"
      ],
      "execution_count": 0,
      "outputs": []
    },
    {
      "cell_type": "code",
      "metadata": {
        "id": "ocazs_JxFcfM",
        "colab_type": "code",
        "colab": {}
      },
      "source": [
        "mt.sum([10,20])"
      ],
      "execution_count": 0,
      "outputs": []
    },
    {
      "cell_type": "markdown",
      "metadata": {
        "id": "_1uWD8ipM_qa",
        "colab_type": "text"
      },
      "source": [
        "### If you import the function directly, then now you've overwritten the built in function 'sum'!"
      ]
    },
    {
      "cell_type": "code",
      "metadata": {
        "id": "20BwPUa7JnVN",
        "colab_type": "code",
        "colab": {}
      },
      "source": [
        "from math_tools import sum"
      ],
      "execution_count": 0,
      "outputs": []
    },
    {
      "cell_type": "code",
      "metadata": {
        "id": "H2oN4mpcJqqL",
        "colab_type": "code",
        "colab": {}
      },
      "source": [
        "sum([10,20])"
      ],
      "execution_count": 0,
      "outputs": []
    },
    {
      "cell_type": "markdown",
      "metadata": {
        "id": "jIUavG9SLXTv",
        "colab_type": "text"
      },
      "source": [
        "## Even worse...you might give something the same name as an important built in function...and in this case, it does something else that will cause errors down the road"
      ]
    },
    {
      "cell_type": "code",
      "metadata": {
        "id": "WaolL64vLpEq",
        "colab_type": "code",
        "colab": {}
      },
      "source": [
        "from math_tools import list"
      ],
      "execution_count": 0,
      "outputs": []
    },
    {
      "cell_type": "markdown",
      "metadata": {
        "id": "RWPz_c41MUgq",
        "colab_type": "text"
      },
      "source": [
        "### In this case we don't really hurt anything...\n"
      ]
    },
    {
      "cell_type": "code",
      "metadata": {
        "id": "DMoYNWrqLZdd",
        "colab_type": "code",
        "colab": {}
      },
      "source": [
        "list([10,20])"
      ],
      "execution_count": 0,
      "outputs": []
    },
    {
      "cell_type": "markdown",
      "metadata": {
        "id": "abyP8d2YMONA",
        "colab_type": "text"
      },
      "source": [
        "### But in this case things go totally wrong and you will tear your hair out figuring out what the bug is"
      ]
    },
    {
      "cell_type": "code",
      "metadata": {
        "id": "QCSmCoTlLco5",
        "colab_type": "code",
        "colab": {}
      },
      "source": [
        "x = list(range(0,10))\n",
        "\n",
        "y = 0\n",
        "for i in x:\n",
        "  y *= i\n",
        "\n",
        "print(y)"
      ],
      "execution_count": 0,
      "outputs": []
    },
    {
      "cell_type": "markdown",
      "metadata": {
        "id": "1CoVjLfT_Fqq",
        "colab_type": "text"
      },
      "source": [
        "## You can combine what we've learning so far to also give a specific function from a module an alias\n",
        "* again - rule here is that you should not sacrifice readability for short names...\n"
      ]
    },
    {
      "cell_type": "code",
      "metadata": {
        "id": "euhsZdyNNSMd",
        "colab_type": "code",
        "colab": {}
      },
      "source": [
        "from math_tools import cubed as cb"
      ],
      "execution_count": 0,
      "outputs": []
    },
    {
      "cell_type": "code",
      "metadata": {
        "id": "uc-8A_YDLuCz",
        "colab_type": "code",
        "colab": {}
      },
      "source": [
        "cb(3)"
      ],
      "execution_count": 0,
      "outputs": []
    },
    {
      "cell_type": "markdown",
      "metadata": {
        "id": "XI4mlxsgIbAs",
        "colab_type": "text"
      },
      "source": [
        "## Bonus: Recursion...function calling itself!"
      ]
    },
    {
      "cell_type": "code",
      "metadata": {
        "id": "p-1nyQ7AIfLa",
        "colab_type": "code",
        "colab": {}
      },
      "source": [
        "def factorial(n):\n",
        "  if n == 1:\n",
        "    print('end of recursion')\n",
        "    return 1\n",
        "  else:\n",
        "    print('current value', n)\n",
        "    result = n * factorial(n-1)\n",
        "    return result"
      ],
      "execution_count": 0,
      "outputs": []
    },
    {
      "cell_type": "code",
      "metadata": {
        "id": "xgpw6286CQBU",
        "colab_type": "code",
        "colab": {}
      },
      "source": [
        "print(factorial(4))"
      ],
      "execution_count": 0,
      "outputs": []
    }
  ]
}
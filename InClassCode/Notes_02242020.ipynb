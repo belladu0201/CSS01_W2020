{
  "nbformat": 4,
  "nbformat_minor": 0,
  "metadata": {
    "colab": {
      "name": "Notes_02242020.ipynb",
      "provenance": [],
      "collapsed_sections": []
    },
    "kernelspec": {
      "display_name": "Python 3",
      "language": "python",
      "name": "python3"
    }
  },
  "cells": [
    {
      "cell_type": "markdown",
      "metadata": {
        "id": "LBhPz6AzkTax",
        "colab_type": "text"
      },
      "source": [
        "# File I/O and a few more notes about string formatting, along with some NumPy for binary files and the os module for dir info\n",
        "* How to read/write different file types - .txt, .csv, json\n",
        "\n",
        "[useful link to Python Software Foundation doc](https://docs.python.org/3/tutorial/inputoutput.html)\n",
        "\n",
        "[link to colab specific file I/O info](https://colab.research.google.com/notebooks/io.ipynb#scrollTo=p2E4EKhCWEC5)"
      ]
    },
    {
      "cell_type": "markdown",
      "metadata": {
        "id": "rnxc3hvjkTay",
        "colab_type": "text"
      },
      "source": [
        "## Quick notes on string formatting because we'll use this to generate some data files to read/write\n",
        "* With the str.format(), you pass in the index of the argument that we want to insert into each { } \n",
        "* The second number determines how many places we want to set aside for spacing the output. \n",
        "* Using this convention makes it easy to make neatly organized output using print or writing to a file"
      ]
    },
    {
      "cell_type": "code",
      "metadata": {
        "id": "lPw2WTcMkTaz",
        "colab_type": "code",
        "colab": {}
      },
      "source": [
        "for x in range(0, 11):\n",
        "  print('{0:2d} {1:4d} {2:5d}'.format(x, 2**x, 3**x))"
      ],
      "execution_count": 0,
      "outputs": []
    },
    {
      "cell_type": "markdown",
      "metadata": {
        "id": "CAOUGUylkTa4",
        "colab_type": "text"
      },
      "source": [
        "## Quick note about file I/O on Google Colab\n",
        "* Usually when we write a new file on a local install of Python (running e.g. Jupyter), the file will write directly to the current working directory\n",
        "* However, on Google Colab it will write to your 'content' folder, which can only be mounted in the virtual machine via a special authentication process\n",
        "* You can do this if you'd like, but I'm not sure I'd suggest it just for the purpose of this class because it will open all your drive files to the google file stream service - its probably fine, but its a decision you might want to investigate a bit more on your own. \n",
        "* If you ever do want to do this, use the code in the cell below - it will generate an authentication link and then you'll be able to mount the content drive and you can access google drive just like a local hard drive. "
      ]
    },
    {
      "cell_type": "code",
      "metadata": {
        "id": "APWoI21pkTa5",
        "colab_type": "code",
        "colab": {}
      },
      "source": [
        "# read the text cell above FIRST before running this code\n",
        "# from google.colab import drive\n",
        "# drive.mount('/content/drive')\n",
        "\n",
        "# %ls #line magic to list out the contents of the current working directory. "
      ],
      "execution_count": 0,
      "outputs": []
    },
    {
      "cell_type": "markdown",
      "metadata": {
        "id": "V1KaGIumkTbH",
        "colab_type": "text"
      },
      "source": [
        "### An alternate to mounting the drive locally...this will open a download dialog box that you can use to download any text files that you create if you want to view them"
      ]
    },
    {
      "cell_type": "code",
      "metadata": {
        "id": "Kf1ryJFJkTbJ",
        "colab_type": "code",
        "colab": {}
      },
      "source": [
        "from google.colab import files\n",
        "# usage: see below, but here is the basic syntax\n",
        "# files.download('test.txt')"
      ],
      "execution_count": 0,
      "outputs": []
    },
    {
      "cell_type": "markdown",
      "metadata": {
        "id": "EvKPsgt-kTa8",
        "colab_type": "text"
      },
      "source": [
        "## Open a file\n",
        "* open() creates a file object, and usually takes two arguments - a filename and the read mode\n",
        "\n",
        "* The first argument is the filename. The second argument describes how the file will be used - read mode ('r'), write mode('w'), read/write mode ('r+') or append mode ('a'). \n",
        "    * read mode 'r' will be assumed if the second arg is omitted\n",
        "    \n",
        "* By default, files are opened in text mode, so you're reading and writing strings to the file. \n",
        "\n",
        "* Binary mode is enabled by appending 'b' to the read/write/append arg (e.g. 'rb' is read binary).\n",
        "\n",
        "* In binary mode, you're reading/writing in units of bytes - this will often be the case for non txt files like image files and so forth"
      ]
    },
    {
      "cell_type": "code",
      "metadata": {
        "id": "-s60SsOqkTa8",
        "colab_type": "code",
        "colab": {}
      },
      "source": [
        "# for writing to a txt file\n",
        "# 'w' will overwrite the file with that name!\n",
        "f = open('test.txt', 'w')\n",
        "f.close()\n",
        "%ls"
      ],
      "execution_count": 0,
      "outputs": []
    },
    {
      "cell_type": "code",
      "metadata": {
        "id": "1nN07CKGkTa_",
        "colab_type": "code",
        "colab": {}
      },
      "source": [
        "# for reading\n",
        "f = open('test.txt', 'r')\n",
        "f.close()"
      ],
      "execution_count": 0,
      "outputs": []
    },
    {
      "cell_type": "code",
      "metadata": {
        "id": "OiMz5nkJkTbB",
        "colab_type": "code",
        "colab": {}
      },
      "source": [
        "# for appending\n",
        "f = open('test.txt', 'a')\n",
        "f.close()"
      ],
      "execution_count": 0,
      "outputs": []
    },
    {
      "cell_type": "code",
      "metadata": {
        "id": "RV79aC3bkTbF",
        "colab_type": "code",
        "colab": {}
      },
      "source": [
        "# for reading or writing\n",
        "f = open('test.txt', 'r+')\n",
        "f.close()"
      ],
      "execution_count": 0,
      "outputs": []
    },
    {
      "cell_type": "code",
      "metadata": {
        "id": "7gcZlQeu2qXy",
        "colab_type": "code",
        "colab": {}
      },
      "source": [
        "# for writing binary file\n",
        "f = open('test.bin', 'wb')\n",
        "f.close()"
      ],
      "execution_count": 0,
      "outputs": []
    },
    {
      "cell_type": "markdown",
      "metadata": {
        "id": "iMlEWfqy2tUk",
        "colab_type": "text"
      },
      "source": [
        "# CLICKER 0"
      ]
    },
    {
      "cell_type": "markdown",
      "metadata": {
        "id": "r8TGGe6PkTbM",
        "colab_type": "text"
      },
      "source": [
        "### Now lets try it out by actually writing something to the text files. \n",
        "* Note the use of the newline character in format statement!"
      ]
    },
    {
      "cell_type": "code",
      "metadata": {
        "id": "fdRV_y4NkTbN",
        "colab_type": "code",
        "colab": {}
      },
      "source": [
        "f = open('test.txt', 'w')\n",
        "for x in range(0, 11):\n",
        "  # include the \\n newline character - the text file will need that specified\n",
        "  # to properly know what line to put the text on\n",
        "  f.write('{0:2d} {1:4d} {2:5d}\\n'.format(x, 2**x, 3**x))\n",
        "  \n",
        "f.close()\n",
        "\n",
        "# download and take a look!\n",
        "# NOTE - if you're running windows then use WordPad instead of Notepad - Notepad\n",
        "# ignores newline chars\n",
        "files.download('test.txt')"
      ],
      "execution_count": 0,
      "outputs": []
    },
    {
      "cell_type": "markdown",
      "metadata": {
        "id": "mfHdOwQY27Ix",
        "colab_type": "text"
      },
      "source": [
        "## QUESTION: what happens if you don't close it? \n",
        "* Leaving too many things open is bad...lots of overhead\n",
        "* You're letting python clean up your mess...not a good idea.\n",
        "* Changes to the file may not into effect until you close it. This is big problem if you write to a file, then try to read from it...you may not see the stuff that you wrote. "
      ]
    },
    {
      "cell_type": "code",
      "metadata": {
        "id": "PW0mRJTskTbQ",
        "colab_type": "code",
        "outputId": "28ea5789-0fde-4f56-f8f5-1fc542316847",
        "colab": {
          "base_uri": "https://localhost:8080/",
          "height": 35
        }
      },
      "source": [
        "# a better way...this will ensure that the file is properly closed when you're \n",
        "# done dealing with it (as many errors are caused by failing to close a file after open)\n",
        "with open('test.txt', 'w') as f:\n",
        "  for x in range(0, 11):\n",
        "    # include the \\n newline character\n",
        "    f.write('{0:2d} {1:4d} {2:5d}\\n'.format(x, 2**x, 3**x))\n",
        "\n",
        "#check to see if its closed - should be beacuse we're outside the 'with' block\n",
        "print(f.closed)\n",
        "\n",
        "# download the file\n",
        "files.download('test.txt')"
      ],
      "execution_count": 0,
      "outputs": [
        {
          "output_type": "stream",
          "text": [
            "True\n"
          ],
          "name": "stdout"
        }
      ]
    },
    {
      "cell_type": "markdown",
      "metadata": {
        "id": "vSc599vb2pgA",
        "colab_type": "text"
      },
      "source": [
        "# CLICKER 1"
      ]
    },
    {
      "cell_type": "markdown",
      "metadata": {
        "id": "-qdQKZEIkTbT",
        "colab_type": "text"
      },
      "source": [
        "### The 'read' method - f.read(size)\n",
        "* Will read in **size** data from the file, where size is in terms of text or in terms of bytes (for binary read, more on that later)\n",
        "* If you leave this blank, then it will read the entire file. That can be very problematic if the file is REALLY big and explodes your computer. "
      ]
    },
    {
      "cell_type": "code",
      "metadata": {
        "id": "jGKncqWvkTbT",
        "colab_type": "code",
        "colab": {}
      },
      "source": [
        "# open our file for reading...\n",
        "with open('test.txt', 'r') as f:\n",
        "  # go ahead and read the entire file...\n",
        "  out = f.read()\n",
        "    \n",
        "# print it out\n",
        "print(out)"
      ],
      "execution_count": 0,
      "outputs": []
    },
    {
      "cell_type": "code",
      "metadata": {
        "id": "nr-GXpqJkTbX",
        "colab_type": "code",
        "colab": {}
      },
      "source": [
        "# open our file for reading...just grab 15 elements and print\n",
        "with open('test.txt', 'r') as f:\n",
        "  out = f.read(13)\n",
        "    \n",
        "# print it out\n",
        "print(out)"
      ],
      "execution_count": 0,
      "outputs": []
    },
    {
      "cell_type": "markdown",
      "metadata": {
        "id": "Y7mEFrFe14-i",
        "colab_type": "text"
      },
      "source": [
        "## A better way to read a line of text...\n",
        "* Importance of newline character!"
      ]
    },
    {
      "cell_type": "code",
      "metadata": {
        "id": "T0O_L1S3kTbZ",
        "colab_type": "code",
        "outputId": "86880f93-b686-4b1f-c4f5-bc2ea6ba54c1",
        "colab": {
          "base_uri": "https://localhost:8080/",
          "height": 35
        }
      },
      "source": [
        "with open('test.txt', 'r') as f:\n",
        "  # read a line\n",
        "  out = f.readline()\n",
        "    \n",
        "# print it out\n",
        "print(out)"
      ],
      "execution_count": 0,
      "outputs": [
        {
          "output_type": "stream",
          "text": [
            " 0   \n"
          ],
          "name": "stdout"
        }
      ]
    },
    {
      "cell_type": "markdown",
      "metadata": {
        "id": "L5QBkBC1XAky",
        "colab_type": "text"
      },
      "source": [
        "### Loop line by line and print out...\n",
        "* \"end\" keyword defines what ends each line in the print statement - default is \n",
        "the newline char, and we already have that so we don't want to add it in again\n"
      ]
    },
    {
      "cell_type": "code",
      "metadata": {
        "id": "aeUq_2N2kTbc",
        "colab_type": "code",
        "colab": {}
      },
      "source": [
        "with open('test.txt', 'r') as f:\n",
        "  # loop over all lines\n",
        "  for line in f:\n",
        "    print(line, end='')"
      ],
      "execution_count": 0,
      "outputs": []
    },
    {
      "cell_type": "markdown",
      "metadata": {
        "id": "QMvl3DZZlVY9",
        "colab_type": "text"
      },
      "source": [
        "### Append mode"
      ]
    },
    {
      "cell_type": "code",
      "metadata": {
        "id": "kOijxds_lZpj",
        "colab_type": "code",
        "colab": {}
      },
      "source": [
        "# open our test.txt file and append to it - will just pick up where you left off!\n",
        "with open('test.txt', 'a') as f:\n",
        "  for x in range(0, 11):\n",
        "    # include the \\n newline character\n",
        "    f.write('{0:2d} {1:4d} {2:5d}\\n'.format(x, 2*x, 3*x))\n",
        "\n",
        "#confirm that its closed\n",
        "print(f.closed)\n",
        "files.download('test.txt')"
      ],
      "execution_count": 0,
      "outputs": []
    }
  ]
}
{
  "nbformat": 4,
  "nbformat_minor": 0,
  "metadata": {
    "colab": {
      "name": "Notes_02262020.ipynb",
      "provenance": [],
      "collapsed_sections": []
    },
    "kernelspec": {
      "name": "python3",
      "display_name": "Python 3"
    }
  },
  "cells": [
    {
      "cell_type": "markdown",
      "metadata": {
        "id": "y1MpgvX2lnjz",
        "colab_type": "text"
      },
      "source": [
        "# More file I/O, intro to Pandas"
      ]
    },
    {
      "cell_type": "code",
      "metadata": {
        "id": "aAYU3QHEj_Dn",
        "colab_type": "code",
        "colab": {}
      },
      "source": [
        "# import our files functionality from last time\n",
        "from google.colab import files"
      ],
      "execution_count": 0,
      "outputs": []
    },
    {
      "cell_type": "code",
      "metadata": {
        "id": "1y9ZGiuQ1sDE",
        "colab_type": "code",
        "colab": {}
      },
      "source": [
        "# open a file for writing\n",
        "with open('test.txt', 'w') as f:\n",
        "  for x in range(0, 11):\n",
        "    f.write(str(x**2) + '\\n')\n",
        "\n",
        "#files.download('test.txt')\n",
        "%pycat test.txt\n",
        "%ls"
      ],
      "execution_count": 0,
      "outputs": []
    },
    {
      "cell_type": "markdown",
      "metadata": {
        "id": "k0Qcfs81wEgt",
        "colab_type": "text"
      },
      "source": [
        "### What happens when you try to write an integer to a text file?"
      ]
    },
    {
      "cell_type": "code",
      "metadata": {
        "id": "PCraRe4zwJmz",
        "colab_type": "code",
        "colab": {}
      },
      "source": [
        "# open a file for writing\n",
        "with open('test.txt', 'w') as f:\n",
        "  for x in range(0, 11):\n",
        "    f.write(x)\n"
      ],
      "execution_count": 0,
      "outputs": []
    },
    {
      "cell_type": "markdown",
      "metadata": {
        "id": "KGJ5O-WakTbf",
        "colab_type": "text"
      },
      "source": [
        "## Binary file I/O\n",
        "* So far we've just been dealing with text files where everything is a string (of characters)\n",
        "* Binary files are written in \"machine language\" that is denser and easier to interpret (for the machine, not for you!)\n",
        "* Can use bytearray to convert numbers over the range 0:255 to binary format"
      ]
    },
    {
      "cell_type": "code",
      "metadata": {
        "id": "pXYeLAkCvr6q",
        "colab_type": "code",
        "colab": {}
      },
      "source": [
        "# open a file for writing binary\n",
        "with open('test.bin', 'wb') as f:\n",
        "  # generate a list of numbers, use bytearray to convert\n",
        "  # numbers over the range 0:255 to binary format\n",
        "  bytes_to_write = bytearray([0,1,2,3,4,5])\n",
        "\n",
        "  # write to file!\n",
        "  f.write(bytes_to_write)\n",
        "\n",
        "# have a look!\n",
        "files.download('test.bin')\n",
        "%pycat test.bin"
      ],
      "execution_count": 0,
      "outputs": []
    },
    {
      "cell_type": "code",
      "metadata": {
        "id": "gbEuUuOeyB9b",
        "colab_type": "code",
        "colab": {}
      },
      "source": [
        "# now read it back in\n",
        "with open('test.bin', 'rb') as f:\n",
        "  # remember that f.read() reads in the entire file...\n",
        "  bytes_read = f.read()\n",
        "\n",
        "# notice that f.read() returns the byte array as a string\n",
        "print(bytes_read)"
      ],
      "execution_count": 0,
      "outputs": []
    },
    {
      "cell_type": "markdown",
      "metadata": {
        "id": "CN0H7w-03CHB",
        "colab_type": "text"
      },
      "source": [
        "## Can use numpy to make reading/writing binary formats more human friendly"
      ]
    },
    {
      "cell_type": "code",
      "metadata": {
        "id": "yil7804v3Gro",
        "colab_type": "code",
        "colab": {}
      },
      "source": [
        "import numpy as np"
      ],
      "execution_count": 0,
      "outputs": []
    },
    {
      "cell_type": "markdown",
      "metadata": {
        "id": "thu0CU3TivUT",
        "colab_type": "text"
      },
      "source": [
        "#### now read it back in - note that you HAVE to know the data type!\n",
        "* if you use the wrong dtype, then you might try to read too many bytes in at once and you'll get the wrong numbers (or none...)\n"
      ]
    },
    {
      "cell_type": "code",
      "metadata": {
        "id": "FjLMLiJOzLYy",
        "colab_type": "code",
        "colab": {}
      },
      "source": [
        "with open('test.bin', 'rb') as f:\n",
        "  bytes_read = np.fromfile(f, dtype=np.int8)\n",
        "  #bytes_read = np.fromfile(f, dtype=np.int16)\n",
        "  \n",
        "print(bytes_read)"
      ],
      "execution_count": 0,
      "outputs": []
    },
    {
      "cell_type": "markdown",
      "metadata": {
        "id": "oWivHJ_Zsu8p",
        "colab_type": "text"
      },
      "source": [
        "## JSON (JavaScript Object Notation) format\n",
        "* straightforward and standardized way of storing and exchanging data files\n",
        "* kind of like a csv or a txt file in nature, but more sophisticated\n",
        "* developed as a way of tranferring JavaScript objects between browsers and servers, but now frequently used for all types of data and languages\n",
        "* takes one of several data formats: \n",
        "  * objects (like dictionaries)\n",
        "  * arrays (like lists)\n",
        "  * values (string in double quotes or a number)\n",
        "  * strings (sequence of characters)\n",
        "\n",
        "[link to main page](http://json.org/)"
      ]
    },
    {
      "cell_type": "code",
      "metadata": {
        "id": "7TynSx0HwLJK",
        "colab_type": "code",
        "colab": {}
      },
      "source": [
        "# import json module\n",
        "import json"
      ],
      "execution_count": 0,
      "outputs": []
    },
    {
      "cell_type": "code",
      "metadata": {
        "id": "JV1qrCszs9bz",
        "colab_type": "code",
        "colab": {}
      },
      "source": [
        "# build a dictionary with a bunch of different data types, including a sub list\n",
        "# of dictionaries\n",
        "user_profile = {\n",
        "  \"name\": \"John\",\n",
        "  \"age\": 30,\n",
        "  \"bicycle\": \"Giant\",\n",
        "}\n",
        "\n",
        "out = json.dumps(user_profile)\n",
        "print(out)"
      ],
      "execution_count": 0,
      "outputs": []
    },
    {
      "cell_type": "markdown",
      "metadata": {
        "id": "icaIIsvavBOO",
        "colab_type": "text"
      },
      "source": [
        "### Now write a .json file to disk - very similar to file creating/writing that we did above"
      ]
    },
    {
      "cell_type": "code",
      "metadata": {
        "id": "BWciYSC1vADu",
        "colab_type": "code",
        "colab": {}
      },
      "source": [
        "with open('test.json', 'w') as outfile:\n",
        "  json.dump(user_profile, outfile)\n",
        "  \n",
        "files.download('test.json')"
      ],
      "execution_count": 0,
      "outputs": []
    },
    {
      "cell_type": "markdown",
      "metadata": {
        "id": "k2VyOdmzH2GR",
        "colab_type": "text"
      },
      "source": [
        "## Now load the json file back in!"
      ]
    },
    {
      "cell_type": "code",
      "metadata": {
        "id": "WCUk8w-DAPPA",
        "colab_type": "code",
        "colab": {}
      },
      "source": [
        "with open('test.json', 'r') as outfile:\n",
        "  x = json.load(outfile)\n",
        "  \n",
        "# and you get back a dictionary\n",
        "x['bicycle']"
      ],
      "execution_count": 0,
      "outputs": []
    },
    {
      "cell_type": "markdown",
      "metadata": {
        "id": "Xj9467MOP3qn",
        "colab_type": "text"
      },
      "source": [
        "## Basic data structures - start with Series then build up to DataFrames\n",
        "\n",
        "[Pandas quick start guide for Series](https://pandas.pydata.org/pandas-docs/stable/dsintro.html#series)\n",
        "\n",
        "* A **Series** is a 1D array that can hold any type of data (numeric types, non-numeric, Python objects and so forth).\n",
        "    * Each entry is **labeled** with an index that is used to keep track of what each entry is, and can be used to lookup the value corresponding to each index during analysis (remember keys in dictionaries? similar idea)\n",
        "    * These labels are fixed - they will always index the same value unless you explicitly break that link.\n",
        "    * The list of labels that forms the index can either be declared upon series creation or, by default, it will range from 0 to len(data)-1.\n",
        "        * If you're going to use Pandas to organize your data, specifying usable and informative labels is a good idea because that's one of the main advantages of organizing your data in this manner\n",
        "        \n",
        "\n",
        "**Warning**. Pandas will allow you to specify non-unique labels. This can be ok for operations that don't rely on indexing by label. However, operations that do rely on unique labels for indexing may throw an unexpected error so in general its good practice to use unique labels!\n"
      ]
    },
    {
      "cell_type": "markdown",
      "metadata": {
        "id": "rfoyifY6P3qo",
        "colab_type": "text"
      },
      "source": [
        "## Import Pandas and os (for file path functionality)"
      ]
    },
    {
      "cell_type": "code",
      "metadata": {
        "id": "vb5enlUrP3qp",
        "colab_type": "code",
        "colab": {}
      },
      "source": [
        "# import a generic pandas object and also a few specific functions that we'll use\n",
        "import pandas as pd\n",
        "import random as random"
      ],
      "execution_count": 0,
      "outputs": []
    },
    {
      "cell_type": "markdown",
      "metadata": {
        "id": "KZdF7oqJP3qt",
        "colab_type": "text"
      },
      "source": [
        "## Create a series of data stored in a list, and then make a set of index labels"
      ]
    },
    {
      "cell_type": "code",
      "metadata": {
        "id": "Kx3RdPn6P3qu",
        "colab_type": "code",
        "colab": {}
      },
      "source": [
        "# seed the generator\n",
        "random.seed(0)\n",
        "\n",
        "# For this simulation, lets have 12 subjects, and some data\n",
        "# generated psuedo-randomly from a normal distribution\n",
        "N = 12\n",
        "M = 40\n",
        "\n",
        "# init a list\n",
        "data=[]\n",
        "\n",
        "# fill it up with random integers over the range 0, M\n",
        "for i in range(0,N):\n",
        "  data.append(random.randint(0,M))\n",
        "\n",
        "print(data)"
      ],
      "execution_count": 0,
      "outputs": []
    },
    {
      "cell_type": "markdown",
      "metadata": {
        "id": "FQa7_0r2sjuu",
        "colab_type": "text"
      },
      "source": [
        "## Make a list of subject names for use as index labels\n"
      ]
    },
    {
      "cell_type": "code",
      "metadata": {
        "id": "dgIppzM6r4pZ",
        "colab_type": "code",
        "colab": {}
      },
      "source": [
        "label_prefix = 'Sub'\n",
        "index=[]\n",
        "for n in range(0,N):\n",
        "    index.append(label_prefix+str(n))    \n",
        "    \n",
        "# print our list of index labels\n",
        "print('Index labels: ', index, '\\n')"
      ],
      "execution_count": 0,
      "outputs": []
    },
    {
      "cell_type": "markdown",
      "metadata": {
        "id": "9koBP1iushfV",
        "colab_type": "text"
      },
      "source": [
        "## Then make our Pandas Series by passing in our data array and our index labels"
      ]
    },
    {
      "cell_type": "code",
      "metadata": {
        "id": "yuuHwjk2sgCS",
        "colab_type": "code",
        "colab": {}
      },
      "source": [
        "s = pd.Series(data, index=index)\n",
        "print(s)"
      ],
      "execution_count": 0,
      "outputs": []
    },
    {
      "cell_type": "markdown",
      "metadata": {
        "id": "zGYKoEjtP3qx",
        "colab_type": "text"
      },
      "source": [
        "## Note that each subject is now a field in the series and can be used to retrieve the corresponding value...there are a few ways to do this\n",
        "* can access by number\n",
        "* can access by field\n",
        "* can access by index label"
      ]
    },
    {
      "cell_type": "code",
      "metadata": {
        "id": "1l0YTipdrw8w",
        "colab_type": "code",
        "colab": {}
      },
      "source": [
        "print(s[0])"
      ],
      "execution_count": 0,
      "outputs": []
    },
    {
      "cell_type": "code",
      "metadata": {
        "id": "kyD1RV9bP3qy",
        "colab_type": "code",
        "colab": {}
      },
      "source": [
        "# access by field\n",
        "print(s.Sub11)"
      ],
      "execution_count": 0,
      "outputs": []
    },
    {
      "cell_type": "code",
      "metadata": {
        "id": "hHJNy5wBw3Sj",
        "colab_type": "code",
        "colab": {}
      },
      "source": [
        "# access by index label\n",
        "print(s['Sub0'])"
      ],
      "execution_count": 0,
      "outputs": []
    },
    {
      "cell_type": "markdown",
      "metadata": {
        "id": "7mKM9zZaP3q1",
        "colab_type": "text"
      },
      "source": [
        "## Can also use labels to check for membership or to index over labels"
      ]
    },
    {
      "cell_type": "code",
      "metadata": {
        "id": "uytQJM2GP3q2",
        "colab_type": "code",
        "colab": {}
      },
      "source": [
        "# check for membership\n",
        "print('Sub11' in s) "
      ],
      "execution_count": 0,
      "outputs": []
    },
    {
      "cell_type": "markdown",
      "metadata": {
        "id": "kD6MHIw1t_0r",
        "colab_type": "text"
      },
      "source": [
        "#### iterate over index labels\n"
      ]
    },
    {
      "cell_type": "code",
      "metadata": {
        "id": "Hd2Na95xt7Cs",
        "colab_type": "code",
        "colab": {}
      },
      "source": [
        "for i in s.index:\n",
        "  print(i)"
      ],
      "execution_count": 0,
      "outputs": []
    },
    {
      "cell_type": "markdown",
      "metadata": {
        "id": "0a_7wQSlt9yR",
        "colab_type": "text"
      },
      "source": [
        "#### iterate over values..."
      ]
    },
    {
      "cell_type": "code",
      "metadata": {
        "id": "lItQQN-1t8lq",
        "colab_type": "code",
        "colab": {}
      },
      "source": [
        "for v in s.values:\n",
        "  print(v)   "
      ],
      "execution_count": 0,
      "outputs": []
    },
    {
      "cell_type": "code",
      "metadata": {
        "id": "7KlYA_dKP3q5",
        "colab_type": "code",
        "colab": {}
      },
      "source": [
        "# can also get to the values more directly like this:\n",
        "for d in s:\n",
        "  print(d)"
      ],
      "execution_count": 0,
      "outputs": []
    }
  ]
}
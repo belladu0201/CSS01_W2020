{
  "nbformat": 4,
  "nbformat_minor": 0,
  "metadata": {
    "colab": {
      "name": "Notes_03022020.ipynb",
      "provenance": [],
      "collapsed_sections": []
    },
    "kernelspec": {
      "name": "python3",
      "display_name": "Python 3"
    }
  },
  "cells": [
    {
      "cell_type": "markdown",
      "metadata": {
        "id": "apgdqfvHP3q7",
        "colab_type": "text"
      },
      "source": [
        "## Cover a few other optional (but important) parameters of the pd.Series call\n",
        "* dtype - default is to infer the data type (int32, float64, str, etc) based on the values in data\n",
        "    * However, can also explicitly declare the data\n",
        "    * This can be good if you want to, for example, re-cast the data to save space or to make types compatible\n",
        "    * But this may also have important negative consequences if not done thoughtfully!\n"
      ]
    },
    {
      "cell_type": "markdown",
      "metadata": {
        "id": "teTds80oP3rC",
        "colab_type": "text"
      },
      "source": [
        "#### Example: change from int to str\n",
        "* Note that the dtype of series 's' is now an 'object'. This is the Pandas version of a Python 'str'\n"
      ]
    },
    {
      "cell_type": "markdown",
      "metadata": {
        "id": "5QgnoHuwkaet",
        "colab_type": "text"
      },
      "source": [
        "## First lets set up pandas and make a fake data set to play with\n",
        "\n",
        "\n",
        "\n"
      ]
    },
    {
      "cell_type": "code",
      "metadata": {
        "id": "ZCksEu8EkVej",
        "colab_type": "code",
        "colab": {}
      },
      "source": [
        "import pandas as pd\n",
        "import random as random"
      ],
      "execution_count": 0,
      "outputs": []
    },
    {
      "cell_type": "markdown",
      "metadata": {
        "id": "UwLgLe0vfd95",
        "colab_type": "text"
      },
      "source": [
        "## Make up some data and corresponding labels to play with"
      ]
    },
    {
      "cell_type": "code",
      "metadata": {
        "id": "NkR7OzFglJds",
        "colab_type": "code",
        "colab": {}
      },
      "source": [
        "data = [10, 23, 88, 43, 29]\n",
        "labels = [0,1,2,3,4]"
      ],
      "execution_count": 0,
      "outputs": []
    },
    {
      "cell_type": "code",
      "metadata": {
        "id": "PMdUhFX0P3rC",
        "colab_type": "code",
        "colab": {}
      },
      "source": [
        "# make a series with the data array from above, but this time make it a str\n",
        "# instead of the inferred int64 type\n",
        "s = pd.Series(data, index=labels, dtype='str')\n",
        "\n",
        "# we're now\n",
        "# all set to do a bunch of str operations without having to deal with \n",
        "# recasting each time we interact with the values in s\n",
        "print(s[0]=='10')\n",
        "print(s[0]==10)"
      ],
      "execution_count": 0,
      "outputs": []
    },
    {
      "cell_type": "markdown",
      "metadata": {
        "id": "DcXJdmizQUgs",
        "colab_type": "text"
      },
      "source": [
        "### Re-make our series as int64 before moving on because we'll want them to be ints for the next several cells. \n",
        "\n",
        "\n"
      ]
    },
    {
      "cell_type": "code",
      "metadata": {
        "id": "We4cwONzm4qY",
        "colab_type": "code",
        "colab": {}
      },
      "source": [
        "s = pd.Series(data, index=labels, dtype='int64')"
      ],
      "execution_count": 0,
      "outputs": []
    },
    {
      "cell_type": "markdown",
      "metadata": {
        "id": "p99msXG-P3rX",
        "colab_type": "text"
      },
      "source": [
        "## Slicing a Pandas series\n",
        "* start, stop, step notation from lists..."
      ]
    },
    {
      "cell_type": "code",
      "metadata": {
        "id": "tdozOwATP3rZ",
        "colab_type": "code",
        "colab": {}
      },
      "source": [
        "# first 3 values - notice that you get the label along with the values\n",
        "print(s[:3])"
      ],
      "execution_count": 0,
      "outputs": []
    },
    {
      "cell_type": "code",
      "metadata": {
        "id": "GlXOxiuYzOgx",
        "colab_type": "code",
        "colab": {}
      },
      "source": [
        "s[2:-1]    # 3rd entry to len(s)-1"
      ],
      "execution_count": 0,
      "outputs": []
    },
    {
      "cell_type": "code",
      "metadata": {
        "id": "vNV4G8xsQk4K",
        "colab_type": "code",
        "colab": {}
      },
      "source": [
        "# reverse, etc\n",
        "s[::-1]"
      ],
      "execution_count": 0,
      "outputs": []
    },
    {
      "cell_type": "code",
      "metadata": {
        "id": "uIguJ9d7QqBd",
        "colab_type": "code",
        "colab": {}
      },
      "source": [
        "# every other, etc\n",
        "s[::2]"
      ],
      "execution_count": 0,
      "outputs": []
    },
    {
      "cell_type": "markdown",
      "metadata": {
        "id": "a5nWjbXvzSro",
        "colab_type": "text"
      },
      "source": [
        "### Another example using more advanced slicing...\n",
        "* this is super handy when cleaning data to exclude outliers!\n"
      ]
    },
    {
      "cell_type": "code",
      "metadata": {
        "id": "Y2_QXICSzRO4",
        "colab_type": "code",
        "colab": {}
      },
      "source": [
        "s[s>=20]    #all entries greater than or equal to 30"
      ],
      "execution_count": 0,
      "outputs": []
    },
    {
      "cell_type": "markdown",
      "metadata": {
        "id": "JaHzCjSamluu",
        "colab_type": "text"
      },
      "source": [
        "### Find values within a range"
      ]
    },
    {
      "cell_type": "code",
      "metadata": {
        "id": "KHz8EhndRLo0",
        "colab_type": "code",
        "colab": {}
      },
      "source": [
        "s[(s>=20) & (s<=45)]"
      ],
      "execution_count": 0,
      "outputs": []
    },
    {
      "cell_type": "markdown",
      "metadata": {
        "id": "yVlAJqrqKtN5",
        "colab_type": "text"
      },
      "source": [
        "### There is also the 'between' method to find values within a range \n",
        "* the 'between' method will return True/False depending on whether each entry falls in between the bounds. \n",
        "* can then use that index to find values within a range!"
      ]
    },
    {
      "cell_type": "code",
      "metadata": {
        "id": "WCyFDsqMKJp5",
        "colab_type": "code",
        "colab": {}
      },
      "source": [
        "ind = s.between(23, 45, inclusive=False)\n",
        "s[ind]"
      ],
      "execution_count": 0,
      "outputs": []
    },
    {
      "cell_type": "markdown",
      "metadata": {
        "id": "h-qgfvr2P3rU",
        "colab_type": "text"
      },
      "source": [
        "## Series objects have many built in operations\n",
        "[list of attributes and methods](https://pandas.pydata.org/pandas-docs/version/0.23.4/generated/pandas.Series.html)"
      ]
    },
    {
      "cell_type": "code",
      "metadata": {
        "id": "OCM4_3vuy113",
        "colab_type": "code",
        "colab": {}
      },
      "source": [
        "# shouldn't need to re-run, but make sure that you've got int64 data here (and \n",
        "# not str)\n",
        "s = pd.Series(data, index=labels, dtype='int64')"
      ],
      "execution_count": 0,
      "outputs": []
    },
    {
      "cell_type": "code",
      "metadata": {
        "id": "m1eVd91SP3rV",
        "colab_type": "code",
        "colab": {}
      },
      "source": [
        "# attributes\n",
        "print('Data Type: ', s.dtype)"
      ],
      "execution_count": 0,
      "outputs": []
    },
    {
      "cell_type": "code",
      "metadata": {
        "id": "yGrb7yfMz2tX",
        "colab_type": "code",
        "colab": {}
      },
      "source": [
        "# basic methods\n",
        "print('Mean: ', s.mean(), ' Std:', s.std(), 'Max: ', s.max())"
      ],
      "execution_count": 0,
      "outputs": []
    },
    {
      "cell_type": "code",
      "metadata": {
        "id": "pQv0rOk6z4jc",
        "colab_type": "code",
        "colab": {}
      },
      "source": [
        "# numerical derivative\n",
        "print('Diff: ', s.diff())"
      ],
      "execution_count": 0,
      "outputs": []
    },
    {
      "cell_type": "markdown",
      "metadata": {
        "id": "Gr5XIXKwRfv5",
        "colab_type": "text"
      },
      "source": [
        "## Find the mean of all values that fall within a range...\n",
        "* can also apply other methods to compute std, etc after filtering"
      ]
    },
    {
      "cell_type": "code",
      "metadata": {
        "id": "_fW8v7h_RkK9",
        "colab_type": "code",
        "colab": {}
      },
      "source": [
        "s[(s>=10) & (s<=45)].mean()"
      ],
      "execution_count": 0,
      "outputs": []
    },
    {
      "cell_type": "markdown",
      "metadata": {
        "id": "jB5UXKGDo5bP",
        "colab_type": "text"
      },
      "source": [
        "# Pandas DataFrames \n",
        "[The official project homepage](https://pandas.pydata.org)\n",
        "\n",
        "* Goal\n",
        "    * Extend what we learned about Series objects in the previous tutorial to their 2D counterpart - DataFrames\n",
        "    * Develop some tools for dealing with missing data (not exhaustive, but a start)"
      ]
    },
    {
      "cell_type": "markdown",
      "metadata": {
        "id": "zVYQ5PIaqhHO",
        "colab_type": "text"
      },
      "source": [
        "## DataFrames\n",
        "\n",
        "[Pandas quick start guide for DataFrames](https://pandas.pydata.org/pandas-docs/stable/dsintro.html#dataframe)\n",
        "\n",
        "* A DataFrame (DF) is a labeled data struture that can be thought of as a 2D extension of the Series objects that we discussed in the first part of the tutorial\n",
        "* A DF can accept many types of input, multiple Series, a dict of 1D arrays, another DF, etc\n",
        "* Like a Series, DFs contain data values and their labels. Because we're now dealing with a 2D structure, we call the **row labels the index argument** and the **column labels the column argument**. \n",
        "    * Like a Series, if you don't explicitly assign row and column labels, then they will be auto-generated (but not as useful as specifying the labels yourself!)"
      ]
    },
    {
      "cell_type": "markdown",
      "metadata": {
        "id": "rllraM2JqhHQ",
        "colab_type": "text"
      },
      "source": [
        "<div class=\"alert alert-info\">\n",
        "Much of what we learned about Series objects will generalize to DFs, so here we'll focus on some of key functionality that might not be obvious based on the first part of the tutorial.\n",
        "</div>"
      ]
    },
    {
      "cell_type": "markdown",
      "metadata": {
        "id": "xNROimuAqhHS",
        "colab_type": "text"
      },
      "source": [
        "<div class=\"alert alert-info\">\n",
        "One more quick note: if using an older version of Python (earlier than 3.6) and Pandas (earlier than 0.23) and you create a DF from a dict without explicitly specifying column names, then the column names will be entered into the DF based on lexical order\n",
        "</div>"
      ]
    },
    {
      "cell_type": "markdown",
      "metadata": {
        "id": "rSRAuZBeqhHT",
        "colab_type": "text"
      },
      "source": [
        "## Import libs"
      ]
    },
    {
      "cell_type": "code",
      "metadata": {
        "colab_type": "code",
        "id": "WSshhuMGsbvG",
        "colab": {}
      },
      "source": [
        "# import a generic pandas object and also a few specific functions that we'll use\n",
        "import pandas as pd \n",
        "from google.colab import files"
      ],
      "execution_count": 0,
      "outputs": []
    },
    {
      "cell_type": "markdown",
      "metadata": {
        "colab_type": "text",
        "id": "bb0UY-EzsbvG"
      },
      "source": [
        "## Upload a file to the /content folder on google colab\n",
        "* Select the file you want to upload (the csv file that I sent out)\n",
        "* It will load into your 'contents' folder\n",
        "* Then you can interact with it just like a normal file on your hardrive\n",
        "\n"
      ]
    },
    {
      "cell_type": "code",
      "metadata": {
        "colab_type": "code",
        "id": "4rcM6rIQsbvA",
        "colab": {}
      },
      "source": [
        "%ls\n"
      ],
      "execution_count": 0,
      "outputs": []
    },
    {
      "cell_type": "code",
      "metadata": {
        "colab_type": "code",
        "id": "qM5MIde3sbu9",
        "colab": {}
      },
      "source": [
        "files.upload()"
      ],
      "execution_count": 0,
      "outputs": []
    },
    {
      "cell_type": "markdown",
      "metadata": {
        "colab_type": "text",
        "id": "HujAwXAYsbu6"
      },
      "source": [
        "### Remove unwanted files..."
      ]
    },
    {
      "cell_type": "code",
      "metadata": {
        "colab_type": "code",
        "id": "iXze_9j8sbu3",
        "colab": {}
      },
      "source": [
        "%ls"
      ],
      "execution_count": 0,
      "outputs": []
    },
    {
      "cell_type": "code",
      "metadata": {
        "colab_type": "code",
        "id": "ln2cXONgsbuy",
        "colab": {}
      },
      "source": [
        "%rm *.csv"
      ],
      "execution_count": 0,
      "outputs": []
    },
    {
      "cell_type": "markdown",
      "metadata": {
        "colab_type": "text",
        "id": "IyRqA2xfsbuv"
      },
      "source": [
        "## Make a DataFrame object to hold the contents of the data set\n",
        "[DataFrame help page](https://pandas.pydata.org/pandas-docs/version/0.21/generated/pandas.DataFrame.html)\n",
        "\n",
        "* Just like with the pd.Series call, you can specify the data, index labels (row labels in this case)\n",
        "* In addition to row labels, you can also specify column labels (with 'columns')\n",
        "* Can also specify data type (default is inferred)\n",
        "* If you read in the data from a csv file, you will be able to inheret row and column labels (if they are specified in the file). "
      ]
    },
    {
      "cell_type": "code",
      "metadata": {
        "colab_type": "code",
        "id": "_Q5MqefBsbur",
        "colab": {}
      },
      "source": [
        "# make the call to pd.DataFrames to create the DF - usage much like pd.Series\n",
        "df = pd.read_csv('annual_temp_csv2.csv')"
      ],
      "execution_count": 0,
      "outputs": []
    },
    {
      "cell_type": "code",
      "metadata": {
        "colab_type": "code",
        "id": "uBxnxnyWsbuo",
        "colab": {}
      },
      "source": [
        "# take a look at the output...\n",
        "# compare to print(df) - looks nicer with display thanks to iPython backend \n",
        "display(df)   "
      ],
      "execution_count": 0,
      "outputs": []
    },
    {
      "cell_type": "code",
      "metadata": {
        "colab_type": "code",
        "id": "whGJwNeAsbui",
        "colab": {}
      },
      "source": [
        "# another handy display function...good for large dfs that are too big to fit - \n",
        "# at least you can get an idea of the overall structure\n",
        "df.head()"
      ],
      "execution_count": 0,
      "outputs": []
    },
    {
      "cell_type": "markdown",
      "metadata": {
        "colab_type": "text",
        "id": "xIvDQepvsbuh"
      },
      "source": [
        "## Get a high-level summary of the data using built-in functionality of DataFrame object\n",
        "[API reference page](https://pandas.pydata.org/pandas-docs/stable/generated/pandas.DataFrame.describe.html)\n",
        "\n",
        "* What do you notice about the two counts for Year and for Mean"
      ]
    },
    {
      "cell_type": "code",
      "metadata": {
        "colab_type": "code",
        "id": "TjKmT4WBsbuc",
        "colab": {}
      },
      "source": [
        "df.describe()"
      ],
      "execution_count": 0,
      "outputs": []
    },
    {
      "cell_type": "markdown",
      "metadata": {
        "colab_type": "text",
        "id": "gdjx1eK2sbuZ"
      },
      "source": [
        "## Just like with Series object, can compute mean, std, etc"
      ]
    },
    {
      "cell_type": "code",
      "metadata": {
        "colab_type": "code",
        "id": "ZmqzMRIRsbuW",
        "colab": {}
      },
      "source": [
        "df['Year'].mean()"
      ],
      "execution_count": 0,
      "outputs": []
    },
    {
      "cell_type": "markdown",
      "metadata": {
        "colab_type": "text",
        "id": "RKn3S3AbsbuT"
      },
      "source": [
        "### remember that you can also call by field...I prefer by name like ['Mean'] to avoid confusion with built in methods/functions, but either will work"
      ]
    },
    {
      "cell_type": "code",
      "metadata": {
        "colab_type": "code",
        "id": "suPJjv05sbuO",
        "colab": {}
      },
      "source": [
        " df.Mean.std()"
      ],
      "execution_count": 0,
      "outputs": []
    },
    {
      "cell_type": "markdown",
      "metadata": {
        "colab_type": "text",
        "id": "3jB4diRYsbuM"
      },
      "source": [
        "### By default, mean, std etc will skip (ignore) missing values (NaNs)\n",
        "* Sometimes, its good to do a sanity check if you think there are missing values. \n",
        "* Can do this by chosing to NOT skip the NaNs...in which case if they exist you'll get back NaN as the answer!\n",
        "* Then you know that there are NaNs in the data set. "
      ]
    },
    {
      "cell_type": "code",
      "metadata": {
        "colab_type": "code",
        "id": "BNOnq5jRsbuH",
        "colab": {}
      },
      "source": [
        "df['Mean'].mean(skipna=False)"
      ],
      "execution_count": 0,
      "outputs": []
    }
  ]
}
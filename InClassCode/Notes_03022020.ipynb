{
  "nbformat": 4,
  "nbformat_minor": 0,
  "metadata": {
    "colab": {
      "name": "Notes_03022020.ipynb",
      "provenance": [],
      "collapsed_sections": []
    },
    "kernelspec": {
      "name": "python3",
      "display_name": "Python 3"
    }
  },
  "cells": [
    {
      "cell_type": "markdown",
      "metadata": {
        "id": "apgdqfvHP3q7",
        "colab_type": "text"
      },
      "source": [
        "## Cover a few other optional (but important) parameters of the pd.Series call\n",
        "* dtype - default is to infer the data type (int32, float64, str, etc) based on the values in data\n",
        "    * However, can also explicitly declare the data\n",
        "    * This can be good if you want to, for example, re-cast the data to save space or to make types compatible\n",
        "    * But this may also have important negative consequences if not done thoughtfully!\n"
      ]
    },
    {
      "cell_type": "markdown",
      "metadata": {
        "id": "teTds80oP3rC",
        "colab_type": "text"
      },
      "source": [
        "#### Example: change from int to str\n",
        "* Note that the dtype of series 's' is now an 'object'. This is the Pandas version of a Python 'str'\n"
      ]
    },
    {
      "cell_type": "markdown",
      "metadata": {
        "id": "5QgnoHuwkaet",
        "colab_type": "text"
      },
      "source": [
        "## First lets set up pandas and make a fake data set to play with\n",
        "\n",
        "\n",
        "\n"
      ]
    },
    {
      "cell_type": "code",
      "metadata": {
        "id": "ZCksEu8EkVej",
        "colab_type": "code",
        "colab": {}
      },
      "source": [
        "import pandas as pd\n",
        "import random as random"
      ],
      "execution_count": 0,
      "outputs": []
    },
    {
      "cell_type": "markdown",
      "metadata": {
        "id": "UwLgLe0vfd95",
        "colab_type": "text"
      },
      "source": [
        "## Make up some data and corresponding labels to play with"
      ]
    },
    {
      "cell_type": "code",
      "metadata": {
        "id": "NkR7OzFglJds",
        "colab_type": "code",
        "colab": {}
      },
      "source": [
        "data = [10, 23, 88, 43, 29]\n",
        "labels = [0,1,2,3,4]"
      ],
      "execution_count": 0,
      "outputs": []
    },
    {
      "cell_type": "code",
      "metadata": {
        "id": "PMdUhFX0P3rC",
        "colab_type": "code",
        "colab": {}
      },
      "source": [
        "# make a series with the data array from above, but this time make it a str\n",
        "# instead of the inferred int64 type\n",
        "s = pd.Series(data, index=labels, dtype='str')\n",
        "\n",
        "# we're now\n",
        "# all set to do a bunch of str operations without having to deal with \n",
        "# recasting each time we interact with the values in s\n",
        "print(s[0]=='10')\n",
        "print(s[0]==10)"
      ],
      "execution_count": 0,
      "outputs": []
    },
    {
      "cell_type": "markdown",
      "metadata": {
        "id": "DcXJdmizQUgs",
        "colab_type": "text"
      },
      "source": [
        "### Re-make our series as int64 before moving on because we'll want them to be ints for the next several cells. \n",
        "\n",
        "\n"
      ]
    },
    {
      "cell_type": "code",
      "metadata": {
        "id": "We4cwONzm4qY",
        "colab_type": "code",
        "colab": {}
      },
      "source": [
        "s = pd.Series(data, index=labels, dtype='int64')"
      ],
      "execution_count": 0,
      "outputs": []
    },
    {
      "cell_type": "markdown",
      "metadata": {
        "id": "p99msXG-P3rX",
        "colab_type": "text"
      },
      "source": [
        "## Slicing a Pandas series\n",
        "* start, stop, step notation from lists..."
      ]
    },
    {
      "cell_type": "code",
      "metadata": {
        "id": "tdozOwATP3rZ",
        "colab_type": "code",
        "colab": {}
      },
      "source": [
        "# first 3 values - notice that you get the label along with the values\n",
        "print(s[:3])"
      ],
      "execution_count": 0,
      "outputs": []
    },
    {
      "cell_type": "code",
      "metadata": {
        "id": "GlXOxiuYzOgx",
        "colab_type": "code",
        "colab": {}
      },
      "source": [
        "s[2:-1]    # 3rd entry to len(s)-1"
      ],
      "execution_count": 0,
      "outputs": []
    },
    {
      "cell_type": "code",
      "metadata": {
        "id": "vNV4G8xsQk4K",
        "colab_type": "code",
        "colab": {}
      },
      "source": [
        "# reverse, etc\n",
        "s[::-1]"
      ],
      "execution_count": 0,
      "outputs": []
    },
    {
      "cell_type": "code",
      "metadata": {
        "id": "uIguJ9d7QqBd",
        "colab_type": "code",
        "colab": {}
      },
      "source": [
        "# every other, etc\n",
        "s[::2]"
      ],
      "execution_count": 0,
      "outputs": []
    },
    {
      "cell_type": "markdown",
      "metadata": {
        "id": "a5nWjbXvzSro",
        "colab_type": "text"
      },
      "source": [
        "### Another example using more advanced slicing...\n",
        "* this is super handy when cleaning data to exclude outliers!\n"
      ]
    },
    {
      "cell_type": "code",
      "metadata": {
        "id": "Y2_QXICSzRO4",
        "colab_type": "code",
        "colab": {}
      },
      "source": [
        "s[s>=20]    #all entries greater than or equal to 30"
      ],
      "execution_count": 0,
      "outputs": []
    },
    {
      "cell_type": "markdown",
      "metadata": {
        "id": "JaHzCjSamluu",
        "colab_type": "text"
      },
      "source": [
        "### Find values within a range"
      ]
    },
    {
      "cell_type": "code",
      "metadata": {
        "id": "KHz8EhndRLo0",
        "colab_type": "code",
        "colab": {}
      },
      "source": [
        "s[(s>=20) & (s<=45)]"
      ],
      "execution_count": 0,
      "outputs": []
    },
    {
      "cell_type": "markdown",
      "metadata": {
        "id": "yVlAJqrqKtN5",
        "colab_type": "text"
      },
      "source": [
        "### There is also the 'between' method to find values within a range \n",
        "* the 'between' method will return True/False depending on whether each entry falls in between the bounds. \n",
        "* can then use that index to find values within a range!"
      ]
    },
    {
      "cell_type": "code",
      "metadata": {
        "id": "WCyFDsqMKJp5",
        "colab_type": "code",
        "colab": {}
      },
      "source": [
        "ind = s.between(23, 45, inclusive=False)\n",
        "s[ind]"
      ],
      "execution_count": 0,
      "outputs": []
    },
    {
      "cell_type": "markdown",
      "metadata": {
        "id": "h-qgfvr2P3rU",
        "colab_type": "text"
      },
      "source": [
        "## Series objects have many built in operations\n",
        "[list of attributes and methods](https://pandas.pydata.org/pandas-docs/version/0.23.4/generated/pandas.Series.html)"
      ]
    },
    {
      "cell_type": "code",
      "metadata": {
        "id": "OCM4_3vuy113",
        "colab_type": "code",
        "colab": {}
      },
      "source": [
        "# shouldn't need to re-run, but make sure that you've got int64 data here (and \n",
        "# not str)\n",
        "s = pd.Series(data, index=labels, dtype='int64')"
      ],
      "execution_count": 0,
      "outputs": []
    },
    {
      "cell_type": "code",
      "metadata": {
        "id": "m1eVd91SP3rV",
        "colab_type": "code",
        "colab": {}
      },
      "source": [
        "# attributes\n",
        "print('Data Type: ', s.dtype)"
      ],
      "execution_count": 0,
      "outputs": []
    },
    {
      "cell_type": "code",
      "metadata": {
        "id": "yGrb7yfMz2tX",
        "colab_type": "code",
        "colab": {}
      },
      "source": [
        "# basic methods\n",
        "print('Mean: ', s.mean(), ' Std:', s.std(), 'Max: ', s.max())"
      ],
      "execution_count": 0,
      "outputs": []
    },
    {
      "cell_type": "code",
      "metadata": {
        "id": "pQv0rOk6z4jc",
        "colab_type": "code",
        "colab": {}
      },
      "source": [
        "# numerical derivative\n",
        "print('Diff: ', s.diff())"
      ],
      "execution_count": 0,
      "outputs": []
    },
    {
      "cell_type": "markdown",
      "metadata": {
        "id": "Gr5XIXKwRfv5",
        "colab_type": "text"
      },
      "source": [
        "## Find the mean of all values that fall within a range...\n",
        "* can also apply other methods to compute std, etc after filtering"
      ]
    },
    {
      "cell_type": "code",
      "metadata": {
        "id": "_fW8v7h_RkK9",
        "colab_type": "code",
        "colab": {}
      },
      "source": [
        "s[(s>=10) & (s<=45)].mean()"
      ],
      "execution_count": 0,
      "outputs": []
    },
    {
      "cell_type": "markdown",
      "metadata": {
        "id": "jB5UXKGDo5bP",
        "colab_type": "text"
      },
      "source": [
        "# Pandas DataFrames \n",
        "[The official project homepage](https://pandas.pydata.org)\n",
        "\n",
        "* Goal\n",
        "    * Extend what we learned about Series objects in the previous tutorial to their 2D counterpart - DataFrames\n",
        "    * Develop some tools for dealing with missing data (not exhaustive, but a start)"
      ]
    },
    {
      "cell_type": "markdown",
      "metadata": {
        "id": "zVYQ5PIaqhHO",
        "colab_type": "text"
      },
      "source": [
        "## DataFrames\n",
        "\n",
        "[Pandas quick start guide for DataFrames](https://pandas.pydata.org/pandas-docs/stable/dsintro.html#dataframe)\n",
        "\n",
        "* A DataFrame (DF) is a labeled data struture that can be thought of as a 2D extension of the Series objects that we discussed in the first part of the tutorial\n",
        "* A DF can accept many types of input, multiple Series, a dict of 1D arrays, another DF, etc\n",
        "* Like a Series, DFs contain data values and their labels. Because we're now dealing with a 2D structure, we call the **row labels the index argument** and the **column labels the column argument**. \n",
        "    * Like a Series, if you don't explicitly assign row and column labels, then they will be auto-generated (but not as useful as specifying the labels yourself!)"
      ]
    },
    {
      "cell_type": "markdown",
      "metadata": {
        "id": "rllraM2JqhHQ",
        "colab_type": "text"
      },
      "source": [
        "<div class=\"alert alert-info\">\n",
        "Much of what we learned about Series objects will generalize to DFs, so here we'll focus on some of key functionality that might not be obvious based on the first part of the tutorial.\n",
        "</div>"
      ]
    },
    {
      "cell_type": "markdown",
      "metadata": {
        "id": "xNROimuAqhHS",
        "colab_type": "text"
      },
      "source": [
        "<div class=\"alert alert-info\">\n",
        "One more quick note: if using an older version of Python (earlier than 3.6) and Pandas (earlier than 0.23) and you create a DF from a dict without explicitly specifying column names, then the column names will be entered into the DF based on lexical order\n",
        "</div>"
      ]
    },
    {
      "cell_type": "markdown",
      "metadata": {
        "id": "rSRAuZBeqhHT",
        "colab_type": "text"
      },
      "source": [
        "## Import libs"
      ]
    },
    {
      "cell_type": "code",
      "metadata": {
        "id": "ZFcuQ6uqqhHV",
        "colab_type": "code",
        "colab": {}
      },
      "source": [
        "# import a generic pandas object and also a few specific functions that we'll use\n",
        "import pandas as pd \n",
        "from google.colab import files"
      ],
      "execution_count": 0,
      "outputs": []
    },
    {
      "cell_type": "markdown",
      "metadata": {
        "id": "J2l1tUt3rMsq",
        "colab_type": "text"
      },
      "source": [
        "## Upload a file to the /content folder on google colab\n",
        "* Select the file you want to upload (the csv file that I sent out)\n",
        "* It will load into your 'contents' folder\n",
        "* Then you can interact with it just like a normal file on your hardrive\n",
        "\n"
      ]
    },
    {
      "cell_type": "code",
      "metadata": {
        "id": "YeuvGV1H3OqS",
        "colab_type": "code",
        "colab": {}
      },
      "source": [
        "%ls\n"
      ],
      "execution_count": 0,
      "outputs": []
    },
    {
      "cell_type": "code",
      "metadata": {
        "id": "_BFwW1HWrSZT",
        "colab_type": "code",
        "colab": {}
      },
      "source": [
        "files.upload()"
      ],
      "execution_count": 0,
      "outputs": []
    },
    {
      "cell_type": "markdown",
      "metadata": {
        "id": "QBVRt5QX28kR",
        "colab_type": "text"
      },
      "source": [
        "### Remove unwanted files..."
      ]
    },
    {
      "cell_type": "code",
      "metadata": {
        "id": "W1Gvw8Ws3K5Z",
        "colab_type": "code",
        "colab": {}
      },
      "source": [
        "%ls"
      ],
      "execution_count": 0,
      "outputs": []
    },
    {
      "cell_type": "code",
      "metadata": {
        "id": "mpzwbdHi2_tx",
        "colab_type": "code",
        "colab": {}
      },
      "source": [
        "%rm *.csv"
      ],
      "execution_count": 0,
      "outputs": []
    },
    {
      "cell_type": "markdown",
      "metadata": {
        "id": "HpU7pdbdqhHw",
        "colab_type": "text"
      },
      "source": [
        "## Make a DataFrame object to hold the contents of the data set\n",
        "[DataFrame help page](https://pandas.pydata.org/pandas-docs/version/0.21/generated/pandas.DataFrame.html)\n",
        "\n",
        "* Just like with the pd.Series call, you can specify the data, index labels (row labels in this case)\n",
        "* In addition to row labels, you can also specify column labels (with 'columns')\n",
        "* Can also specify data type (default is inferred)\n",
        "* If you read in the data from a csv file, you will be able to inheret row and column labels (if they are specified in the file). "
      ]
    },
    {
      "cell_type": "code",
      "metadata": {
        "id": "zecvsbeCqhHx",
        "colab_type": "code",
        "colab": {}
      },
      "source": [
        "# make the call to pd.DataFrames to create the DF - usage much like pd.Series\n",
        "df = pd.read_csv('annual_temp_csv2.csv')"
      ],
      "execution_count": 0,
      "outputs": []
    },
    {
      "cell_type": "code",
      "metadata": {
        "id": "NBdQR3FrSnTk",
        "colab_type": "code",
        "colab": {}
      },
      "source": [
        "# take a look at the output...\n",
        "# compare to print(df) - looks nicer with display thanks to iPython backend \n",
        "display(df)   "
      ],
      "execution_count": 0,
      "outputs": []
    },
    {
      "cell_type": "code",
      "metadata": {
        "id": "76RXDUV6qhHz",
        "colab_type": "code",
        "colab": {}
      },
      "source": [
        "# another handy display function...good for large dfs that are too big to fit - \n",
        "# at least you can get an idea of the overall structure\n",
        "df.head()"
      ],
      "execution_count": 0,
      "outputs": []
    },
    {
      "cell_type": "markdown",
      "metadata": {
        "id": "YYqr9qwoqhH1",
        "colab_type": "text"
      },
      "source": [
        "## Get a high-level summary of the data using built-in functionality of DataFrame object\n",
        "[API reference page](https://pandas.pydata.org/pandas-docs/stable/generated/pandas.DataFrame.describe.html)\n",
        "\n",
        "* What do you notice about the two counts for Year and for Mean"
      ]
    },
    {
      "cell_type": "code",
      "metadata": {
        "id": "csesViN2qhH2",
        "colab_type": "code",
        "colab": {}
      },
      "source": [
        "df.describe()"
      ],
      "execution_count": 0,
      "outputs": []
    },
    {
      "cell_type": "markdown",
      "metadata": {
        "id": "SMLp2LflyFEe",
        "colab_type": "text"
      },
      "source": [
        "## Just like with Series object, can compute mean, std, etc"
      ]
    },
    {
      "cell_type": "code",
      "metadata": {
        "id": "x6lOi3UDyHY4",
        "colab_type": "code",
        "colab": {}
      },
      "source": [
        "df['Year'].mean()"
      ],
      "execution_count": 0,
      "outputs": []
    },
    {
      "cell_type": "markdown",
      "metadata": {
        "id": "xel8nVG93cCU",
        "colab_type": "text"
      },
      "source": [
        "### remember that you can also call by field...I prefer by name like ['Mean'] to avoid confusion with built in methods/functions, but either will work"
      ]
    },
    {
      "cell_type": "code",
      "metadata": {
        "id": "5n8b96h8UnWv",
        "colab_type": "code",
        "colab": {}
      },
      "source": [
        " df.Mean.std()"
      ],
      "execution_count": 0,
      "outputs": []
    },
    {
      "cell_type": "markdown",
      "metadata": {
        "id": "jrNTPDUoU12D",
        "colab_type": "text"
      },
      "source": [
        "### By default, mean, std etc will skip (ignore) missing values (NaNs)\n",
        "* Sometimes, its good to do a sanity check if you think there are missing values. \n",
        "* Can do this by chosing to NOT skip the NaNs...in which case if they exist you'll get back NaN as the answer!\n",
        "* Then you know that there are NaNs in the data set. "
      ]
    },
    {
      "cell_type": "code",
      "metadata": {
        "id": "4rA3KmPUUzfw",
        "colab_type": "code",
        "colab": {}
      },
      "source": [
        "df['Mean'].mean(skipna=False)"
      ],
      "execution_count": 0,
      "outputs": []
    },
    {
      "cell_type": "markdown",
      "metadata": {
        "id": "5mqX52QwqhH9",
        "colab_type": "text"
      },
      "source": [
        "## Find missing values in your data and deal with them (NaNs)\n",
        "* Can apply to just one column at a time \n",
        "* note that you can call the function from the object directly "
      ]
    },
    {
      "cell_type": "code",
      "metadata": {
        "id": "FthQOu8A36TD",
        "colab_type": "code",
        "colab": {}
      },
      "source": [
        "df[df['Mean'].isna()]"
      ],
      "execution_count": 0,
      "outputs": []
    },
    {
      "cell_type": "code",
      "metadata": {
        "id": "w-bagn4FqhIL",
        "colab_type": "code",
        "colab": {}
      },
      "source": [
        "df[df['Mean'].notna()]\n"
      ],
      "execution_count": 0,
      "outputs": []
    },
    {
      "cell_type": "markdown",
      "metadata": {
        "id": "dq6Gk4hgqhIR",
        "colab_type": "text"
      },
      "source": [
        "### Can deal with NaNs lots of ways...\n",
        "* Can make a new DF without them\n",
        "* can assign the mean of all of the data to NaNs"
      ]
    },
    {
      "cell_type": "code",
      "metadata": {
        "id": "12H867aIXQGd",
        "colab_type": "code",
        "colab": {}
      },
      "source": [
        "# assign to a new df, but only keep the non-NaN entries\n",
        "df2 = df[df['Mean'].notna()]\n",
        "display(df2)"
      ],
      "execution_count": 0,
      "outputs": []
    },
    {
      "cell_type": "markdown",
      "metadata": {
        "id": "GSk8b1CmXhzL",
        "colab_type": "text"
      },
      "source": [
        "#### Fill the NaN with the mean of the column!\n",
        "* Or any other value...just pass it into fillna\n",
        "* see also 'interpolate' for more functions like this "
      ]
    },
    {
      "cell_type": "code",
      "metadata": {
        "id": "zTy9dS_uqhIS",
        "colab_type": "code",
        "colab": {}
      },
      "source": [
        "df.fillna(df['Mean'].mean())"
      ],
      "execution_count": 0,
      "outputs": []
    },
    {
      "cell_type": "markdown",
      "metadata": {
        "id": "qnri0_XevFGp",
        "colab_type": "text"
      },
      "source": [
        "## Pull out selected data and remove from DF"
      ]
    },
    {
      "cell_type": "code",
      "metadata": {
        "id": "m1T0UJ8z4Xa7",
        "colab_type": "code",
        "colab": {}
      },
      "source": [
        "df.head()"
      ],
      "execution_count": 0,
      "outputs": []
    },
    {
      "cell_type": "code",
      "metadata": {
        "id": "ARFedv2EazfO",
        "colab_type": "code",
        "colab": {}
      },
      "source": [
        "df = df[df['Source'] == 'GISTEMP']\n",
        "print(df.head())"
      ],
      "execution_count": 0,
      "outputs": []
    },
    {
      "cell_type": "markdown",
      "metadata": {
        "id": "HRyAPNTNqhIZ",
        "colab_type": "text"
      },
      "source": [
        "### Adding a column is easy and can be done dynamically (on the fly)\n",
        "* Make a new column of True and False to mark years above/below mean temp deviation"
      ]
    },
    {
      "cell_type": "code",
      "metadata": {
        "id": "OKo0ZgVxZKQH",
        "colab_type": "code",
        "colab": {}
      },
      "source": [
        "mean_temp = df['Mean'].mean()\n",
        "\n",
        "print('mean temp:', mean_temp)\n",
        "\n",
        "# then populate the new column\n",
        "df['HighLow'] = df['Mean']>mean_temp\n",
        "\n",
        "display(df)"
      ],
      "execution_count": 0,
      "outputs": []
    },
    {
      "cell_type": "markdown",
      "metadata": {
        "id": "yVcPo4_tqhIb",
        "colab_type": "text"
      },
      "source": [
        "### Removing columns is also easy and done on the fly... "
      ]
    },
    {
      "cell_type": "code",
      "metadata": {
        "id": "Iz0gx99sqhIc",
        "colab_type": "code",
        "colab": {}
      },
      "source": [
        "# using the del command will delete a column from the DF\n",
        "# note that here you have to use the df['stim3'] notation\n",
        "# the df.stim3 notation will not work.\n",
        "del df['HighLow']\n",
        "print(df)"
      ],
      "execution_count": 0,
      "outputs": []
    },
    {
      "cell_type": "markdown",
      "metadata": {
        "id": "Dyxkg-bsqhIg",
        "colab_type": "text"
      },
      "source": [
        "## More on indexing and selection of specific coordinates in a DF"
      ]
    },
    {
      "cell_type": "markdown",
      "metadata": {
        "id": "-ck5Z7UTqhIg",
        "colab_type": "text"
      },
      "source": [
        "### Row selection - this is a bit more confusing as there are many methods\n",
        "* You can use df.loc to select a row by its label name\n",
        "* You can use df.iloc to select a row by its integer location \n",
        "* You can use boolean vectors to select a set of rows that satisfy some condition\n",
        "* You can slice rows using standard notation e.g. df[1:3] for rows 1-3\n",
        "* You can also isolate a particular row/column using a combo of column indexing (see above) and standard slicing notation\n",
        "\n",
        "Contrary to usual slicing conventions, both the start and the stop indices are included when using the DF.LOC function...see below for demo. This makes sense because you're indexing by label name, not by a zero-based integer index. \n"
      ]
    },
    {
      "cell_type": "code",
      "metadata": {
        "id": "HJIn7n595rI-",
        "colab_type": "code",
        "colab": {}
      },
      "source": [
        "df.head()"
      ],
      "execution_count": 0,
      "outputs": []
    },
    {
      "cell_type": "code",
      "metadata": {
        "id": "xwaC7vMjqhIh",
        "colab_type": "code",
        "colab": {}
      },
      "source": [
        "# this returns the 5th-7th rows!!!!\n",
        "df.loc[4:6]"
      ],
      "execution_count": 0,
      "outputs": []
    },
    {
      "cell_type": "markdown",
      "metadata": {
        "id": "Wm0a1uAPxEo8",
        "colab_type": "text"
      },
      "source": [
        "### Note that this is inclusive!\n",
        "* you are not indexing by row number, but by row label! so you get exactly what you ask for (not 0-based indexing in this case). "
      ]
    },
    {
      "cell_type": "code",
      "metadata": {
        "id": "dt-tDf95qhIj",
        "colab_type": "code",
        "colab": {}
      },
      "source": [
        "df.loc[13:17]"
      ],
      "execution_count": 0,
      "outputs": []
    },
    {
      "cell_type": "markdown",
      "metadata": {
        "id": "j9Pkp9FWxUq2",
        "colab_type": "text"
      },
      "source": [
        "### That said, you can also index based on row number, then you're back in 0-based indexing land"
      ]
    },
    {
      "cell_type": "code",
      "metadata": {
        "id": "MwkjRfUbqhIl",
        "colab_type": "code",
        "colab": {}
      },
      "source": [
        "df.iloc[4]"
      ],
      "execution_count": 0,
      "outputs": []
    },
    {
      "cell_type": "markdown",
      "metadata": {
        "id": "4fglooOhx4K0",
        "colab_type": "text"
      },
      "source": [
        "### Can also get into any cell in the data frame using a similar syntax to what we've used before. \n",
        "* row (index) x column ..."
      ]
    },
    {
      "cell_type": "code",
      "metadata": {
        "id": "wwkQRLJiqhIo",
        "colab_type": "code",
        "colab": {}
      },
      "source": [
        "df.head()\n"
      ],
      "execution_count": 0,
      "outputs": []
    },
    {
      "cell_type": "code",
      "metadata": {
        "id": "Y5ksYPbO5fGf",
        "colab_type": "code",
        "colab": {}
      },
      "source": [
        "print(df.iloc[0][2])\n"
      ],
      "execution_count": 0,
      "outputs": []
    }
  ]
}
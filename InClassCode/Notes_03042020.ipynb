{
  "nbformat": 4,
  "nbformat_minor": 0,
  "metadata": {
    "colab": {
      "name": "Notes_03042020.ipynb",
      "provenance": [],
      "collapsed_sections": []
    },
    "kernelspec": {
      "name": "python3",
      "display_name": "Python 3"
    }
  },
  "cells": [
    {
      "cell_type": "markdown",
      "metadata": {
        "id": "zVYQ5PIaqhHO",
        "colab_type": "text"
      },
      "source": [
        "# More on DataFrames - missing values, indexing..."
      ]
    },
    {
      "cell_type": "markdown",
      "metadata": {
        "id": "rSRAuZBeqhHT",
        "colab_type": "text"
      },
      "source": [
        "## Import libs"
      ]
    },
    {
      "cell_type": "code",
      "metadata": {
        "colab_type": "code",
        "id": "WSshhuMGsbvG",
        "colab": {}
      },
      "source": [
        "# import a generic pandas object and also a few specific functions that we'll use\n",
        "import pandas as pd \n",
        "from google.colab import files"
      ],
      "execution_count": 0,
      "outputs": []
    },
    {
      "cell_type": "markdown",
      "metadata": {
        "colab_type": "text",
        "id": "bb0UY-EzsbvG"
      },
      "source": [
        "## Upload a file to the /content folder on google colab\n",
        "* Select the file you want to upload (the csv file that I sent out)\n",
        "* It will load into your 'contents' folder\n",
        "* Then you can interact with it just like a normal file on your hardrive\n",
        "\n"
      ]
    },
    {
      "cell_type": "code",
      "metadata": {
        "colab_type": "code",
        "id": "4rcM6rIQsbvA",
        "colab": {}
      },
      "source": [
        "%pwd\n",
        "%ls"
      ],
      "execution_count": 0,
      "outputs": []
    },
    {
      "cell_type": "code",
      "metadata": {
        "colab_type": "code",
        "id": "qM5MIde3sbu9",
        "colab": {}
      },
      "source": [
        "files.upload()"
      ],
      "execution_count": 0,
      "outputs": []
    },
    {
      "cell_type": "code",
      "metadata": {
        "colab_type": "code",
        "id": "iXze_9j8sbu3",
        "colab": {}
      },
      "source": [
        "%ls"
      ],
      "execution_count": 0,
      "outputs": []
    },
    {
      "cell_type": "markdown",
      "metadata": {
        "colab_type": "text",
        "id": "IyRqA2xfsbuv"
      },
      "source": [
        "## Make a DataFrame object to hold the contents of the data set\n",
        "[DataFrame help page](https://pandas.pydata.org/pandas-docs/version/0.21/generated/pandas.DataFrame.html)\n",
        "\n",
        "* Just like with the pd.Series call, you can specify the data, **index** labels (row labels in this case)\n",
        "* In addition to row labels, you can also specify column labels (with 'columns')\n",
        "* Can also specify data type (default is inferred)\n",
        "* If you read in the data from a csv file, you will be able to inheret row and column labels (if they are specified in the file). "
      ]
    },
    {
      "cell_type": "code",
      "metadata": {
        "colab_type": "code",
        "id": "_Q5MqefBsbur",
        "colab": {}
      },
      "source": [
        "# make the call to pd.DataFrames to create the DF - usage much like pd.Series\n",
        "df = pd.read_csv('annual_temp_csv2.csv')\n",
        "\n",
        "# this will make the 'Source' column the index labels\n",
        "# df = pd.read_csv('annual_temp_csv2.csv', index_col = 'Source')"
      ],
      "execution_count": 0,
      "outputs": []
    },
    {
      "cell_type": "code",
      "metadata": {
        "colab_type": "code",
        "id": "whGJwNeAsbui",
        "colab": {}
      },
      "source": [
        "# have a look at the first bit of the DF\n",
        "df.head()"
      ],
      "execution_count": 0,
      "outputs": []
    },
    {
      "cell_type": "markdown",
      "metadata": {
        "colab_type": "text",
        "id": "gdjx1eK2sbuZ"
      },
      "source": [
        "## Just like with Series object, can compute mean, std, etc"
      ]
    },
    {
      "cell_type": "code",
      "metadata": {
        "colab_type": "code",
        "id": "ZmqzMRIRsbuW",
        "colab": {}
      },
      "source": [
        "df['Mean'].mean()"
      ],
      "execution_count": 0,
      "outputs": []
    },
    {
      "cell_type": "markdown",
      "metadata": {
        "colab_type": "text",
        "id": "3jB4diRYsbuM"
      },
      "source": [
        "### By default, mean, std etc will skip (ignore) missing values (NaNs)\n",
        "* Sometimes, its good to do a sanity check if you think there are missing values. \n",
        "* Can do this by chosing to NOT skip the NaNs...in which case if they exist you'll get back NaN as the answer!\n",
        "* Then you know that there are NaNs in the data set. "
      ]
    },
    {
      "cell_type": "code",
      "metadata": {
        "colab_type": "code",
        "id": "BNOnq5jRsbuH",
        "colab": {}
      },
      "source": [
        "df['Mean'].mean(skipna=False)"
      ],
      "execution_count": 0,
      "outputs": []
    },
    {
      "cell_type": "markdown",
      "metadata": {
        "colab_type": "text",
        "id": "iw_cIFrXsbuF"
      },
      "source": [
        "## Find missing values in your data and deal with them (NaNs)\n",
        "* Can apply to just one column at a time \n",
        "* note that you can call the isna method from the object directly\n",
        "* To make this work, you index into the data frame where 'Mean' is a Nan "
      ]
    },
    {
      "cell_type": "code",
      "metadata": {
        "colab_type": "code",
        "id": "jqgbPVRSsbuA",
        "colab": {}
      },
      "source": [
        "# isolate just the rows (indicies) where Mean is NaN\n",
        "df['Mean'].isna()"
      ],
      "execution_count": 0,
      "outputs": []
    },
    {
      "cell_type": "code",
      "metadata": {
        "id": "lYiz5WnfLASS",
        "colab_type": "code",
        "colab": {}
      },
      "source": [
        "# now index into df using the true/false sequence from above!\n",
        "df[df['Mean'].isna()]"
      ],
      "execution_count": 0,
      "outputs": []
    },
    {
      "cell_type": "markdown",
      "metadata": {
        "id": "JlRQvSciLGR-",
        "colab_type": "text"
      },
      "source": [
        "#### Or do the opposite, isolate just the rows where Mean is not NaN (i.e. its a real number)"
      ]
    },
    {
      "cell_type": "code",
      "metadata": {
        "colab_type": "code",
        "id": "uTesaXkesbt6",
        "colab": {}
      },
      "source": [
        "df[df['Mean'].notna()]"
      ],
      "execution_count": 0,
      "outputs": []
    },
    {
      "cell_type": "markdown",
      "metadata": {
        "colab_type": "text",
        "id": "B90dRD7Isbt5"
      },
      "source": [
        "### Can deal with NaNs lots of ways...\n",
        "* Can make a new DF without them\n",
        "* can assign the mean of all of the data to NaNs"
      ]
    },
    {
      "cell_type": "code",
      "metadata": {
        "colab_type": "code",
        "id": "Dbkp7APmsbty",
        "colab": {}
      },
      "source": [
        "# make a new df, but only keep the non-NaN entries\n",
        "df2 = df[df['Mean'].notna()]\n",
        "df2.head()"
      ],
      "execution_count": 0,
      "outputs": []
    },
    {
      "cell_type": "markdown",
      "metadata": {
        "colab_type": "text",
        "id": "3S_ja2Tysbtw"
      },
      "source": [
        "#### Fill the NaN with the mean of the column!\n",
        "* Or any other value...just pass it into fillna\n",
        "* see also 'interpolate' for more functions like this \n",
        "* NEED TO ASSIGN output to apply changes..e.g df = df.fillna(....)"
      ]
    },
    {
      "cell_type": "code",
      "metadata": {
        "colab_type": "code",
        "id": "MHf8Ulqesbtp",
        "colab": {}
      },
      "source": [
        "print(df['Mean'].mean())\n",
        "df.fillna(df['Mean'].mean())"
      ],
      "execution_count": 0,
      "outputs": []
    },
    {
      "cell_type": "markdown",
      "metadata": {
        "colab_type": "text",
        "id": "wL36RW6Fsbto"
      },
      "source": [
        "## Pull out selected data and remove from DF"
      ]
    },
    {
      "cell_type": "code",
      "metadata": {
        "colab_type": "code",
        "id": "DjY0Bc8ysbtg",
        "colab": {}
      },
      "source": [
        "df.head()"
      ],
      "execution_count": 0,
      "outputs": []
    },
    {
      "cell_type": "code",
      "metadata": {
        "colab_type": "code",
        "id": "5IqOPwqksbtZ",
        "colab": {}
      },
      "source": [
        "# or your could self assign df = df[] here to update existing data frame\n",
        "df2 = df[df['Source'] == 'GISTEMP']\n",
        "df2.head()"
      ],
      "execution_count": 0,
      "outputs": []
    },
    {
      "cell_type": "markdown",
      "metadata": {
        "id": "Blj7ZBepuVw1",
        "colab_type": "text"
      },
      "source": [
        "## Grab a range of rows...across a set of years, for example"
      ]
    },
    {
      "cell_type": "code",
      "metadata": {
        "id": "uLnEESbhuday",
        "colab_type": "code",
        "colab": {}
      },
      "source": [
        "df2 = df[(df['Year']>1990) & (df['Year']<=2015)]\n",
        "display(df2)"
      ],
      "execution_count": 0,
      "outputs": []
    },
    {
      "cell_type": "markdown",
      "metadata": {
        "id": "xQnzvMfku-ig",
        "colab_type": "text"
      },
      "source": [
        "## Apply several filters at once!\n",
        "* Be careful here - readability of code is the prime directive...don't write one-liners that are so dense that nobody can understand them!"
      ]
    },
    {
      "cell_type": "code",
      "metadata": {
        "id": "ulqGOIwpu95f",
        "colab_type": "code",
        "colab": {}
      },
      "source": [
        "df2 = df[(df['Source']=='GCAG') & (df['Year']>1990) & (df['Year']<=2015)]\n",
        "display(df2)"
      ],
      "execution_count": 0,
      "outputs": []
    },
    {
      "cell_type": "markdown",
      "metadata": {
        "colab_type": "text",
        "id": "sbwkG_bDsbtE"
      },
      "source": [
        "## More on indexing and selection of specific coordinates in a DF"
      ]
    },
    {
      "cell_type": "markdown",
      "metadata": {
        "colab_type": "text",
        "id": "wsmOWCwisbtB"
      },
      "source": [
        "### Row selection - this is a bit more complex as there are many methods\n",
        "* You can use df.loc to select a row by its label name\n",
        "* You can use df.iloc to select a row by its integer location (from 0 to length-1 of the axis)\n",
        "* You can use boolean vectors to select a set of rows that satisfy some condition\n",
        "* You can slice rows using standard notation e.g. df[1:3] for rows 1-3\n",
        "* You can also isolate a particular row/column using a combo of column indexing (see above) and standard slicing notation\n",
        "\n",
        "Contrary to usual slicing conventions, both the start and the stop indices are included when using the DF.LOC option...see below for demo. This makes sense because you're indexing by label name, not by a zero-based integer index. \n"
      ]
    },
    {
      "cell_type": "code",
      "metadata": {
        "colab_type": "code",
        "id": "3aX3Lhp2sbs4",
        "colab": {}
      },
      "source": [
        "df.head()"
      ],
      "execution_count": 0,
      "outputs": []
    },
    {
      "cell_type": "markdown",
      "metadata": {
        "id": "xj8A6cNzw1ru",
        "colab_type": "text"
      },
      "source": [
        "### this returns the 5th-8th rows beacuse our index labels (row labels) start at 0..."
      ]
    },
    {
      "cell_type": "code",
      "metadata": {
        "colab_type": "code",
        "id": "aQ4n6MJ5sbsx",
        "colab": {}
      },
      "source": [
        "df.loc[4:7]"
      ],
      "execution_count": 0,
      "outputs": []
    },
    {
      "cell_type": "markdown",
      "metadata": {
        "id": "sp8xJilcwzz_",
        "colab_type": "text"
      },
      "source": [
        "### Grab a set of non-continguous locations\n",
        "* just pass in a **list** of the locations that you want!"
      ]
    },
    {
      "cell_type": "code",
      "metadata": {
        "id": "KYqQOtbTxNLY",
        "colab_type": "code",
        "colab": {}
      },
      "source": [
        "df.loc[[4,8,100]]"
      ],
      "execution_count": 0,
      "outputs": []
    },
    {
      "cell_type": "markdown",
      "metadata": {
        "colab_type": "text",
        "id": "UG2T_vbjsbsv"
      },
      "source": [
        "##### Note that indexing by location is **inclusive** of stop value!\n",
        "* you are not indexing by row number, but by row label! so you get exactly what you ask for (not 0-based indexing in this case). "
      ]
    },
    {
      "cell_type": "code",
      "metadata": {
        "colab_type": "code",
        "id": "Onfg3Jjfsbsl",
        "colab": {}
      },
      "source": [
        "df.loc[13:17]"
      ],
      "execution_count": 0,
      "outputs": []
    },
    {
      "cell_type": "markdown",
      "metadata": {
        "id": "SMZoIku73KcT",
        "colab_type": "text"
      },
      "source": [
        "## Use df.loc to find rows that match some criterion (like all rows that contain temperature measurements from the GCAG baseline)"
      ]
    },
    {
      "cell_type": "code",
      "metadata": {
        "id": "iRYgfAjf3VCZ",
        "colab_type": "code",
        "colab": {}
      },
      "source": [
        "df.loc[df.Source=='GCAG']"
      ],
      "execution_count": 0,
      "outputs": []
    },
    {
      "cell_type": "markdown",
      "metadata": {
        "colab_type": "text",
        "id": "Q-Ip_kSysbtW"
      },
      "source": [
        "## Adding a column is easy and can be done dynamically (on the fly)\n",
        "* Make a new column of True and False to mark years above/below mean temp deviation"
      ]
    },
    {
      "cell_type": "code",
      "metadata": {
        "colab_type": "code",
        "id": "j_MTU1sysbtQ",
        "colab": {}
      },
      "source": [
        "mean_temp = df['Mean'].mean()\n",
        "\n",
        "print('mean temp:', mean_temp)\n",
        "\n",
        "# then populate the new column\n",
        "df['HighLow'] = df['Mean']>mean_temp\n",
        "\n",
        "df.head()"
      ],
      "execution_count": 0,
      "outputs": []
    },
    {
      "cell_type": "markdown",
      "metadata": {
        "id": "Vf7WU7GpwMD2",
        "colab_type": "text"
      },
      "source": [
        "## If you want to convert values in a column, can be a little tricky...\n",
        "* Use what you might think is the intuitive way to convert True to 1 and False to 0 in our new column 'HighLow'\n",
        "* **This throws a weird warning because you're trying to modify the thing that you're using as an index!**"
      ]
    },
    {
      "cell_type": "code",
      "metadata": {
        "id": "04ScehM1vu3g",
        "colab_type": "code",
        "colab": {}
      },
      "source": [
        "df.HighLow[df.HighLow==True] = 1\n",
        "df.HighLow[df.HighLow==False] = 0\n",
        "df.head()"
      ],
      "execution_count": 0,
      "outputs": []
    },
    {
      "cell_type": "markdown",
      "metadata": {
        "id": "n4FimdEa2HcA",
        "colab_type": "text"
      },
      "source": [
        "## Solution - use .loc to return the information and then modify it"
      ]
    },
    {
      "cell_type": "code",
      "metadata": {
        "id": "kdrm206l2Rlu",
        "colab_type": "code",
        "colab": {}
      },
      "source": [
        "# reload our df, re-create a new version of our HighLow column\n",
        "\n",
        "df = pd.read_csv('annual_temp_csv2.csv')\n",
        "\n",
        "# make our new column again. \n",
        "mean_temp = df['Mean'].mean()\n",
        "\n",
        "print('mean temp:', mean_temp)\n",
        "\n",
        "# then populate the new column\n",
        "df['HighLow'] = df['Mean']>mean_temp\n",
        "\n",
        "df.head()"
      ],
      "execution_count": 0,
      "outputs": []
    },
    {
      "cell_type": "markdown",
      "metadata": {
        "id": "TJbs8I0a5akP",
        "colab_type": "text"
      },
      "source": [
        "### like this...using the .loc method ensures that things don't get confused..."
      ]
    },
    {
      "cell_type": "code",
      "metadata": {
        "id": "TiG90wmx1QP5",
        "colab_type": "code",
        "colab": {}
      },
      "source": [
        "df.loc[df['HighLow']==True, 'HighLow'] = 1\n",
        "df.loc[df['HighLow']==False, 'HighLow'] = 0\n",
        "df.head()"
      ],
      "execution_count": 0,
      "outputs": []
    }
  ]
}
{
  "nbformat": 4,
  "nbformat_minor": 0,
  "metadata": {
    "colab": {
      "name": "Notes_03102020.ipynb",
      "provenance": [],
      "collapsed_sections": []
    },
    "kernelspec": {
      "display_name": "Python 3",
      "language": "python",
      "name": "python3"
    },
    "language_info": {
      "codemirror_mode": {
        "name": "ipython",
        "version": 3
      },
      "file_extension": ".py",
      "mimetype": "text/x-python",
      "name": "python",
      "nbconvert_exporter": "python",
      "pygments_lexer": "ipython3",
      "version": "3.6.8"
    }
  },
  "cells": [
    {
      "cell_type": "markdown",
      "metadata": {
        "colab_type": "text",
        "id": "hhkUhoYd_1TD"
      },
      "source": [
        "## Develop some looping skills - can loop over data in consecutive sets using loc\n",
        "* One great application is to index into sub-sets of indices (rows) and then just grab one column of data to manipulate. Can do this a few different ways that we'll discuss below, but this way is intuitive because you can use the index (row) names and the column names...\n",
        "* for example, to implement a running average filter, we can step in increments of N data points and compute the mean over this window, then move on to the next chunk of N data points and re-compute..., repeat \n",
        "* several possible approaches...this is just one"
      ]
    },
    {
      "cell_type": "code",
      "metadata": {
        "colab_type": "code",
        "id": "pUqeK81wXDLp",
        "colab": {}
      },
      "source": [
        "import pandas as pd\n",
        "from google.colab import files"
      ],
      "execution_count": 0,
      "outputs": []
    },
    {
      "cell_type": "code",
      "metadata": {
        "colab_type": "code",
        "id": "CwQ335M9XQvx",
        "colab": {}
      },
      "source": [
        "files.upload()"
      ],
      "execution_count": 0,
      "outputs": []
    },
    {
      "cell_type": "code",
      "metadata": {
        "colab_type": "code",
        "id": "jeS3NamkXFt4",
        "colab": {}
      },
      "source": [
        "df = pd.read_csv('annual_temp_csv2.csv')"
      ],
      "execution_count": 0,
      "outputs": []
    },
    {
      "cell_type": "markdown",
      "metadata": {
        "id": "_tj2OOL7ua4N",
        "colab_type": "text"
      },
      "source": [
        "## Import the \"floor\" function from math module\n"
      ]
    },
    {
      "cell_type": "code",
      "metadata": {
        "colab_type": "code",
        "id": "pYBKTjOYNZzc",
        "colab": {}
      },
      "source": [
        "from math import floor"
      ],
      "execution_count": 0,
      "outputs": []
    },
    {
      "cell_type": "markdown",
      "metadata": {
        "id": "9SL_EANQuCaj",
        "colab_type": "text"
      },
      "source": [
        "## Loop over data frame and compute the mean of 'w' consecutive rows\n"
      ]
    },
    {
      "cell_type": "code",
      "metadata": {
        "colab_type": "code",
        "id": "OybCLshAAJsU",
        "colab": {}
      },
      "source": [
        "w = 2   # moving average window\n",
        "n = len(df)\n",
        "\n",
        "# compute number of w element windows!\n",
        "num_wins = floor(n/w) \n",
        "\n",
        "# init a list to append moving average\n",
        "m_avg = []\n",
        "\n",
        "# init a counter to keep track of where we are in the DF\n",
        "cnt = 0\n",
        "\n",
        "# loop!\n",
        "for i in range(0,num_wins):\n",
        "  # print(cnt,cnt+(w-1))\n",
        "  # here specify the index locations (rows) that you want\n",
        "  # and the column that you want to operate on ('Mean')\n",
        "  m_avg.append(df.loc[cnt:cnt+(w-1), 'Mean'].mean())\n",
        "  cnt+=w\n",
        "\n",
        "# print out our list of windowed averages\n",
        "print(m_avg)\n",
        "\n",
        "# double check by printing out the first two entries\n",
        "print(df.loc[0:1,'Mean'].mean())\n",
        "print(df.loc[2:3,'Mean'].mean())"
      ],
      "execution_count": 0,
      "outputs": []
    },
    {
      "cell_type": "markdown",
      "metadata": {
        "colab_type": "text",
        "id": "g4KZnH5xsbsi"
      },
      "source": [
        "## In addition to indexing by row label, you can also index based on row number, then you're back in 0-based indexing land with an **exclusive**  stop value\n",
        "* use iloc (integer location) for this..."
      ]
    },
    {
      "cell_type": "code",
      "metadata": {
        "colab_type": "code",
        "id": "Sevd-bDasbsZ",
        "colab": {}
      },
      "source": [
        "# fifth through 7th (not including 8th element)\n",
        "df.iloc[4:7]"
      ],
      "execution_count": 0,
      "outputs": []
    },
    {
      "cell_type": "markdown",
      "metadata": {
        "colab_type": "text",
        "id": "L4IwnxjcsbsW"
      },
      "source": [
        "### Can also get into any cell in the data frame using a similar syntax to what we've used before. \n",
        "* row (index) x column ..."
      ]
    },
    {
      "cell_type": "code",
      "metadata": {
        "colab_type": "code",
        "id": "bMp4c5uZsbsL",
        "colab": {}
      },
      "source": [
        "df.head()"
      ],
      "execution_count": 0,
      "outputs": []
    },
    {
      "cell_type": "code",
      "metadata": {
        "colab_type": "code",
        "id": "bUcvgfNpsbrw",
        "colab": {}
      },
      "source": [
        "df.iloc[0][2]"
      ],
      "execution_count": 0,
      "outputs": []
    },
    {
      "cell_type": "markdown",
      "metadata": {
        "colab_type": "text",
        "id": "wmgrdqzPsbtN"
      },
      "source": [
        "## Removing columns is also easy and done on the fly... "
      ]
    },
    {
      "cell_type": "code",
      "metadata": {
        "colab_type": "code",
        "id": "vQZ9891vsbtH",
        "colab": {}
      },
      "source": [
        "# using the del command will delete a column from the DF\n",
        "# note that here you have to use the df['stim3'] notation\n",
        "# the df.stim3 notation will not work.\n",
        "del df['Source']\n",
        "df.head()"
      ],
      "execution_count": 0,
      "outputs": []
    },
    {
      "cell_type": "markdown",
      "metadata": {
        "colab_type": "text",
        "id": "5sWRSLkpJExq"
      },
      "source": [
        "# Intro to NumPy\n",
        "\n",
        "* NumPy is the main scientific computing package for Python - it allows you to easily work with large arrays of data and supports functionality for many common operations (including linear algebra)\n",
        "\n",
        "* All about doing computations on large data sets all at once - can do many many things without looping! Much more effecient\n",
        "\n",
        "-  [based on this numpy quickstart guide](https://docs.scipy.org/doc/numpy/user/quickstart.html)\n",
        "\n",
        "-  [NumPy main page](http://www.numpy.org/)\n",
        "\n",
        "- [NumPY and SciPy doc page](https://docs.scipy.org/doc/)"
      ]
    },
    {
      "cell_type": "code",
      "metadata": {
        "colab_type": "code",
        "id": "sD2uLYMEJExs",
        "colab": {}
      },
      "source": [
        "# import numpy and other stuff for this tutorial\n",
        "import numpy as np\n",
        "\n",
        "# import a specific function from NumPy cause we'll use it a lot\n",
        "from numpy import pi\n",
        "\n",
        "# functionality for plotting\n",
        "import matplotlib.pyplot as plt"
      ],
      "execution_count": 0,
      "outputs": []
    },
    {
      "cell_type": "markdown",
      "metadata": {
        "colab_type": "text",
        "id": "D3LPdpS7JExw"
      },
      "source": [
        "## Initialize array and a few basic operations\n",
        "* np.arange method works just like the built in range function\n",
        "* the interval includes `start` but excludes `stop`, overall interval [start...stop-1]\n"
      ]
    },
    {
      "cell_type": "code",
      "metadata": {
        "colab_type": "code",
        "id": "nGcWqQ0GJExy",
        "colab": {}
      },
      "source": [
        "# set up an array and figure out shape...  \n",
        "my_array = np.arange(10)   \n",
        "print(my_array)\n",
        "\n",
        "# note that its 1D (a vector...)\n",
        "my_array.shape     "
      ],
      "execution_count": 0,
      "outputs": []
    },
    {
      "cell_type": "code",
      "metadata": {
        "colab_type": "code",
        "id": "yenW-06dSPSM",
        "colab": {}
      },
      "source": [
        "# can specify start, stop and step\n",
        "seq_array = np.arange(0,30,5)     # start, stop (stop at < X), step size\n",
        "print(seq_array)\n",
        "# note that 30 is not in there..."
      ],
      "execution_count": 0,
      "outputs": []
    },
    {
      "cell_type": "markdown",
      "metadata": {
        "id": "HBKswFFWu-9U",
        "colab_type": "text"
      },
      "source": [
        "## Reshape array - in this case a 1D vector to a 2D matrix\n"
      ]
    },
    {
      "cell_type": "code",
      "metadata": {
        "colab_type": "code",
        "id": "pppXNWMtJEx6",
        "scrolled": true,
        "colab": {}
      },
      "source": [
        "my_array = np.arange(36)\n",
        "my_array = my_array.reshape(6,6)    # 3,12,  9,4\n",
        "print(my_array.shape)   \n",
        "print(my_array)\n",
        "# why is (6,6) and (12,3) ok but (5,5) not ok? "
      ],
      "execution_count": 0,
      "outputs": []
    },
    {
      "cell_type": "markdown",
      "metadata": {
        "id": "E4drIeJZBsw_",
        "colab_type": "text"
      },
      "source": [
        "## Reshape array - more complex...\n",
        "* 1D, 2D, ND arrays\n",
        "* Notice how the dims stack on top of each other! "
      ]
    },
    {
      "cell_type": "code",
      "metadata": {
        "colab_type": "code",
        "id": "eczmXn493m99",
        "colab": {}
      },
      "source": [
        "my_array = np.arange(100)\n",
        "my_array = my_array.reshape(5,5,4)   # 2,5,10\n",
        "my_array.shape   \n",
        "print(my_array)\n",
        "\n",
        "# NOTICE how the dims stack on top of each other! there are 5, 5x4 matrices"
      ],
      "execution_count": 0,
      "outputs": []
    },
    {
      "cell_type": "markdown",
      "metadata": {
        "colab_type": "text",
        "id": "KzTT3uTOJEyB"
      },
      "source": [
        "## Data types (and remember - strong typed language)"
      ]
    },
    {
      "cell_type": "code",
      "metadata": {
        "colab_type": "code",
        "id": "G2G0GXDjJEyC",
        "colab": {}
      },
      "source": [
        "print('Dims of data:', my_array.ndim)         # number of dims\n",
        "print('Name of data type:', my_array.dtype)   # name of data type (float, int32, int64 etc)\n",
        "print('Size of each element (bytes):', my_array.itemsize)          # size of each element in bytes\n",
        "print('Total number of elements in array:', my_array.size)         # total number of elements in array"
      ],
      "execution_count": 0,
      "outputs": []
    },
    {
      "cell_type": "markdown",
      "metadata": {
        "colab_type": "text",
        "id": "cZV5wJLiSwVJ"
      },
      "source": [
        "## Infer data types upon array creation\n",
        "* Use np.array to initialize an array and fill it with numbers\n",
        "* Can use lists or tuples (or any array-like input of numerical values)\n",
        "* Can specify data type upon array creation...complex, float32, float64, int32, uint32 (unsigned int32), etc"
      ]
    },
    {
      "cell_type": "code",
      "metadata": {
        "colab_type": "code",
        "id": "rkMMQeB0JEyG",
        "colab": {}
      },
      "source": [
        "# will infer data type based on input values...here we have 1 float so the whole thing is float\n",
        "float_array = np.array([1.2,2,3])  \n",
        "float_array.dtype             # or np.dtype"
      ],
      "execution_count": 0,
      "outputs": []
    },
    {
      "cell_type": "markdown",
      "metadata": {
        "colab_type": "text",
        "id": "_h_-KWZNJEyN"
      },
      "source": [
        "### Can also specify type upon array creation\n",
        "* What happens if you initialize with floating point numbers but you declare an int data type?\n",
        "* e.g. type casting upon array creation, as we discussed with pandas\n",
        "* doesn't round, it truncates!"
      ]
    },
    {
      "cell_type": "code",
      "metadata": {
        "colab_type": "code",
        "id": "ArCaRVLxJEyO",
        "colab": {}
      },
      "source": [
        "int_array = np.array([1.1,7.5], dtype = 'int32')   \n",
        "int_array\n",
        "\n",
        "# truncation!"
      ],
      "execution_count": 0,
      "outputs": []
    },
    {
      "cell_type": "markdown",
      "metadata": {
        "id": "CrGGYt2UvJhf",
        "colab_type": "text"
      },
      "source": [
        ""
      ]
    }
  ]
}
{
  "nbformat": 4,
  "nbformat_minor": 0,
  "metadata": {
    "colab": {
      "name": "Notes_03112020.ipynb",
      "provenance": [],
      "collapsed_sections": []
    },
    "kernelspec": {
      "name": "python3",
      "display_name": "Python 3"
    }
  },
  "cells": [
    {
      "cell_type": "markdown",
      "metadata": {
        "id": "lwB5vSuULy9z",
        "colab_type": "text"
      },
      "source": [
        "# More NumPy basics, and plotting!"
      ]
    },
    {
      "cell_type": "code",
      "metadata": {
        "id": "naHelr-yLu7f",
        "colab_type": "code",
        "colab": {}
      },
      "source": [
        "import numpy as np\n",
        "from numpy import pi\n",
        "import matplotlib.pyplot as plt"
      ],
      "execution_count": 0,
      "outputs": []
    },
    {
      "cell_type": "markdown",
      "metadata": {
        "colab_type": "text",
        "id": "UuthWANqJEyT"
      },
      "source": [
        "## Allocate arrays of zeros, ones or rand to reserve the memory before filling up later \n",
        "* Handy when you know what size you need, but you're not ready to fill it up yet...saves you from dynamically resizing the matrix during analysis, which is VERY,VERY slow (e.g. the 'append' method)"
      ]
    },
    {
      "cell_type": "code",
      "metadata": {
        "colab_type": "code",
        "id": "XytNN_BOJEyV",
        "colab": {}
      },
      "source": [
        "# note the () around the dims because here we're specifying as a tuple...\n",
        "# default type is float64...can also pass in a list\n",
        "arr = np.zeros( (3,4) )   \n",
        "print(arr)\n",
        "arr.dtype"
      ],
      "execution_count": 0,
      "outputs": []
    },
    {
      "cell_type": "markdown",
      "metadata": {
        "id": "_XZOD4VLvbK8",
        "colab_type": "text"
      },
      "source": [
        "### Init an array of ones\n",
        "* Can use this method to init an array of any value...see next cell below"
      ]
    },
    {
      "cell_type": "code",
      "metadata": {
        "colab_type": "code",
        "id": "h_bqMfUCJEyX",
        "colab": {}
      },
      "source": [
        "# ones\n",
        "# note the 3D output below...4, 4x4 squares of floating point 1s...\n",
        "arr = np.ones( (4,4,4) )\n",
        "print(arr)"
      ],
      "execution_count": 0,
      "outputs": []
    },
    {
      "cell_type": "markdown",
      "metadata": {
        "id": "sbwUoxMovWQ4",
        "colab_type": "text"
      },
      "source": [
        "### What if you want to initialize an array of 10s?\n"
      ]
    },
    {
      "cell_type": "code",
      "metadata": {
        "colab_type": "code",
        "id": "3RgOIZocuVlW",
        "colab": {}
      },
      "source": [
        "arr = np.ones( (4,4,4) ) * 10\n",
        "print(arr)"
      ],
      "execution_count": 0,
      "outputs": []
    },
    {
      "cell_type": "markdown",
      "metadata": {
        "id": "9n730vuQveu8",
        "colab_type": "text"
      },
      "source": [
        "### Empty\n",
        "* Because you're not initializing to a specific value (like zeros), can by marginally faster when allocating a large array\n",
        "* However, this is a bit dangerous because exact values in an 'empty' array are based on current state of memory and can vary...\n",
        "* Need to make sure that you are overwriting ALL of the values and that you remember that the values are NOT 0!!! (or 1)"
      ]
    },
    {
      "cell_type": "code",
      "metadata": {
        "colab_type": "code",
        "id": "90pmx7PzJEyb",
        "colab": {}
      },
      "source": [
        "# and empty...not really 'empty' but initialized with varible output determined \n",
        "# by current state of memory\n",
        "arr = np.empty( (2,2) )\n",
        "print(arr)"
      ],
      "execution_count": 0,
      "outputs": []
    },
    {
      "cell_type": "markdown",
      "metadata": {
        "id": "0SMLQ41cvgXU",
        "colab_type": "text"
      },
      "source": [
        "### Fill up an array at init with any value, include NaNs! (very handy for error checking!)"
      ]
    },
    {
      "cell_type": "code",
      "metadata": {
        "colab_type": "code",
        "id": "eys3c2oFuffi",
        "colab": {}
      },
      "source": [
        "# an alternate way to initialize an array with arbitrary values\n",
        "# note that 'full' will guess best data type given init value\n",
        "arr = np.full( (2,2), np.nan)\n",
        "print(arr)"
      ],
      "execution_count": 0,
      "outputs": []
    },
    {
      "cell_type": "markdown",
      "metadata": {
        "colab_type": "text",
        "id": "WzBr_EsvJEye"
      },
      "source": [
        "## Can also create sequences of numbers using arange...\n",
        "* Same kind of notation as \"range\"....start, stop, step, exclusive of stop"
      ]
    },
    {
      "cell_type": "code",
      "metadata": {
        "id": "v_GfdNv4Bsxp",
        "colab_type": "code",
        "colab": {}
      },
      "source": [
        "seq_array = np.arange(0,10,1)\n",
        "print(seq_array)"
      ],
      "execution_count": 0,
      "outputs": []
    },
    {
      "cell_type": "markdown",
      "metadata": {
        "id": "MpEh1mpBBsxs",
        "colab_type": "text"
      },
      "source": [
        "## Because of machine precision issues, sometimes hard to predict how many elements will end up in an array when initialized using arange...\n",
        "* Often better to specify a sequence based on start point, stop point, and the exact number of elements that you want (or the number of steps between start and stop). linspace (linear spacing) is the function to do this, and note that unlike arange that ends < stop point, linspace will always end exactly at the specified stop point. "
      ]
    },
    {
      "cell_type": "code",
      "metadata": {
        "colab_type": "code",
        "id": "xv8ig-lMJEym",
        "colab": {}
      },
      "source": [
        "seq_array = np.arange(0,10,.56788)    # decimal input is ok too \n",
        "# (and again - stop is NOT included)\n",
        "print(seq_array)"
      ],
      "execution_count": 0,
      "outputs": []
    },
    {
      "cell_type": "markdown",
      "metadata": {
        "id": "rRy-qnK7Bsxx",
        "colab_type": "text"
      },
      "source": [
        "## Linspace: start, stop, number of linearly spaced steps between start and stop...note that start AND stop included (inclusive)"
      ]
    },
    {
      "cell_type": "code",
      "metadata": {
        "colab_type": "code",
        "id": "3RxxTXohJEyq",
        "colab": {}
      },
      "source": [
        "# n evenly spaced steps from start to stop... \n",
        "n = 9\n",
        "lin_array = np.linspace(0,180,n) \n",
        "print(lin_array)"
      ],
      "execution_count": 0,
      "outputs": []
    },
    {
      "cell_type": "markdown",
      "metadata": {
        "colab_type": "text",
        "id": "LDqUjtsHJEyt"
      },
      "source": [
        "## Common use of linspace...eval a function over an interval. quick intro to basic plotting here too..."
      ]
    },
    {
      "cell_type": "code",
      "metadata": {
        "colab_type": "code",
        "id": "cbVOQWCQJEyu",
        "colab": {}
      },
      "source": [
        "# eval sin function over an interval from 0 to 2*pi\n",
        "n = 18\n",
        "lin = np.linspace(0, 2*pi, n)\n",
        "sw = np.sin(lin)\n",
        "\n",
        "# plotting - can play with formatting here...change line color and other \n",
        "# properties\n",
        "# note we assign a handle (h), or a unique identifyer...will use this in a bit to interact with plot\n",
        "h = plt.plot(lin*180/pi, sw)    # specify x,y data...convert rad to deg for x-axis\n",
        "\n",
        "# update the plot output window (show the plot)\n",
        "plt.show()"
      ],
      "execution_count": 0,
      "outputs": []
    },
    {
      "cell_type": "markdown",
      "metadata": {
        "id": "eMcOgwcKBsx4",
        "colab_type": "text"
      },
      "source": [
        "### Can change appearance of plots in several ways - first start with inline params at time of plotting, then modify the axes labels, etc. \n",
        "* [marker types](https://matplotlib.org/3.2.0/api/markers_api.html)\n",
        "* [linestyles](https://matplotlib.org/3.1.0/gallery/lines_bars_and_markers/linestyles.html)"
      ]
    },
    {
      "cell_type": "code",
      "metadata": {
        "id": "MuVM8BQ6Bsx4",
        "colab_type": "code",
        "colab": {}
      },
      "source": [
        "# change color, marker type, line type \n",
        "h = plt.plot(lin*180/pi, sw, 'ro-', linewidth = 2)  \n",
        "\n",
        "# a few other examples [comment/uncomment each line to check]\n",
        "#h = plt.plot(lin*180/pi, sw, 'kv:', linewidth = 2)   \n",
        "#h = plt.plot(lin*180/pi, sw, 'go-', linewidth = 2)   \n",
        "\n",
        "# label each axis \n",
        "plt.xlabel('Angle (deg)')\n",
        "plt.ylabel('Amplitude')\n",
        "\n",
        "# give the plot a title\n",
        "plt.title('Sin Wave')\n",
        "plt.grid(1)\n",
        "\n",
        "# show the plot!\n",
        "plt.show()"
      ],
      "execution_count": 0,
      "outputs": []
    },
    {
      "cell_type": "markdown",
      "metadata": {
        "id": "ULieWtB1Bsx6",
        "colab_type": "text"
      },
      "source": [
        "### Figure out all propeties that you can set on a figure"
      ]
    },
    {
      "cell_type": "code",
      "metadata": {
        "colab_type": "code",
        "id": "Q-la4eILT6B7",
        "colab": {}
      },
      "source": [
        "# figure out all settings that you can tweak...\n",
        "plt.setp(h)"
      ],
      "execution_count": 0,
      "outputs": []
    },
    {
      "cell_type": "markdown",
      "metadata": {
        "id": "oPgYuoc_Pzr9",
        "colab_type": "text"
      },
      "source": [
        "### Use 'setp' method to change some of these features like markersize and alpha (opacity)"
      ]
    },
    {
      "cell_type": "code",
      "metadata": {
        "colab_type": "code",
        "id": "tORSCxH-UDDP",
        "colab": {}
      },
      "source": [
        "# plot\n",
        "h = plt.plot(lin*180/pi, sw, 'k1-', linewidth = 2)    # specify x,y data...convert rad to deg for x-axis\n",
        "\n",
        "# axes labels, etc...\n",
        "plt.xlabel('Angle (deg)')\n",
        "plt.ylabel('Amplitude')\n",
        "plt.title('Sin Wave')\n",
        "plt.grid(1)\n",
        "\n",
        "# set marker size\n",
        "plt.setp(h, 'markersize', 15) \n",
        "\n",
        "# opacity!\n",
        "plt.setp(h, 'alpha', .5) \n",
        "\n",
        "plt.show()"
      ],
      "execution_count": 0,
      "outputs": []
    },
    {
      "cell_type": "markdown",
      "metadata": {
        "colab_type": "text",
        "id": "tq5POCdkJEzN"
      },
      "source": [
        "## Scatterplots and legends\n",
        "* [main scatterplot page](https://matplotlib.org/api/_as_gen/matplotlib.pyplot.scatter.html)\n",
        "* [more about legends](https://matplotlib.org/api/_as_gen/matplotlib.pyplot.legend.html)\n",
        "\n",
        "* note that for scatter plots, color is specified by keyword...i.e. c='green', r='red', etc. "
      ]
    },
    {
      "cell_type": "code",
      "metadata": {
        "colab_type": "code",
        "id": "4GaGNbpSJEzO",
        "colab": {}
      },
      "source": [
        "# Scatter plots..\n",
        "N = 30\n",
        "x = np.linspace(0,9,N)\n",
        "\n",
        "# random method! - randn like rand but draws from N(0,var)\n",
        "# What does the *3 do here?\n",
        "y = x + np.random.randn(1,x.size)*3   # make a second vector x + some randn noise \n",
        "\n",
        "# make a scatter plot of x vs. y\n",
        "plt.scatter(x, y, s=50, c='green', alpha=.5)  # note alpha or transparency\n",
        "plt.xlabel(\"X\")\n",
        "plt.ylabel(\"Y\")\n",
        "\n",
        "# add a legend! First text, then location...\n",
        "plt.legend(['x versus y'], loc=3)   # 1-4 for each corner of the plot\n",
        "\n",
        "# show the plot\n",
        "plt.show()"
      ],
      "execution_count": 0,
      "outputs": []
    },
    {
      "cell_type": "markdown",
      "metadata": {
        "colab_type": "text",
        "id": "2RzEEvoeJEy8"
      },
      "source": [
        "## Important: Simple elementwise arithmetic operations like + and - work on corresponding elements of arrays."
      ]
    },
    {
      "cell_type": "code",
      "metadata": {
        "id": "9PsFIl3XBsyQ",
        "colab_type": "code",
        "colab": {}
      },
      "source": [
        "# set up two sets of data...\n",
        "N=1440*4\n",
        "x = np.linspace(0,2*pi,N)\n",
        "y = np.sin(x)"
      ],
      "execution_count": 0,
      "outputs": []
    },
    {
      "cell_type": "markdown",
      "metadata": {
        "id": "Kd4IOeaOBsyT",
        "colab_type": "text"
      },
      "source": [
        "### First add each element of x with the corresponding element of y using the old method..."
      ]
    },
    {
      "cell_type": "code",
      "metadata": {
        "id": "WG0dXdI_BsyU",
        "colab_type": "code",
        "colab": {}
      },
      "source": [
        "sum_lst = []\n",
        "%timeit for i in range(0,len(x)): sum_lst.append(x[i]+y[i])"
      ],
      "execution_count": 0,
      "outputs": []
    },
    {
      "cell_type": "markdown",
      "metadata": {
        "id": "lmJqK9IKBsyW",
        "colab_type": "text"
      },
      "source": [
        "### Now do it the \"NumPy\" way...it goes much much faster!\n",
        "* often goes from milliseconds to microseconds"
      ]
    },
    {
      "cell_type": "code",
      "metadata": {
        "colab_type": "code",
        "id": "OqJyvUa3JEy9",
        "colab": {}
      },
      "source": [
        "%timeit sum_lst = x-y"
      ],
      "execution_count": 0,
      "outputs": []
    },
    {
      "cell_type": "markdown",
      "metadata": {
        "colab_type": "text",
        "id": "KJEyS5AbeAaH"
      },
      "source": [
        "## Another timing test - see how much it helps to pre-allocate a matrix to store the output\n",
        "* For example: make a matrix of 'zeros' to store the output of element-by-element multiplication of two other matrices\n",
        "* Allocating the matrix of zeros takes some time, but its still faster that asking python to dynamically allocate the matrix at the time of the operation"
      ]
    },
    {
      "cell_type": "code",
      "metadata": {
        "colab_type": "code",
        "id": "6sfIaDmDeC6L",
        "colab": {}
      },
      "source": [
        "# python way - although helping python way out a bit by preallocating z (so real)\n",
        "# python way even slower...\n",
        "N = 100000\n",
        "x = np.arange(0,N)\n",
        "y = np.arange(0,N)\n",
        "z=np.zeros(N)\n",
        "\n",
        "%timeit for i in range(N): z[i] = x[i]*y[i]\n"
      ],
      "execution_count": 0,
      "outputs": []
    },
    {
      "cell_type": "code",
      "metadata": {
        "colab_type": "code",
        "id": "zl1HSJylerBg",
        "colab": {}
      },
      "source": [
        "# numpy way \n",
        "\n",
        "N = 100000\n",
        "x = np.arange(0,N)\n",
        "y = np.arange(0,N)\n",
        "z=np.zeros(N)\n",
        "  \n",
        "%timeit z=x*y"
      ],
      "execution_count": 0,
      "outputs": []
    },
    {
      "cell_type": "markdown",
      "metadata": {
        "colab_type": "text",
        "id": "Gy_KZ3vvJEzE"
      },
      "source": [
        "### When dealing with muliple arrays of different data types, resulting array will take the form of the highest precision input array (upcasting)!\n"
      ]
    },
    {
      "cell_type": "code",
      "metadata": {
        "colab_type": "code",
        "id": "CrEaNjmQJEzF",
        "colab": {}
      },
      "source": [
        "# declare dtype as int32\n",
        "x = np.arange(10, dtype='int32')\n",
        "\n",
        "# this will default to float64\n",
        "y = np.random.randn(1,10)\n",
        "\n",
        "# now multiply the int32 array with the float64 array and answer should be the \n",
        "# higher precision of the two (float64)\n",
        "z = x * y \n",
        "print('z data type: ', z.dtype)"
      ],
      "execution_count": 0,
      "outputs": []
    },
    {
      "cell_type": "markdown",
      "metadata": {
        "colab_type": "text",
        "id": "NQUxNYcBJEzH"
      },
      "source": [
        "## Unary operations implemented as methods of the ndarray class"
      ]
    },
    {
      "cell_type": "code",
      "metadata": {
        "colab_type": "code",
        "id": "mXSKiAKdJEzI",
        "colab": {}
      },
      "source": [
        "# note the method chain...\n",
        "x = np.arange(10).reshape(2,5)   # 2 x 5 matrix\n",
        "\n",
        "print(x.sum())                   # sum of all elements\n",
        "print(x.sum(axis=0))             # sum of each column (across 1st dim)\n",
        "print(x.sum(axis=1))             # sum of each row (across 2nd dim)\n",
        "print(x.sum(0))                  # don't need the axis arg, can just specify"
      ],
      "execution_count": 0,
      "outputs": []
    },
    {
      "cell_type": "markdown",
      "metadata": {
        "colab_type": "text",
        "id": "cBxUI6kDJEzK"
      },
      "source": [
        "## Other common operations..."
      ]
    },
    {
      "cell_type": "markdown",
      "metadata": {
        "colab_type": "text",
        "id": "7mbvtJ-kJEzQ"
      },
      "source": [
        "## Set logic...."
      ]
    },
    {
      "cell_type": "code",
      "metadata": {
        "colab_type": "code",
        "id": "FSRFcH_NJEzR",
        "colab": {}
      },
      "source": [
        "x = np.arange(20)\n",
        "y = np.linspace(0, 20, 21)\n",
        "print(x.size)\n",
        "print(y.size)\n",
        "\n",
        "z = np.union1d(x,y)\n",
        "print(z, z.size)\n",
        "\n",
        "# z = np.intersect1d(x,y)\n",
        "# print(z)\n",
        "\n",
        "# z = np.unique([np.append(x,y)])\n",
        "# print(z)"
      ],
      "execution_count": 0,
      "outputs": []
    },
    {
      "cell_type": "markdown",
      "metadata": {
        "colab_type": "text",
        "id": "p4V2YuvtJEzU"
      },
      "source": [
        "## Slicing..."
      ]
    },
    {
      "cell_type": "code",
      "metadata": {
        "colab_type": "code",
        "id": "J6FZ_5u7b7lX",
        "colab": {}
      },
      "source": [
        "# create a 1d array\n",
        "x = np.linspace(0,9,10)\n",
        "print(x)\n",
        "x[1]                     # just the second entry, remember 0 based indexing\n",
        "\n",
        "# specific start and stop points (exclusive)\n",
        "x[0:2]                   # the first and second entries in the array, so N>=0 and N<2 (note the < upper bound - not inclusive)\n",
        "\n",
        "# assign the 2nd - 4th element to 100 (index 1,2,3)\n",
        "x[1:4] = 100               \n",
        "print(x[1:4])\n",
        "\n"
      ],
      "execution_count": 0,
      "outputs": []
    },
    {
      "cell_type": "markdown",
      "metadata": {
        "id": "qiMxn6S3rJTd",
        "colab_type": "text"
      },
      "source": [
        "### Step through a ndarray - similar to a list"
      ]
    },
    {
      "cell_type": "code",
      "metadata": {
        "id": "U0DYIDs5Bsyn",
        "colab_type": "code",
        "colab": {}
      },
      "source": [
        "# start, stop, step interval\n",
        "print(x[0:8:2])\n",
        "\n",
        "# reverse x\n",
        "print(x[::-1])"
      ],
      "execution_count": 0,
      "outputs": []
    },
    {
      "cell_type": "markdown",
      "metadata": {
        "id": "LJ7oKK_3rPsb",
        "colab_type": "text"
      },
      "source": [
        "## Iterate over elements in a ndarray...also similar to a list"
      ]
    },
    {
      "cell_type": "code",
      "metadata": {
        "id": "HE9JWTawrXxb",
        "colab_type": "code",
        "colab": {}
      },
      "source": [
        "# init an ndarray - in this case a 2x2 array\n",
        "x = np.array([(2,4),(5,6)])\n",
        "\n",
        "# iterate over all elements in 1D array x\n",
        "# iterating goes over the first dim (rows), and on each \n",
        "# loop it will print the entire row\n",
        "cnt = 0\n",
        "for i in x:\n",
        "  cnt+=1\n",
        "  print(i)    # then i takes the value of each element in x\n",
        "\n",
        "# only loops twice (once for each row)\n",
        "print(cnt)"
      ],
      "execution_count": 0,
      "outputs": []
    },
    {
      "cell_type": "markdown",
      "metadata": {
        "id": "5r2LEmc_sOzD",
        "colab_type": "text"
      },
      "source": [
        "### Can also flatten a ND array to print it out like 1D array"
      ]
    },
    {
      "cell_type": "code",
      "metadata": {
        "id": "1HQF1DRPsUo_",
        "colab_type": "code",
        "colab": {}
      },
      "source": [
        "# init an ndarray - in this case a 3x2 array (3 row, 2 columns)\n",
        "x = np.array([(2,4),(5,6),(12,19)])\n",
        "print(x)\n",
        "\n",
        "# then iterate over all entries in the array using 'flat'\n",
        "# will proceed along 1st row, then to 2nd row, etc. \n",
        "for i in x.flat:\n",
        "    print(i)"
      ],
      "execution_count": 0,
      "outputs": []
    },
    {
      "cell_type": "markdown",
      "metadata": {
        "colab_type": "text",
        "id": "Fd_dFqkQb7li"
      },
      "source": [
        "## Multidimentional array indexing, slicing etc"
      ]
    },
    {
      "cell_type": "code",
      "metadata": {
        "colab_type": "code",
        "id": "rmS19cX1b7lj",
        "colab": {}
      },
      "source": [
        "# generate a matrix of uniformly distributed random numbers over 0:10\n",
        "x = np.round(np.random.rand(10,5)*10)  \n",
        "print(x)\n",
        "\n",
        "x[0,0]     # first row, first column\n",
        "x[2,3]     # third row, 4th column\n",
        "\n",
        "x[:, 3]    # all entries in the 4th column \n",
        "x[3, :]    # all entries in the 4th row\n",
        "x[0:2, 4]  # first two entries of the 5th column\n",
        "x[6, 2:4]  # 7th row, 3rd and 4th entries. \n",
        "\n",
        "# if not all dims specified then missing values are considered complete slices\n",
        "# these three ways of writing all do the same thing...\n",
        "x[6]       \n",
        "x[6,]\n",
        "x[6,:]\n",
        "\n",
        "# tricks...\n",
        "print('last row: ', x[-1,:])     # last row\n",
        "print('last column: ', x[:,-1])  # last column\n",
        "print('last entry: ', x[-1,-1])  # last value"
      ],
      "execution_count": 0,
      "outputs": []
    },
    {
      "cell_type": "markdown",
      "metadata": {
        "colab_type": "text",
        "id": "34C4-Jhgb7lm"
      },
      "source": [
        "## Pull out subsets of rows and columns"
      ]
    },
    {
      "cell_type": "code",
      "metadata": {
        "colab_type": "code",
        "id": "N1PhyAAbb7ln",
        "colab": {}
      },
      "source": [
        "# generate a matrix of random numbers over 0-1\n",
        "x = np.random.rand(4,3) \n",
        "print(x)\n",
        "\n",
        "# first two rows - note that you don't have to specify the 2nd dim - and note that \n",
        "# '2' here means rows 0 and 1 (not 0 through 2!)\n",
        "y = x[:2] \n",
        "print('\\n', y)\n",
        "\n",
        "# can also take the last two rows...in the same manner...in this case rows 3 and 4\n",
        "y = x[2:] \n",
        "print('\\n', y)\n",
        "\n",
        "# first two rows, 1st column\n",
        "y = x[:2,0] \n",
        "print('\\n', y)\n",
        "\n",
        "# rows 3 - end, columns 2 - end\n",
        "y = x[2:,1:]\n",
        "print('\\n', y)"
      ],
      "execution_count": 0,
      "outputs": []
    },
    {
      "cell_type": "markdown",
      "metadata": {
        "colab_type": "text",
        "id": "pQyROZNOb7lq"
      },
      "source": [
        "\n",
        "## Important - slicing an array and re-assigning the output creates a view of the data, not a copy! \n",
        "* Recall that a 'view' is when two variables are both referencing the same data in memory\n",
        "* Because both variables are referencing the same data, changing one variable will also change the other...\n"
      ]
    },
    {
      "cell_type": "markdown",
      "metadata": {
        "id": "iRYMim5AvD2u",
        "colab_type": "text"
      },
      "source": [
        "####Init an array to demonstrate...in this case a 3x2 array"
      ]
    },
    {
      "cell_type": "code",
      "metadata": {
        "colab_type": "code",
        "id": "IzLJNy6vb7ls",
        "colab": {
          "base_uri": "https://localhost:8080/",
          "height": 88
        },
        "outputId": "ceb56685-bcaf-46d3-b4a4-3923385f0369"
      },
      "source": [
        "x = np.array([ [2,4], [6,7], [5,4] ])\n",
        "print('Initial values in x:\\n', x)"
      ],
      "execution_count": 60,
      "outputs": [
        {
          "output_type": "stream",
          "text": [
            "Initial values in x:\n",
            " [[2 4]\n",
            " [6 7]\n",
            " [5 4]]\n"
          ],
          "name": "stdout"
        }
      ]
    },
    {
      "cell_type": "markdown",
      "metadata": {
        "id": "95JuFbYnvurn",
        "colab_type": "text"
      },
      "source": [
        "####Then reassign all values in the 3rd row of x to a new variable z\n",
        "* z will be a 'view' of the data in the 3rd row of x"
      ]
    },
    {
      "cell_type": "code",
      "metadata": {
        "id": "KCFUm-ZuuThI",
        "colab_type": "code",
        "colab": {
          "base_uri": "https://localhost:8080/",
          "height": 35
        },
        "outputId": "19488f62-3b42-4944-db73-74f80e386dff"
      },
      "source": [
        "z = x[2,]\n",
        "print('Shape of z:', z.shape, 'Values in z:', z)"
      ],
      "execution_count": 61,
      "outputs": [
        {
          "output_type": "stream",
          "text": [
            "Shape of z: (2,) Values in z: [5 4]\n"
          ],
          "name": "stdout"
        }
      ]
    },
    {
      "cell_type": "markdown",
      "metadata": {
        "id": "4YzPf6sAv8Ht",
        "colab_type": "text"
      },
      "source": [
        "#### Now change all values in z to 100 (or whatever you want)\n",
        "* use the syntax z[:], which indicates \"all values in z\"\n",
        "* if you change data in z it will also change the corresponding elements in x because z references the same data (or chunk of memory) "
      ]
    },
    {
      "cell_type": "code",
      "metadata": {
        "id": "QvVuQmljuUyn",
        "colab_type": "code",
        "colab": {
          "base_uri": "https://localhost:8080/",
          "height": 35
        },
        "outputId": "8462aa64-219a-4bbb-eba1-6eb1888f40de"
      },
      "source": [
        "z[:]=100\n",
        "print('New values in z:', z)"
      ],
      "execution_count": 62,
      "outputs": [
        {
          "output_type": "stream",
          "text": [
            "New values in z: [100 100]\n"
          ],
          "name": "stdout"
        }
      ]
    },
    {
      "cell_type": "markdown",
      "metadata": {
        "id": "dBWrdrwnwR0Y",
        "colab_type": "text"
      },
      "source": [
        "#### Notice that x has now changed even though you never directly changed it!\n"
      ]
    },
    {
      "cell_type": "code",
      "metadata": {
        "id": "iWpzIB9zuWKt",
        "colab_type": "code",
        "colab": {
          "base_uri": "https://localhost:8080/",
          "height": 88
        },
        "outputId": "01e40def-9830-47c9-d19e-2d7398faaf91"
      },
      "source": [
        "print('x also changed!!!\\n', x)"
      ],
      "execution_count": 63,
      "outputs": [
        {
          "output_type": "stream",
          "text": [
            "x already changed!!!\n",
            " [[  2   4]\n",
            " [  6   7]\n",
            " [100 100]]\n"
          ],
          "name": "stdout"
        }
      ]
    },
    {
      "cell_type": "markdown",
      "metadata": {
        "id": "sy12XhXHwdVZ",
        "colab_type": "text"
      },
      "source": [
        "## If you want two independent variables that do not reference the same data, use the copy method"
      ]
    },
    {
      "cell_type": "code",
      "metadata": {
        "id": "XyiBEpMRyJ84",
        "colab_type": "code",
        "colab": {
          "base_uri": "https://localhost:8080/",
          "height": 70
        },
        "outputId": "c995a48c-e902-468b-b41a-4bee6d92c007"
      },
      "source": [
        "# re-initialize x\n",
        "x = np.array([ [2,4], [6,7], [5,4] ])\n",
        "\n",
        "# make a copy\n",
        "z = x[2,].copy()\n",
        "\n",
        "# now you can modify z\n",
        "z[:] = 100\n",
        "\n",
        "# and it won't change x\n",
        "print(x)"
      ],
      "execution_count": 64,
      "outputs": [
        {
          "output_type": "stream",
          "text": [
            "[[2 4]\n",
            " [6 7]\n",
            " [5 4]]\n"
          ],
          "name": "stdout"
        }
      ]
    },
    {
      "cell_type": "markdown",
      "metadata": {
        "id": "jRqZWLrytZiC",
        "colab_type": "text"
      },
      "source": [
        "## Logical indexing. \n",
        "* Just like with Pandas, we in NumPy we use '&' for  comparisons instead of 'and' and 'or'\n"
      ]
    },
    {
      "cell_type": "code",
      "metadata": {
        "colab_type": "code",
        "id": "9IyzlEVUWGsD",
        "colab": {}
      },
      "source": [
        "# using logical indexing to grab out subsets of data...\n",
        "x = np.arange(0,10)\n",
        "y = x[(x>3) & (x<7)]\n",
        "print(y)"
      ],
      "execution_count": 0,
      "outputs": []
    },
    {
      "cell_type": "markdown",
      "metadata": {
        "colab_type": "text",
        "id": "gxnvy6HTb7lw"
      },
      "source": [
        "## Fancy indexing...using arrays to index arrays - used all the time in data analysis...\n",
        "* Fancy indexing always makes a COPY of the data (unlike normal slicing which creates a view)!!!\n"
      ]
    },
    {
      "cell_type": "code",
      "metadata": {
        "colab_type": "code",
        "id": "bvcLDFGtb7lx",
        "colab": {
          "base_uri": "https://localhost:8080/",
          "height": 105
        },
        "outputId": "d5748afc-a45c-48a9-d909-b24e7ebd1a4c"
      },
      "source": [
        "# define an array to play around with...\n",
        "x = np.random.rand(3,4)\n",
        "\n",
        "# define another array (a tuple) to use as an index into the first array\n",
        "y = (2,3)\n",
        "\n",
        "# index  \n",
        "print(x)\n",
        "print('\\n x indexed at tuple y: ', x[y])"
      ],
      "execution_count": 69,
      "outputs": [
        {
          "output_type": "stream",
          "text": [
            "[[0.83889934 0.67091137 0.38517151 0.85997371]\n",
            " [0.96444577 0.28389397 0.67838352 0.2949165 ]\n",
            " [0.75012007 0.4044651  0.7150342  0.37731185]]\n",
            "\n",
            " x indexed at tuple y:  0.3773118482793033\n"
          ],
          "name": "stdout"
        }
      ]
    },
    {
      "cell_type": "markdown",
      "metadata": {
        "id": "gWRiFJ8R3ewr",
        "colab_type": "text"
      },
      "source": [
        "## Can use fancy indexing to extract elements in a particular order\n"
      ]
    },
    {
      "cell_type": "code",
      "metadata": {
        "colab_type": "code",
        "id": "iCP8C5a8b7l1",
        "colab": {}
      },
      "source": [
        "print(x)\n",
        "\n",
        "# this will extract the 3rd row, then the 2nd row, then the first row\n",
        "x[[2,1,0]]\n",
        "\n",
        "# and this will extract all rows from the 2nd, 3rd and then 1st column. \n",
        "x[:,[1,2,0]]"
      ],
      "execution_count": 0,
      "outputs": []
    },
    {
      "cell_type": "markdown",
      "metadata": {
        "id": "PtEb3Q5H3j8t",
        "colab_type": "text"
      },
      "source": [
        "## Or can pass in multiple arrays...will return a 1D array corresponding to each array [1,1] and [2,2] in this case"
      ]
    },
    {
      "cell_type": "code",
      "metadata": {
        "colab_type": "code",
        "id": "8W9vSsacb7l7",
        "colab": {}
      },
      "source": [
        "print(x)\n",
        "x[[1,2],[1,2]]"
      ],
      "execution_count": 0,
      "outputs": []
    }
  ]
}
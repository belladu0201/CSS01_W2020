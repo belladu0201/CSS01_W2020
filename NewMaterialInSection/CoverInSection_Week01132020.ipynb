{
  "nbformat": 4,
  "nbformat_minor": 0,
  "metadata": {
    "colab": {
      "name": "CoverInSection_Week01132020.ipynb",
      "provenance": [],
      "collapsed_sections": []
    },
    "kernelspec": {
      "name": "python3",
      "display_name": "Python 3"
    }
  },
  "cells": [
    {
      "cell_type": "markdown",
      "metadata": {
        "id": "OgZQam8vf0lL",
        "colab_type": "text"
      },
      "source": [
        "## Formatting strings, escape character, newline, tab\n"
      ]
    },
    {
      "cell_type": "code",
      "metadata": {
        "id": "q7svyiNS6D2Y",
        "colab_type": "code",
        "outputId": "c533aa56-b8ed-43ae-c99b-a4e4fb941855",
        "colab": {
          "base_uri": "https://localhost:8080/",
          "height": 68
        }
      },
      "source": [
        "label = \"bike type\"\n",
        "bike1 = \"cannondale\"\n",
        "bike2 = \"giant\"\n",
        "print(label + \"\\n\\t\" + bike1 + \"\\n\\t\" + bike2)"
      ],
      "execution_count": 0,
      "outputs": [
        {
          "output_type": "stream",
          "text": [
            "bike type\n",
            "\tcannondale\n",
            "\tgiant\n"
          ],
          "name": "stdout"
        }
      ]
    },
    {
      "cell_type": "markdown",
      "metadata": {
        "id": "MPxatQuBgh-j",
        "colab_type": "text"
      },
      "source": [
        "## Order of operations - paren, exp, mult, div, add, sub\n",
        "* use () to make the order explicit to avoid errors and to improve readability!"
      ]
    },
    {
      "cell_type": "code",
      "metadata": {
        "id": "aL_ayt3F9rrT",
        "colab_type": "code",
        "colab": {}
      },
      "source": [
        "# Order of operations: PEMDAS\n",
        "print(x + y*x)\n",
        "\n",
        "# better practice is to use () for readability\n",
        "print(x + (y*x))"
      ],
      "execution_count": 0,
      "outputs": []
    }
  ]
}
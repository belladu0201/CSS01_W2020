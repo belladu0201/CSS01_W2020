{
  "nbformat": 4,
  "nbformat_minor": 0,
  "metadata": {
    "colab": {
      "name": "Shreyas_notes_from_01212020.ipynb",
      "provenance": []
    },
    "kernelspec": {
      "name": "python3",
      "display_name": "Python 3"
    }
  },
  "cells": [
    {
      "cell_type": "markdown",
      "metadata": {
        "id": "SeOdjKGtIg_d",
        "colab_type": "text"
      },
      "source": [
        "#List\n",
        "\n",
        "\n",
        "*   append() - to add element in the end\n",
        "*   insert() - to add an element at a particular index\n",
        "*   pop() - to pop out an element from a particular index \n",
        "*   del - deletes a particular element from the list\n",
        "*   sort() - is a method, does in-place sorting\n",
        "*   sorted(object) - general fuction, returns new sorted list\n",
        "\n",
        "\n",
        "\n",
        "\n",
        "\n",
        "\n",
        "\n"
      ]
    },
    {
      "cell_type": "code",
      "metadata": {
        "id": "ElBSNJdAeSYI",
        "colab_type": "code",
        "outputId": "614ccfff-308f-4a36-b600-4846a3d39e2e",
        "colab": {
          "base_uri": "https://localhost:8080/",
          "height": 35
        }
      },
      "source": [
        "list_1 = [18, 20, 'May', 'June', 'July']\n",
        "list_1.append('August')\n",
        "print(list_1)"
      ],
      "execution_count": 0,
      "outputs": [
        {
          "output_type": "stream",
          "text": [
            "[18, 20, 'May', 'June', 'July', 'August']\n"
          ],
          "name": "stdout"
        }
      ]
    },
    {
      "cell_type": "code",
      "metadata": {
        "id": "yqzPWXMpeylt",
        "colab_type": "code",
        "outputId": "277702fd-1c86-4383-f62f-bb59cf90e092",
        "colab": {
          "base_uri": "https://localhost:8080/",
          "height": 35
        }
      },
      "source": [
        "list_1.insert(1,3)\n",
        "list_1"
      ],
      "execution_count": 0,
      "outputs": [
        {
          "output_type": "execute_result",
          "data": {
            "text/plain": [
              "[18, 3, 20, 'May', 'June', 'July', 'August']"
            ]
          },
          "metadata": {
            "tags": []
          },
          "execution_count": 2
        }
      ]
    },
    {
      "cell_type": "code",
      "metadata": {
        "id": "2siik25PezO_",
        "colab_type": "code",
        "outputId": "7d54e005-da84-4aa6-b78f-5d6d14ccc2c4",
        "colab": {
          "base_uri": "https://localhost:8080/",
          "height": 52
        }
      },
      "source": [
        "popped_element = list_1.pop(3)\n",
        "print(popped_element)\n",
        "print(list_1)\n"
      ],
      "execution_count": 0,
      "outputs": [
        {
          "output_type": "stream",
          "text": [
            "May\n",
            "[18, 3, 20, 'June', 'July', 'August']\n"
          ],
          "name": "stdout"
        }
      ]
    },
    {
      "cell_type": "code",
      "metadata": {
        "id": "NPd_FfsOfMzz",
        "colab_type": "code",
        "outputId": "6e4a391d-bc85-4763-ea2c-86a3850449d0",
        "colab": {
          "base_uri": "https://localhost:8080/",
          "height": 35
        }
      },
      "source": [
        "del list_1[0]\n",
        "list_1"
      ],
      "execution_count": 0,
      "outputs": [
        {
          "output_type": "execute_result",
          "data": {
            "text/plain": [
              "[3, 20, 'June', 'July', 'August']"
            ]
          },
          "metadata": {
            "tags": []
          },
          "execution_count": 4
        }
      ]
    },
    {
      "cell_type": "code",
      "metadata": {
        "id": "6OeqrxINT3tb",
        "colab_type": "code",
        "outputId": "e579cd84-61bd-43c9-c183-136f3336103f",
        "colab": {
          "base_uri": "https://localhost:8080/",
          "height": 35
        }
      },
      "source": [
        "list_2 = ['c', 'b', 'd', 'z']\n",
        "list_2.sort()\n",
        "list_2\n"
      ],
      "execution_count": 0,
      "outputs": [
        {
          "output_type": "execute_result",
          "data": {
            "text/plain": [
              "['b', 'c', 'd', 'z']"
            ]
          },
          "metadata": {
            "tags": []
          },
          "execution_count": 5
        }
      ]
    },
    {
      "cell_type": "code",
      "metadata": {
        "id": "1XxhLNyNULzQ",
        "colab_type": "code",
        "outputId": "d18fc12c-c758-4df1-9507-ae3f1363b78c",
        "colab": {
          "base_uri": "https://localhost:8080/",
          "height": 52
        }
      },
      "source": [
        "list_3 = [10, 6, 16, 3]\n",
        "sorted_list = sorted(list_3)\n",
        "print(sorted_list)\n",
        "print(list_3)"
      ],
      "execution_count": 0,
      "outputs": [
        {
          "output_type": "stream",
          "text": [
            "[3, 6, 10, 16]\n",
            "[10, 6, 16, 3]\n"
          ],
          "name": "stdout"
        }
      ]
    },
    {
      "cell_type": "markdown",
      "metadata": {
        "id": "g_NPz8XHK6cB",
        "colab_type": "text"
      },
      "source": [
        "#Tuple\n",
        "Immutable container"
      ]
    },
    {
      "cell_type": "code",
      "metadata": {
        "id": "ca18zkzhK3-5",
        "colab_type": "code",
        "outputId": "d3e8eb9b-0a10-4274-a601-8c02ed495c26",
        "colab": {
          "base_uri": "https://localhost:8080/",
          "height": 35
        }
      },
      "source": [
        "tuple_1 = (1, 2, 3, 4, 5)\n",
        "tuple_1"
      ],
      "execution_count": 0,
      "outputs": [
        {
          "output_type": "execute_result",
          "data": {
            "text/plain": [
              "(1, 2, 3, 4, 5)"
            ]
          },
          "metadata": {
            "tags": []
          },
          "execution_count": 7
        }
      ]
    },
    {
      "cell_type": "code",
      "metadata": {
        "id": "9b9yYew8LG1H",
        "colab_type": "code",
        "outputId": "e8dc7279-c60c-402b-ee42-51dcde6c1f0f",
        "colab": {
          "base_uri": "https://localhost:8080/",
          "height": 35
        }
      },
      "source": [
        "print(tuple_1[3])"
      ],
      "execution_count": 0,
      "outputs": [
        {
          "output_type": "stream",
          "text": [
            "4\n"
          ],
          "name": "stdout"
        }
      ]
    },
    {
      "cell_type": "code",
      "metadata": {
        "id": "7OZzQncALPkm",
        "colab_type": "code",
        "outputId": "796ac6e9-6a45-4284-9713-e92aa6b0250c",
        "colab": {
          "base_uri": "https://localhost:8080/",
          "height": 35
        }
      },
      "source": [
        "tuple_1 = (10,20)\n",
        "tuple_1\n"
      ],
      "execution_count": 0,
      "outputs": [
        {
          "output_type": "execute_result",
          "data": {
            "text/plain": [
              "(10, 20)"
            ]
          },
          "metadata": {
            "tags": []
          },
          "execution_count": 10
        }
      ]
    },
    {
      "cell_type": "markdown",
      "metadata": {
        "id": "EUavunQWLYHy",
        "colab_type": "text"
      },
      "source": [
        "#Range\n",
        "(start value, stop value(non inclusive), step size)"
      ]
    },
    {
      "cell_type": "code",
      "metadata": {
        "id": "UpzDyk3bLn4D",
        "colab_type": "code",
        "outputId": "65a57b45-1d0b-4cee-c84f-c03cca8f7262",
        "colab": {
          "base_uri": "https://localhost:8080/",
          "height": 35
        }
      },
      "source": [
        "x = range(1,15)\n",
        "print(x)"
      ],
      "execution_count": 0,
      "outputs": [
        {
          "output_type": "stream",
          "text": [
            "range(1, 15)\n"
          ],
          "name": "stdout"
        }
      ]
    },
    {
      "cell_type": "code",
      "metadata": {
        "id": "PMe3ulFQMs9y",
        "colab_type": "code",
        "outputId": "25566196-eda1-425d-e189-4705fbe70719",
        "colab": {
          "base_uri": "https://localhost:8080/",
          "height": 35
        }
      },
      "source": [
        "y = list(x)\n",
        "print(y)"
      ],
      "execution_count": 0,
      "outputs": [
        {
          "output_type": "stream",
          "text": [
            "[1, 2, 3, 4, 5, 6, 7, 8, 9, 10, 11, 12, 13, 14]\n"
          ],
          "name": "stdout"
        }
      ]
    },
    {
      "cell_type": "code",
      "metadata": {
        "id": "v4xOyBkxM4za",
        "colab_type": "code",
        "outputId": "fe71a11f-6f28-4a54-d7c9-6e6ad8faea5c",
        "colab": {
          "base_uri": "https://localhost:8080/",
          "height": 35
        }
      },
      "source": [
        "z = tuple(x)\n",
        "z"
      ],
      "execution_count": 0,
      "outputs": [
        {
          "output_type": "execute_result",
          "data": {
            "text/plain": [
              "(1, 2, 3, 4, 5, 6, 7, 8, 9, 10, 11, 12, 13, 14)"
            ]
          },
          "metadata": {
            "tags": []
          },
          "execution_count": 13
        }
      ]
    },
    {
      "cell_type": "code",
      "metadata": {
        "id": "0m3huv1BNFgr",
        "colab_type": "code",
        "outputId": "bf21905b-e027-4ab5-caab-17b955e8c614",
        "colab": {
          "base_uri": "https://localhost:8080/",
          "height": 35
        }
      },
      "source": [
        "increment_2 = list(range(1,15,2))\n",
        "increment_2"
      ],
      "execution_count": 0,
      "outputs": [
        {
          "output_type": "execute_result",
          "data": {
            "text/plain": [
              "[1, 3, 5, 7, 9, 11, 13]"
            ]
          },
          "metadata": {
            "tags": []
          },
          "execution_count": 14
        }
      ]
    },
    {
      "cell_type": "markdown",
      "metadata": {
        "id": "BmV0TTGrUtHt",
        "colab_type": "text"
      },
      "source": [
        "#List indexing and slicing"
      ]
    },
    {
      "cell_type": "code",
      "metadata": {
        "id": "eyqafk0rNfe8",
        "colab_type": "code",
        "outputId": "f4651cd6-cb13-471b-a60d-7fd836e4fb8c",
        "colab": {
          "base_uri": "https://localhost:8080/",
          "height": 35
        }
      },
      "source": [
        "print(increment_2[-2])"
      ],
      "execution_count": 0,
      "outputs": [
        {
          "output_type": "stream",
          "text": [
            "11\n"
          ],
          "name": "stdout"
        }
      ]
    },
    {
      "cell_type": "code",
      "metadata": {
        "id": "yimD8DXDNuvD",
        "colab_type": "code",
        "outputId": "c6e62895-036f-47f2-ee26-7cd100f833b8",
        "colab": {
          "base_uri": "https://localhost:8080/",
          "height": 35
        }
      },
      "source": [
        "seq = list(range(0,15))\n",
        "seq"
      ],
      "execution_count": 0,
      "outputs": [
        {
          "output_type": "execute_result",
          "data": {
            "text/plain": [
              "[0, 1, 2, 3, 4, 5, 6, 7, 8, 9, 10, 11, 12, 13, 14]"
            ]
          },
          "metadata": {
            "tags": []
          },
          "execution_count": 17
        }
      ]
    },
    {
      "cell_type": "code",
      "metadata": {
        "id": "_hWKrTCMOYuT",
        "colab_type": "code",
        "outputId": "ed71198c-5cfe-4149-decf-aa95a8edfe62",
        "colab": {
          "base_uri": "https://localhost:8080/",
          "height": 35
        }
      },
      "source": [
        "print(seq[3:6])"
      ],
      "execution_count": 0,
      "outputs": [
        {
          "output_type": "stream",
          "text": [
            "[3, 4, 5]\n"
          ],
          "name": "stdout"
        }
      ]
    },
    {
      "cell_type": "code",
      "metadata": {
        "id": "I-lYnI9VOgCm",
        "colab_type": "code",
        "outputId": "bd370f54-51ea-4399-99e1-76a1be54f1c6",
        "colab": {
          "base_uri": "https://localhost:8080/",
          "height": 35
        }
      },
      "source": [
        "print(seq[3:])"
      ],
      "execution_count": 0,
      "outputs": [
        {
          "output_type": "stream",
          "text": [
            "[3, 4, 5, 6, 7, 8, 9, 10, 11, 12, 13, 14]\n"
          ],
          "name": "stdout"
        }
      ]
    },
    {
      "cell_type": "code",
      "metadata": {
        "id": "Z3d_eCcGOmjU",
        "colab_type": "code",
        "outputId": "8c2fe6b4-b8ad-4764-d9f5-e417203c308c",
        "colab": {
          "base_uri": "https://localhost:8080/",
          "height": 35
        }
      },
      "source": [
        "print(seq[:3])"
      ],
      "execution_count": 0,
      "outputs": [
        {
          "output_type": "stream",
          "text": [
            "[0, 1, 2]\n"
          ],
          "name": "stdout"
        }
      ]
    },
    {
      "cell_type": "code",
      "metadata": {
        "id": "BqONG-MbOuEP",
        "colab_type": "code",
        "outputId": "bdf639a5-dda1-4e27-e463-a8dd9cc6cf1c",
        "colab": {
          "base_uri": "https://localhost:8080/",
          "height": 35
        }
      },
      "source": [
        "print(seq[3:7:2])"
      ],
      "execution_count": 0,
      "outputs": [
        {
          "output_type": "stream",
          "text": [
            "[3, 5]\n"
          ],
          "name": "stdout"
        }
      ]
    },
    {
      "cell_type": "code",
      "metadata": {
        "id": "VPH9iG38N_Ib",
        "colab_type": "code",
        "outputId": "2b5d2059-d112-4872-9b24-a72361f91558",
        "colab": {
          "base_uri": "https://localhost:8080/",
          "height": 35
        }
      },
      "source": [
        "print(seq[0:10:2])"
      ],
      "execution_count": 0,
      "outputs": [
        {
          "output_type": "stream",
          "text": [
            "[0, 2, 4, 6, 8]\n"
          ],
          "name": "stdout"
        }
      ]
    },
    {
      "cell_type": "code",
      "metadata": {
        "id": "v0Twqp1AfFgF",
        "colab_type": "code",
        "outputId": "6937dd39-1b9e-4e0b-f6a5-d36fe14e5ae3",
        "colab": {
          "base_uri": "https://localhost:8080/",
          "height": 35
        }
      },
      "source": [
        "print(seq[::-2])"
      ],
      "execution_count": 0,
      "outputs": [
        {
          "output_type": "stream",
          "text": [
            "[14, 12, 10, 8, 6, 4, 2, 0]\n"
          ],
          "name": "stdout"
        }
      ]
    },
    {
      "cell_type": "code",
      "metadata": {
        "id": "EnxaAkpgeahT",
        "colab_type": "code",
        "outputId": "169fa0b2-8a94-462b-daac-288618423340",
        "colab": {
          "base_uri": "https://localhost:8080/",
          "height": 35
        }
      },
      "source": [
        "y = [[1,2,3],[10,20,30],[100,200,300]]\n",
        "print(y[0][2])"
      ],
      "execution_count": 0,
      "outputs": [
        {
          "output_type": "stream",
          "text": [
            "3\n"
          ],
          "name": "stdout"
        }
      ]
    },
    {
      "cell_type": "markdown",
      "metadata": {
        "id": "oS8OKrzYclr7",
        "colab_type": "text"
      },
      "source": [
        "#'in' and 'not in' operators\n",
        "Boolean operators"
      ]
    },
    {
      "cell_type": "code",
      "metadata": {
        "id": "OjUWmAmgcrz8",
        "colab_type": "code",
        "outputId": "530c73f9-a74c-4d02-c88c-38a9c7402ad6",
        "colab": {
          "base_uri": "https://localhost:8080/",
          "height": 52
        }
      },
      "source": [
        "print(3 in seq)\n",
        "print(15 not in seq)"
      ],
      "execution_count": 0,
      "outputs": [
        {
          "output_type": "stream",
          "text": [
            "True\n",
            "True\n"
          ],
          "name": "stdout"
        }
      ]
    },
    {
      "cell_type": "markdown",
      "metadata": {
        "id": "i3xXldODdUpn",
        "colab_type": "text"
      },
      "source": [
        "#Views and copies"
      ]
    },
    {
      "cell_type": "code",
      "metadata": {
        "id": "4UQBcp4pc-5R",
        "colab_type": "code",
        "outputId": "c526c928-45d6-44a5-af19-be4e97854a62",
        "colab": {
          "base_uri": "https://localhost:8080/",
          "height": 52
        }
      },
      "source": [
        "my_view = seq\n",
        "my_view[3] = 100\n",
        "print(my_view)\n",
        "print(seq)"
      ],
      "execution_count": 0,
      "outputs": [
        {
          "output_type": "stream",
          "text": [
            "[0, 1, 2, 100, 4, 5, 6, 7, 8, 9, 10, 11, 12, 13, 14]\n",
            "[0, 1, 2, 100, 4, 5, 6, 7, 8, 9, 10, 11, 12, 13, 14]\n"
          ],
          "name": "stdout"
        }
      ]
    },
    {
      "cell_type": "code",
      "metadata": {
        "id": "div8ADxEdi9A",
        "colab_type": "code",
        "outputId": "aeb105e7-e8d3-43e8-e840-495ffd23c6b0",
        "colab": {
          "base_uri": "https://localhost:8080/",
          "height": 235
        }
      },
      "source": [
        "tup = (1,2,3)\n",
        "my_copy1 = tup.copy()\n",
        "my_copy2 = seq[:]\n",
        "my_copy2[2] = 50\n",
        "print(my_copy1)\n",
        "print(seq)"
      ],
      "execution_count": 0,
      "outputs": [
        {
          "output_type": "error",
          "ename": "AttributeError",
          "evalue": "ignored",
          "traceback": [
            "\u001b[0;31m---------------------------------------------------------------------------\u001b[0m",
            "\u001b[0;31mAttributeError\u001b[0m                            Traceback (most recent call last)",
            "\u001b[0;32m<ipython-input-31-b7bc048d3f36>\u001b[0m in \u001b[0;36m<module>\u001b[0;34m()\u001b[0m\n\u001b[1;32m      1\u001b[0m \u001b[0mtup\u001b[0m \u001b[0;34m=\u001b[0m \u001b[0;34m(\u001b[0m\u001b[0;36m1\u001b[0m\u001b[0;34m,\u001b[0m\u001b[0;36m2\u001b[0m\u001b[0;34m,\u001b[0m\u001b[0;36m3\u001b[0m\u001b[0;34m)\u001b[0m\u001b[0;34m\u001b[0m\u001b[0;34m\u001b[0m\u001b[0m\n\u001b[0;32m----> 2\u001b[0;31m \u001b[0mmy_copy1\u001b[0m \u001b[0;34m=\u001b[0m \u001b[0mtup\u001b[0m\u001b[0;34m.\u001b[0m\u001b[0mcopy\u001b[0m\u001b[0;34m(\u001b[0m\u001b[0;34m)\u001b[0m\u001b[0;34m\u001b[0m\u001b[0;34m\u001b[0m\u001b[0m\n\u001b[0m\u001b[1;32m      3\u001b[0m \u001b[0mmy_copy2\u001b[0m \u001b[0;34m=\u001b[0m \u001b[0mseq\u001b[0m\u001b[0;34m[\u001b[0m\u001b[0;34m:\u001b[0m\u001b[0;34m]\u001b[0m\u001b[0;34m\u001b[0m\u001b[0;34m\u001b[0m\u001b[0m\n\u001b[1;32m      4\u001b[0m \u001b[0mmy_copy2\u001b[0m\u001b[0;34m[\u001b[0m\u001b[0;36m2\u001b[0m\u001b[0;34m]\u001b[0m \u001b[0;34m=\u001b[0m \u001b[0;36m50\u001b[0m\u001b[0;34m\u001b[0m\u001b[0;34m\u001b[0m\u001b[0m\n\u001b[1;32m      5\u001b[0m \u001b[0mprint\u001b[0m\u001b[0;34m(\u001b[0m\u001b[0mmy_copy1\u001b[0m\u001b[0;34m)\u001b[0m\u001b[0;34m\u001b[0m\u001b[0;34m\u001b[0m\u001b[0m\n",
            "\u001b[0;31mAttributeError\u001b[0m: 'tuple' object has no attribute 'copy'"
          ]
        }
      ]
    },
    {
      "cell_type": "code",
      "metadata": {
        "id": "80cuQQCOeRK7",
        "colab_type": "code",
        "colab": {}
      },
      "source": [
        ""
      ],
      "execution_count": 0,
      "outputs": []
    }
  ]
}